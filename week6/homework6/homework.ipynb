{
 "cells": [
  {
   "cell_type": "markdown",
   "metadata": {},
   "source": [
    "#1"
   ]
  },
  {
   "cell_type": "code",
   "execution_count": 7,
   "metadata": {},
   "outputs": [
    {
     "name": "stdout",
     "output_type": "stream",
     "text": [
      "No module named 'datetim'\n"
     ]
    }
   ],
   "source": [
    "try:\n",
    "    import datetim\n",
    "except ModuleNotFoundError as ex:\n",
    "    print(ex)"
   ]
  },
  {
   "cell_type": "markdown",
   "metadata": {},
   "source": [
    "#2"
   ]
  },
  {
   "cell_type": "code",
   "execution_count": 6,
   "metadata": {},
   "outputs": [
    {
     "ename": "AssertionError",
     "evalue": "Can’t divide",
     "output_type": "error",
     "traceback": [
      "\u001b[1;31m---------------------------------------------------------------------------\u001b[0m",
      "\u001b[1;31mAssertionError\u001b[0m                            Traceback (most recent call last)",
      "\u001b[1;32m<ipython-input-6-aa4d1b3a4f8c>\u001b[0m in \u001b[0;36m<module>\u001b[1;34m\u001b[0m\n\u001b[0;32m      2\u001b[0m     \u001b[1;32massert\u001b[0m \u001b[0my\u001b[0m\u001b[1;33m!=\u001b[0m\u001b[1;36m0\u001b[0m\u001b[1;33m,\u001b[0m \u001b[1;34m\"Can’t divide\"\u001b[0m\u001b[1;33m\u001b[0m\u001b[1;33m\u001b[0m\u001b[0m\n\u001b[0;32m      3\u001b[0m     \u001b[1;32mreturn\u001b[0m \u001b[0mx\u001b[0m\u001b[1;33m/\u001b[0m\u001b[0my\u001b[0m\u001b[1;33m\u001b[0m\u001b[1;33m\u001b[0m\u001b[0m\n\u001b[1;32m----> 4\u001b[1;33m \u001b[0mdiv\u001b[0m\u001b[1;33m(\u001b[0m\u001b[1;36m12\u001b[0m\u001b[1;33m,\u001b[0m\u001b[1;36m0\u001b[0m\u001b[1;33m)\u001b[0m\u001b[1;33m\u001b[0m\u001b[1;33m\u001b[0m\u001b[0m\n\u001b[0m",
      "\u001b[1;32m<ipython-input-6-aa4d1b3a4f8c>\u001b[0m in \u001b[0;36mdiv\u001b[1;34m(x, y)\u001b[0m\n\u001b[0;32m      1\u001b[0m \u001b[1;32mdef\u001b[0m \u001b[0mdiv\u001b[0m\u001b[1;33m(\u001b[0m\u001b[0mx\u001b[0m\u001b[1;33m,\u001b[0m\u001b[0my\u001b[0m\u001b[1;33m)\u001b[0m\u001b[1;33m:\u001b[0m\u001b[1;33m\u001b[0m\u001b[1;33m\u001b[0m\u001b[0m\n\u001b[1;32m----> 2\u001b[1;33m     \u001b[1;32massert\u001b[0m \u001b[0my\u001b[0m\u001b[1;33m!=\u001b[0m\u001b[1;36m0\u001b[0m\u001b[1;33m,\u001b[0m \u001b[1;34m\"Can’t divide\"\u001b[0m\u001b[1;33m\u001b[0m\u001b[1;33m\u001b[0m\u001b[0m\n\u001b[0m\u001b[0;32m      3\u001b[0m     \u001b[1;32mreturn\u001b[0m \u001b[0mx\u001b[0m\u001b[1;33m/\u001b[0m\u001b[0my\u001b[0m\u001b[1;33m\u001b[0m\u001b[1;33m\u001b[0m\u001b[0m\n\u001b[0;32m      4\u001b[0m \u001b[0mdiv\u001b[0m\u001b[1;33m(\u001b[0m\u001b[1;36m12\u001b[0m\u001b[1;33m,\u001b[0m\u001b[1;36m0\u001b[0m\u001b[1;33m)\u001b[0m\u001b[1;33m\u001b[0m\u001b[1;33m\u001b[0m\u001b[0m\n",
      "\u001b[1;31mAssertionError\u001b[0m: Can’t divide"
     ]
    }
   ],
   "source": [
    "def div(x,y):\n",
    "    assert y!=0, \"Can’t divide\"\n",
    "    return x/y\n",
    "div(12,0)"
   ]
  },
  {
   "cell_type": "markdown",
   "metadata": {},
   "source": [
    "#3"
   ]
  },
  {
   "cell_type": "code",
   "execution_count": 7,
   "metadata": {},
   "outputs": [
    {
     "name": "stdout",
     "output_type": "stream",
     "text": [
      "Welcome dear  rtur\n",
      "Func time= 0:00:00.003999\n",
      "'str' object has no attribute 'name'\n",
      "Func time= 0:00:00.000995\n",
      "Bye everyone!\n",
      "My favourite number is 13\n",
      "[Errno 2] No such file or directory: 'test1.txt'\n",
      "Testpassword\n"
     ]
    }
   ],
   "source": [
    "import datetime\n",
    "class Person:\n",
    "    def __init__(self,name , last_name , age , gender,student,__password) :\n",
    "        self.name=name\n",
    "        self.last_name=last_name\n",
    "        self.age=age\n",
    "        self.gender=gender\n",
    "        self.student=student\n",
    "        self.__password=__password\n",
    "        \n",
    "    def dec(fn):\n",
    "        \n",
    "        def wrapers(*arg,**kwargs):\n",
    "            startdate=datetime.datetime.now()\n",
    "            fn(*arg,**kwargs)\n",
    "            enddt=datetime.datetime.now()\n",
    "            print('Func time=',enddt-startdate)\n",
    "           \n",
    "        return wrapers\n",
    "    @dec        \n",
    "    def Greeting(self, second_person):\n",
    "        try:\n",
    "            self.name=second_person.name\n",
    "            print('Welcome dear ',self.name)\n",
    "        except Exception as ex:\n",
    "            print(ex)\n",
    "       \n",
    "    def Goodbye(self):\n",
    "        print('Bye everyone!')\n",
    "       \n",
    "    def Favourite_num(self, num1):\n",
    "        print('My favourite number is',num1)\n",
    "    def Set(self,setpassw):\n",
    "        self.__password=setpassw\n",
    "    def Get(self):\n",
    "        print(self.__password)\n",
    "        \n",
    "       \n",
    "    def Read_file(self, filename):\n",
    "        filename+='.txt'\n",
    "        try:\n",
    "            f=open(filename,'r') \n",
    "            c=f.read()\n",
    "            print('Text file content is',c)\n",
    "        except FileNotFoundError as ex:\n",
    "            print(ex)\n",
    "            \n",
    "            \n",
    "p=Person('artur','gyu',13,'male',1,14)  \n",
    "d=Person('rtur','gyu',13,'male',1,14) \n",
    "Person.Greeting(p,d)\n",
    "p.Greeting('test')\n",
    "\n",
    "p.Goodbye()\n",
    "p.Favourite_num(13)\n",
    "p.Read_file('test1')\n",
    "d.Set('Testpassword')\n",
    "d.Get()\n",
    "        "
   ]
  },
  {
   "cell_type": "code",
   "execution_count": null,
   "metadata": {},
   "outputs": [],
   "source": []
  },
  {
   "cell_type": "code",
   "execution_count": null,
   "metadata": {},
   "outputs": [],
   "source": []
  }
 ],
 "metadata": {
  "kernelspec": {
   "display_name": "Python 3",
   "language": "python",
   "name": "python3"
  },
  "language_info": {
   "codemirror_mode": {
    "name": "ipython",
    "version": 3
   },
   "file_extension": ".py",
   "mimetype": "text/x-python",
   "name": "python",
   "nbconvert_exporter": "python",
   "pygments_lexer": "ipython3",
   "version": "3.7.3"
  }
 },
 "nbformat": 4,
 "nbformat_minor": 2
}
