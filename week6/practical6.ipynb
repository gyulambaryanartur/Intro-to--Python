{
 "cells": [
  {
   "cell_type": "markdown",
   "metadata": {},
   "source": [
    "#1\n"
   ]
  },
  {
   "cell_type": "code",
   "execution_count": null,
   "metadata": {},
   "outputs": [],
   "source": [
    "class Circle:\n",
    "    def __init__(self):\n",
    "        self.radius=2\n",
    "        self.colour='green'\n",
    "       \n",
    "    def getDesc(self):\n",
    "        print(f'A {self.radius} circle with radius {self.colour}')\n",
    "        \n",
    "        "
   ]
  },
  {
   "cell_type": "code",
   "execution_count": null,
   "metadata": {},
   "outputs": [],
   "source": [
    "c=Circle()\n",
    "c.getDesc()"
   ]
  },
  {
   "cell_type": "markdown",
   "metadata": {},
   "source": [
    "#2"
   ]
  },
  {
   "cell_type": "code",
   "execution_count": null,
   "metadata": {},
   "outputs": [],
   "source": [
    "class a:\n",
    "    \n",
    "    def get_String(self):\n",
    "        self.strn=input(\"Input string:\")\n",
    "    def print_String(self):\n",
    "        self.get_String()\n",
    "        print(self.strn.upper())"
   ]
  },
  {
   "cell_type": "code",
   "execution_count": null,
   "metadata": {},
   "outputs": [],
   "source": [
    "s=a()\n",
    "s.print_String()"
   ]
  },
  {
   "cell_type": "markdown",
   "metadata": {},
   "source": [
    "#3"
   ]
  },
  {
   "cell_type": "code",
   "execution_count": null,
   "metadata": {},
   "outputs": [],
   "source": [
    "class Employee:\n",
    "    def __init__(self,name, last_name):\n",
    "        self.name=name\n",
    "        self.last_name=last_name\n",
    "        self.__monthly_salary=1000000\n",
    "       \n",
    "    def getFullName(self):\n",
    "        return self.name,self.last_name\n",
    "    def annualSalary(self):\n",
    "        if self.__monthly_salary*12 >100:\n",
    "            print(f'Hi,{self.name} {self.last_name} get High salary')\n",
    "           \n",
    "        else:\n",
    "             print(f'Hi,{self.name} {self.last_name} get Low salary')\n",
    "    \n",
    "        "
   ]
  },
  {
   "cell_type": "code",
   "execution_count": null,
   "metadata": {},
   "outputs": [],
   "source": [
    "emp=Employee('Artur','Gyulambaryan')\n",
    "emp.annualSalary()\n"
   ]
  },
  {
   "cell_type": "markdown",
   "metadata": {},
   "source": [
    "#4"
   ]
  },
  {
   "cell_type": "code",
   "execution_count": null,
   "metadata": {},
   "outputs": [],
   "source": [
    "class car:\n",
    "    def __init__(self,max_speed):\n",
    "        self.model='Mercedes'\n",
    "        self.color='white' \n",
    "        self.max_speed=max_speed\n",
    "    def compareCar(self, car2) :\n",
    "        if isinstance(car2,car):\n",
    "            \n",
    "            if self.max_speed>car2.max_speed:\n",
    "                print('car1 is better than car2')\n",
    "            else:\n",
    "                print('car2 is better than car1')\n",
    "            \n",
    "            \n",
    "            "
   ]
  },
  {
   "cell_type": "code",
   "execution_count": null,
   "metadata": {},
   "outputs": [],
   "source": [
    "car1=car(200)\n",
    "car2=car(2009)\n",
    "car1.max_speed\n",
    "\n",
    "car.compareCar(car1,car2)"
   ]
  },
  {
   "cell_type": "markdown",
   "metadata": {},
   "source": [
    "#5"
   ]
  },
  {
   "cell_type": "code",
   "execution_count": null,
   "metadata": {},
   "outputs": [],
   "source": [
    "class Police_car:\n",
    "    def __init__(self,owner, price ):\n",
    "        self.owner=owner\n",
    "        self.price=price\n",
    "        self.__passcode='admin'\n",
    "       \n",
    "    tax_value=0.2\n",
    "    def tax(self):\n",
    "        return self.tax_value * self.price\n",
    "    def greetings(self):\n",
    "        if self.__passcode =='admin':\n",
    "            print(f'Welcome to your car, {self.owner}')\n",
    "    def set1(self,newpass):\n",
    "           self.__passcode=newpass\n",
    "    def get1(self):\n",
    "        print(self.__passcode)"
   ]
  },
  {
   "cell_type": "code",
   "execution_count": null,
   "metadata": {},
   "outputs": [],
   "source": [
    "ca=Police_car('art',200)\n",
    "ca.tax()\n",
    "ca.set1('aa')\n",
    "ca.get1()\n"
   ]
  },
  {
   "cell_type": "code",
   "execution_count": null,
   "metadata": {},
   "outputs": [],
   "source": [
    "#Assertions 1"
   ]
  },
  {
   "cell_type": "code",
   "execution_count": null,
   "metadata": {},
   "outputs": [],
   "source": [
    "#day=('Monday', 'Tuesday')\n",
    "def  Alarm(day):\n",
    "    assert 'Sunday' != day,'I won’t wake you up today!'\n",
    "    return 'I will wake up'\n",
    "        \n"
   ]
  },
  {
   "cell_type": "code",
   "execution_count": null,
   "metadata": {},
   "outputs": [],
   "source": [
    "Alarm('Sunda')"
   ]
  },
  {
   "cell_type": "markdown",
   "metadata": {},
   "source": [
    "#2"
   ]
  },
  {
   "cell_type": "code",
   "execution_count": null,
   "metadata": {},
   "outputs": [],
   "source": [
    "def summ(x,y):\n",
    "    assert  isinstance(x,int) and  isinstance(y,int), 'Arguments of type int required.'\n",
    "    return x+y\n",
    "        "
   ]
  },
  {
   "cell_type": "code",
   "execution_count": null,
   "metadata": {},
   "outputs": [],
   "source": [
    "summ(1,2.3)"
   ]
  },
  {
   "cell_type": "markdown",
   "metadata": {},
   "source": [
    "#3"
   ]
  },
  {
   "cell_type": "code",
   "execution_count": null,
   "metadata": {},
   "outputs": [],
   "source": [
    "list1= [3, 3, 2,2]\n",
    "list2=[]\n",
    "isexcept=True\n",
    "for i in list1:\n",
    "    try:\n",
    "        list2.append(1/i)\n",
    "       \n",
    "    except Exception as ex:\n",
    "        print('Oops! The exception that occured',ex)\n",
    "        isexcept=False\n",
    "    \n",
    "       \n",
    "   \n",
    "print('the current entry of the',list2)\n",
    "if isexcept:\n",
    "        print('The reciprocal of the current entry of the list is the value of the reciprocal')\n",
    "        "
   ]
  },
  {
   "cell_type": "markdown",
   "metadata": {},
   "source": [
    "#4"
   ]
  },
  {
   "cell_type": "code",
   "execution_count": null,
   "metadata": {},
   "outputs": [],
   "source": [
    "username=input('Give us Username:')\n",
    "class Myexcept(Exception):\n",
    "    pass\n",
    "\n",
    "try :\n",
    "    if username=='Rambo':\n",
    "        raise Myexcept('Rambo is an invalid username')\n",
    "       \n",
    "    else:\n",
    "        print(f'Weclome {username} !')\n",
    "    \n",
    "   \n",
    "except Exception as ex:\n",
    "    print(ex)\n",
    "       \n",
    "\n",
    "    \n",
    "        \n"
   ]
  },
  {
   "cell_type": "code",
   "execution_count": 3,
   "metadata": {},
   "outputs": [
    {
     "name": "stdout",
     "output_type": "stream",
     "text": [
      "News\n",
      "0\n"
     ]
    }
   ],
   "source": [
    "s=0\n",
    "def st(s):\n",
    "    s='News'\n",
    "    print(s)\n",
    "st('sa')\n",
    "print(s)\n"
   ]
  },
  {
   "cell_type": "code",
   "execution_count": null,
   "metadata": {},
   "outputs": [],
   "source": [
    "s = 'lala'\n",
    "st(s)\n",
    "print(s)"
   ]
  },
  {
   "cell_type": "code",
   "execution_count": null,
   "metadata": {},
   "outputs": [],
   "source": [
    "a"
   ]
  }
 ],
 "metadata": {
  "kernelspec": {
   "display_name": "Python 3",
   "language": "python",
   "name": "python3"
  }
 },
 "nbformat": 4,
 "nbformat_minor": 2
}
