{
 "cells": [
  {
   "cell_type": "markdown",
   "metadata": {},
   "source": [
    "#1\n"
   ]
  },
  {
   "cell_type": "code",
   "execution_count": null,
   "metadata": {},
   "outputs": [],
   "source": [
    "class Circle:\n",
    "    def __init__(self):\n",
    "        self.radius=2\n",
    "        self.colour='green'\n",
    "       \n",
    "    def getDesc(self):\n",
    "        print(f'A {self.radius} circle with radius {self.colour}')\n",
    "        \n",
    "        "
   ]
  },
  {
   "cell_type": "code",
   "execution_count": null,
   "metadata": {},
   "outputs": [],
   "source": [
    "c=Circle()\n",
    "c.getDesc()"
   ]
  },
  {
   "cell_type": "markdown",
   "metadata": {},
   "source": [
    "#2"
   ]
  },
  {
   "cell_type": "code",
   "execution_count": null,
   "metadata": {},
   "outputs": [],
   "source": [
    "class a:\n",
    "    \n",
    "    def get_String(self):\n",
    "        self.strn=input(\"Input string:\")\n",
    "    def print_String(self):\n",
    "        self.get_String()\n",
    "        print(self.strn.upper())"
   ]
  },
  {
   "cell_type": "code",
   "execution_count": null,
   "metadata": {},
   "outputs": [],
   "source": [
    "s=a()\n",
    "s.print_String()"
   ]
  },
  {
   "cell_type": "markdown",
   "metadata": {},
   "source": [
    "#3"
   ]
  },
  {
   "cell_type": "code",
   "execution_count": null,
   "metadata": {},
   "outputs": [],
   "source": [
    "class Employee:\n",
    "    def __init__(self,name, last_name):\n",
    "        self.name=name\n",
    "        self.last_name=last_name\n",
    "        self.__monthly_salary=1000000\n",
    "       \n",
    "    def getFullName(self):\n",
    "        return self.name,self.last_name\n",
    "    def annualSalary(self):\n",
    "        if self.__monthly_salary*12 >100:\n",
    "            print(f'Hi,{self.name} {self.last_name} get High salary')\n",
    "           \n",
    "        else:\n",
    "             print(f'Hi,{self.name} {self.last_name} get Low salary')\n",
    "    \n",
    "        "
   ]
  },
  {
   "cell_type": "code",
   "execution_count": null,
   "metadata": {},
   "outputs": [],
   "source": [
    "emp=Employee('Artur','Gyulambaryan')\n",
    "emp.annualSalary()\n"
   ]
  },
  {
   "cell_type": "markdown",
   "metadata": {},
   "source": [
    "#4"
   ]
  },
  {
   "cell_type": "code",
   "execution_count": null,
   "metadata": {},
   "outputs": [],
   "source": [
    "class car:\n",
    "    def __init__(self,max_speed):\n",
    "        self.model='Mercedes'\n",
    "        self.color='white' \n",
    "        self.max_speed=max_speed\n",
    "    def compareCar(self, car2) :\n",
    "        if isinstance(car2,car):\n",
    "            \n",
    "            if self.max_speed>car2.max_speed:\n",
    "                print('car1 is better than car2')\n",
    "            else:\n",
    "                print('car2 is better than car1')\n",
    "            \n",
    "            \n",
    "            "
   ]
  },
  {
   "cell_type": "code",
   "execution_count": null,
   "metadata": {},
   "outputs": [],
   "source": [
    "car1=car(200)\n",
    "car2=car(2009)\n",
    "car1.max_speed\n",
    "\n",
    "car.compareCar(car1,car2)"
   ]
  },
  {
   "cell_type": "markdown",
   "metadata": {},
   "source": [
    "#5"
   ]
  },
  {
   "cell_type": "code",
   "execution_count": 16,
   "metadata": {},
   "outputs": [],
   "source": [
    "class Police_car:\n",
    "    def __init__(self,owner, price ):\n",
    "        self.owner=owner\n",
    "        self.price=price\n",
    "        self.__passcode='admin'\n",
    "       \n",
    "    tax_value=0.2\n",
    "    def tax(self):\n",
    "        return self.tax_value * self.price\n",
    "    def greetings(self):\n",
    "        if self.__passcode =='admin':\n",
    "            print(f'Welcome to your car, {self.owner}')\n",
    "    def set1(self,newpass):\n",
    "           self.__passcode=newpass\n",
    "    def get1(self):\n",
    "        print(self.__passcode)"
   ]
  },
  {
   "cell_type": "code",
   "execution_count": 17,
   "metadata": {},
   "outputs": [
    {
     "name": "stdout",
     "output_type": "stream",
     "text": [
      "aa\n"
     ]
    }
   ],
   "source": [
    "ca=Police_car('art',200)\n",
    "ca.tax()\n",
    "ca.set1('aa')\n",
    "ca.get1()\n"
   ]
  },
  {
   "cell_type": "code",
   "execution_count": 18,
   "metadata": {},
   "outputs": [],
   "source": [
    "#Assertions 1"
   ]
  },
  {
   "cell_type": "code",
   "execution_count": 26,
   "metadata": {},
   "outputs": [],
   "source": [
    "#day=('Monday', 'Tuesday')\n",
    "def  Alarm(day):\n",
    "    assert 'Sunday' != day,'I won’t wake you up today!'\n",
    "    return 'I will wake up'\n",
    "        \n"
   ]
  },
  {
   "cell_type": "code",
   "execution_count": 28,
   "metadata": {},
   "outputs": [
    {
     "data": {
      "text/plain": [
       "'I will wake up'"
      ]
     },
     "execution_count": 28,
     "metadata": {},
     "output_type": "execute_result"
    }
   ],
   "source": [
    "Alarm('Sunda')"
   ]
  },
  {
   "cell_type": "markdown",
   "metadata": {},
   "source": [
    "#2"
   ]
  },
  {
   "cell_type": "code",
   "execution_count": 34,
   "metadata": {},
   "outputs": [],
   "source": [
    "def summ(x,y):\n",
    "    assert  isinstance(x,int) and  isinstance(y,int), 'Arguments of type int required.'\n",
    "    return x+y\n",
    "        "
   ]
  },
  {
   "cell_type": "code",
   "execution_count": 36,
   "metadata": {},
   "outputs": [
    {
     "ename": "AssertionError",
     "evalue": "Arguments of type int required.",
     "output_type": "error",
     "traceback": [
      "\u001b[1;31m---------------------------------------------------------------------------\u001b[0m",
      "\u001b[1;31mAssertionError\u001b[0m                            Traceback (most recent call last)",
      "\u001b[1;32m<ipython-input-36-40621832b5bd>\u001b[0m in \u001b[0;36m<module>\u001b[1;34m\u001b[0m\n\u001b[1;32m----> 1\u001b[1;33m \u001b[0msumm\u001b[0m\u001b[1;33m(\u001b[0m\u001b[1;36m1\u001b[0m\u001b[1;33m,\u001b[0m\u001b[1;36m2.3\u001b[0m\u001b[1;33m)\u001b[0m\u001b[1;33m\u001b[0m\u001b[1;33m\u001b[0m\u001b[0m\n\u001b[0m",
      "\u001b[1;32m<ipython-input-34-629fd9b9e22a>\u001b[0m in \u001b[0;36msumm\u001b[1;34m(x, y)\u001b[0m\n\u001b[0;32m      1\u001b[0m \u001b[1;32mdef\u001b[0m \u001b[0msumm\u001b[0m\u001b[1;33m(\u001b[0m\u001b[0mx\u001b[0m\u001b[1;33m,\u001b[0m\u001b[0my\u001b[0m\u001b[1;33m)\u001b[0m\u001b[1;33m:\u001b[0m\u001b[1;33m\u001b[0m\u001b[1;33m\u001b[0m\u001b[0m\n\u001b[1;32m----> 2\u001b[1;33m     \u001b[1;32massert\u001b[0m  \u001b[0misinstance\u001b[0m\u001b[1;33m(\u001b[0m\u001b[0mx\u001b[0m\u001b[1;33m,\u001b[0m\u001b[0mint\u001b[0m\u001b[1;33m)\u001b[0m \u001b[1;32mand\u001b[0m  \u001b[0misinstance\u001b[0m\u001b[1;33m(\u001b[0m\u001b[0my\u001b[0m\u001b[1;33m,\u001b[0m\u001b[0mint\u001b[0m\u001b[1;33m)\u001b[0m\u001b[1;33m,\u001b[0m \u001b[1;34m'Arguments of type int required.'\u001b[0m\u001b[1;33m\u001b[0m\u001b[1;33m\u001b[0m\u001b[0m\n\u001b[0m\u001b[0;32m      3\u001b[0m     \u001b[1;32mreturn\u001b[0m \u001b[0mx\u001b[0m\u001b[1;33m+\u001b[0m\u001b[0my\u001b[0m\u001b[1;33m\u001b[0m\u001b[1;33m\u001b[0m\u001b[0m\n\u001b[0;32m      4\u001b[0m \u001b[1;33m\u001b[0m\u001b[0m\n",
      "\u001b[1;31mAssertionError\u001b[0m: Arguments of type int required."
     ]
    }
   ],
   "source": [
    "summ(1,2.3)"
   ]
  },
  {
   "cell_type": "markdown",
   "metadata": {},
   "source": [
    "#3"
   ]
  },
  {
   "cell_type": "code",
   "execution_count": 48,
   "metadata": {},
   "outputs": [
    {
     "name": "stdout",
     "output_type": "stream",
     "text": [
      "the current entry of the [0.3333333333333333, 0.3333333333333333, 0.5, 0.5]\n",
      "The reciprocal of the current entry of the list is the value of the reciprocal\n"
     ]
    }
   ],
   "source": [
    "list1= [3, 3, 2,2]\n",
    "list2=[]\n",
    "isexcept=True\n",
    "for i in list1:\n",
    "    try:\n",
    "        list2.append(1/i)\n",
    "       \n",
    "    except Exception as ex:\n",
    "        print('Oops! The exception that occured',ex)\n",
    "        isexcept=False\n",
    "    \n",
    "       \n",
    "   \n",
    "print('the current entry of the',list2)\n",
    "if isexcept:\n",
    "        print('The reciprocal of the current entry of the list is the value of the reciprocal')\n",
    "        "
   ]
  },
  {
   "cell_type": "markdown",
   "metadata": {},
   "source": [
    "#4"
   ]
  },
  {
   "cell_type": "code",
   "execution_count": 61,
   "metadata": {},
   "outputs": [
    {
     "name": "stdout",
     "output_type": "stream",
     "text": [
      "Give us Username:Rambo\n",
      "Rambo is an invalid username\n"
     ]
    }
   ],
   "source": [
    "username=input('Give us Username:')\n",
    "class Myexcept(Exception):\n",
    "    pass\n",
    "\n",
    "try :\n",
    "    if username=='Rambo':\n",
    "        raise Myexcept('Rambo is an invalid username')\n",
    "       \n",
    "    else:\n",
    "        print(f'Weclome {username} !')\n",
    "    \n",
    "   \n",
    "except Exception as ex:\n",
    "    print(ex)\n",
    "       \n",
    "\n",
    "    \n",
    "        \n"
   ]
  },
  {
   "cell_type": "code",
   "execution_count": 64,
   "metadata": {},
   "outputs": [],
   "source": [
    "def st(s):\n",
    "    s='News'\n",
    "    return   s   "
   ]
  },
  {
   "cell_type": "code",
   "execution_count": 66,
   "metadata": {},
   "outputs": [
    {
     "name": "stdout",
     "output_type": "stream",
     "text": [
      "News\n"
     ]
    }
   ],
   "source": [
    "print(st('sa'))"
   ]
  },
  {
   "cell_type": "code",
   "execution_count": null,
   "metadata": {},
   "outputs": [],
   "source": []
  }
 ],
 "metadata": {
  "kernelspec": {
   "display_name": "Python 3",
   "language": "python",
   "name": "python3"
  },
  "language_info": {
   "codemirror_mode": {
    "name": "ipython",
    "version": 3
   },
   "file_extension": ".py",
   "mimetype": "text/x-python",
   "name": "python",
   "nbconvert_exporter": "python",
   "pygments_lexer": "ipython3",
   "version": "3.7.3"
  }
 },
 "nbformat": 4,
 "nbformat_minor": 2
}
