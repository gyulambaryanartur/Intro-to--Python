{
 "cells": [
  {
   "cell_type": "markdown",
   "metadata": {},
   "source": [
    "#1"
   ]
  },
  {
   "cell_type": "code",
   "execution_count": null,
   "metadata": {},
   "outputs": [],
   "source": [
    "n_shoes=int(input(\"Number of quantieies:\"))\n",
    "price_shoes=100\n",
    "if n_shoes*price_shoes<1000:\n",
    "    print(\"You don’t get a discount\")\n",
    "else:\n",
    "    print(\"You get a discount\")"
   ]
  },
  {
   "cell_type": "markdown",
   "metadata": {},
   "source": [
    "#2"
   ]
  },
  {
   "cell_type": "code",
   "execution_count": null,
   "metadata": {},
   "outputs": [],
   "source": [
    "d={\"name\": \"Armen\", \"age\": 15, \"grades\": [10, 8, 8,4, 6, 7] }\n",
    "grade=d[\"grades\"]\n",
    "print(grade) \n",
    "s=0\n",
    "for i in grade:\n",
    "    s+=i\n",
    "if s/len(grade)   >7 :\n",
    "    print(\"Good job\")\n",
    "else:\n",
    "    print(\"You need to work more\")"
   ]
  },
  {
   "cell_type": "markdown",
   "metadata": {},
   "source": [
    "#3"
   ]
  },
  {
   "cell_type": "code",
   "execution_count": null,
   "metadata": {},
   "outputs": [],
   "source": [
    "import math\n",
    "a = list(range(11))\n",
    "x=\"\"         \n",
    "for od in a:\n",
    "    if od%2==0:\n",
    "        continue\n",
    "    else:\n",
    "        x+=str(od)+\",\"\n",
    "print(\"Odd numbes are:\",x[:-1])"
   ]
  },
  {
   "cell_type": "markdown",
   "metadata": {},
   "source": [
    "#4"
   ]
  },
  {
   "cell_type": "code",
   "execution_count": null,
   "metadata": {},
   "outputs": [],
   "source": [
    "list1 = [1, 3, 5, 7, 9, 11, 13, 15]\n",
    "list2 = [4, 6,14, 11, 8, 16]\n",
    "s=\"\"\n",
    "for i in list1:\n",
    "    if i in list2:\n",
    "        break\n",
    "    else:\n",
    "        s+=str(i)+\",\"\n",
    "print(\"List value:\",s[:-1])        \n"
   ]
  },
  {
   "cell_type": "markdown",
   "metadata": {},
   "source": [
    "#5"
   ]
  },
  {
   "cell_type": "code",
   "execution_count": null,
   "metadata": {},
   "outputs": [],
   "source": [
    "menu=['ice cream', 'chocolate', 'apple crisp', 'cookies']\n",
    "isconsist=True\n",
    "while isconsist:\n",
    "    desert=input('input new deserts:')\n",
    "    if desert in menu:\n",
    "        print(\"Your desert will arrive in 10 minutes\")\n",
    "        isconsist=False\n",
    "    else:\n",
    "        print(\"Please choose another desert\")"
   ]
  },
  {
   "cell_type": "markdown",
   "metadata": {},
   "source": [
    "#6"
   ]
  },
  {
   "cell_type": "code",
   "execution_count": 1,
   "metadata": {},
   "outputs": [
    {
     "name": "stdout",
     "output_type": "stream",
     "text": [
      "[1, 2, 3, 4, 5, 6, 7, 8, 9, 10]\n",
      "Length new list: 6\n"
     ]
    }
   ],
   "source": [
    "list2= list(range(1,11))\n",
    "print(list2)\n",
    "lngh=len([i for i in list2 if i>=5 if i <11])\n",
    "print(\"Length new list:\",lngh)"
   ]
  },
  {
   "cell_type": "code",
   "execution_count": null,
   "metadata": {},
   "outputs": [],
   "source": []
  }
 ],
 "metadata": {
  "kernelspec": {
   "display_name": "Python 3",
   "language": "python",
   "name": "python3"
  },
  "language_info": {
   "codemirror_mode": {
    "name": "ipython",
    "version": 3
   },
   "file_extension": ".py",
   "mimetype": "text/x-python",
   "name": "python",
   "nbconvert_exporter": "python",
   "pygments_lexer": "ipython3",
   "version": "3.7.3"
  }
 },
 "nbformat": 4,
 "nbformat_minor": 2
}
