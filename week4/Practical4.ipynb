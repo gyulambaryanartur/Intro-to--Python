{
 "cells": [
  {
   "cell_type": "markdown",
   "metadata": {},
   "source": [
    "#1"
   ]
  },
  {
   "cell_type": "code",
   "execution_count": null,
   "metadata": {},
   "outputs": [],
   "source": [
    "number1=int(input(\"input num 1:\"))\n",
    "number2=int(input(\"input num 2:\"))\n",
    "if number1<number2:\n",
    "    print(f\"The number {number2} is the greatest.\")\n",
    "else:\n",
    "    print(f\"The number {number1} is the greatest.\")"
   ]
  },
  {
   "cell_type": "markdown",
   "metadata": {},
   "source": [
    "#2"
   ]
  },
  {
   "cell_type": "code",
   "execution_count": null,
   "metadata": {},
   "outputs": [],
   "source": [
    "number1=int(input(\"input num 1:\"))\n",
    "number2=int(input(\"input num 2:\"))\n",
    "if number1!=number2:\n",
    "    print(f\"rectangle:\")\n",
    "else:\n",
    "    print(f\"square։\")"
   ]
  },
  {
   "cell_type": "markdown",
   "metadata": {},
   "source": [
    "#3"
   ]
  },
  {
   "cell_type": "code",
   "execution_count": null,
   "metadata": {},
   "outputs": [],
   "source": [
    "age=int(input(\"input age 1:\"))\n",
    "password=input(\"input password 2:\")\n",
    "name=input(\"input Name :\")\n",
    "\n",
    "if name==\"Batman\":\n",
    "    print(f\"Welcome Mr. Batman:\")\n",
    "elif age<16:\n",
    "    print(f\"Dear {name}, you are too young to register\")\n",
    "elif \"*\"  in password or \"&\" in password :\n",
    "    print(f\"Welcome Mr. {name}:\")\n",
    "else:\n",
    "    print(\"Please enter a different password\")\n",
    "    "
   ]
  },
  {
   "cell_type": "markdown",
   "metadata": {},
   "source": [
    "#4"
   ]
  },
  {
   "cell_type": "code",
   "execution_count": null,
   "metadata": {},
   "outputs": [],
   "source": [
    "d={\"name\": \"Armen\", \"age\": 15,\"grades\": [10, 8, 8, 4, 6, 7],\"widgt\":3 }\n",
    "dictv=input(\"Enter dict value:\")\n",
    "type(d)\n",
    "if \"widgt\" in d.keys():\n",
    "    d[\"widgt\"]=2\n",
    "else:\n",
    "        d[\"widgt\"]=dictv\n",
    "print(d)        \n"
   ]
  },
  {
   "cell_type": "markdown",
   "metadata": {},
   "source": [
    "#5"
   ]
  },
  {
   "cell_type": "code",
   "execution_count": null,
   "metadata": {},
   "outputs": [],
   "source": [
    "s=\"\"\n",
    "for i in range(101):\n",
    "    if i%2==1:\n",
    "        s+=str(i)+\",\"\n",
    "        \n",
    "print(f\"Odd numbers are :{s[:-1]}\")        \n",
    "    "
   ]
  },
  {
   "cell_type": "markdown",
   "metadata": {},
   "source": [
    "#6"
   ]
  },
  {
   "cell_type": "code",
   "execution_count": null,
   "metadata": {},
   "outputs": [],
   "source": [
    "s=\"\"\n",
    "for i in range(21):\n",
    "    if i==4 or  i==6:\n",
    "        continue\n",
    "    else:    \n",
    "       s+= str(i)+\",\"  \n",
    "print(f\"Numbers :{s[:-1]}\")  "
   ]
  },
  {
   "cell_type": "markdown",
   "metadata": {},
   "source": [
    "#7"
   ]
  },
  {
   "cell_type": "code",
   "execution_count": null,
   "metadata": {},
   "outputs": [],
   "source": [
    "s=\"\"\n",
    "for i in range(1,21):\n",
    "    if i%3==0 or  i%5==0:\n",
    "        break\n",
    "    else:    \n",
    "       s+= str(i)+\",\"  \n",
    "print(f\"Numbers :{s[:-1]}\") "
   ]
  },
  {
   "cell_type": "markdown",
   "metadata": {},
   "source": [
    "#8"
   ]
  },
  {
   "cell_type": "code",
   "execution_count": null,
   "metadata": {},
   "outputs": [],
   "source": [
    "list2=[]\n",
    "list1= [5, 7, -7, \"abc\", 2, 4, True, 3, 4, 6, 7, 7]\n",
    "for i in list1:\n",
    "    if i==3:\n",
    "        break\n",
    "    else:\n",
    "        list2.append(i)\n",
    "print(f\"list2 values:{list2}\")        \n",
    "        "
   ]
  },
  {
   "cell_type": "markdown",
   "metadata": {},
   "source": [
    "#9"
   ]
  },
  {
   "cell_type": "code",
   "execution_count": null,
   "metadata": {},
   "outputs": [],
   "source": [
    "correct_num = 5\n",
    "\n",
    "for i in range(11):\n",
    "  guess=int(input(\"input number:\"))\n",
    "  if correct_num==guess:\n",
    "        print(\"That was a good guess!\")\n",
    "        break\n"
   ]
  },
  {
   "cell_type": "markdown",
   "metadata": {},
   "source": [
    "#10"
   ]
  },
  {
   "cell_type": "code",
   "execution_count": null,
   "metadata": {},
   "outputs": [],
   "source": [
    "num= [7,8, 120, 25, 44, 20, 27]\n",
    "even=[i for i in num if i%2==0]\n",
    "print(\"init\",num)\n",
    "print(f\"after :{even}\")"
   ]
  },
  {
   "cell_type": "markdown",
   "metadata": {},
   "source": [
    "#11"
   ]
  },
  {
   "cell_type": "code",
   "execution_count": 6,
   "metadata": {},
   "outputs": [
    {
     "name": "stdout",
     "output_type": "stream",
     "text": [
      "<class 'range'>\n",
      "1 .. 50 square : [1, 4, 9, 16, 25, 36, 49, 64, 81, 100, 121, 144, 169, 196, 225, 256, 289, 324, 361, 400, 441, 484, 529, 576, 625, 676, 729, 784, 841, 900, 961, 1024, 1089, 1156, 1225, 1296, 1369, 1444, 1521, 1600, 1681, 1764, 1849, 1936, 2025, 2116, 2209, 2304, 2401, 2500]\n"
     ]
    }
   ],
   "source": [
    "list1=range(1,51)\n",
    "print(type(list1))\n",
    "list3=[i**2 for i in list1]\n",
    "print(f\"1 .. 50 square : {list3}\")"
   ]
  },
  {
   "cell_type": "markdown",
   "metadata": {},
   "source": [
    "#12"
   ]
  },
  {
   "cell_type": "code",
   "execution_count": 5,
   "metadata": {},
   "outputs": [
    {
     "name": "stdout",
     "output_type": "stream",
     "text": [
      "List1 : [1, 2, 3, 4, 5, 6, 7, 8, 9, 10, 11, 12, 13, 14, 15, 16, 17, 18, 19, 20, 21, 22, 23, 24, 25, 26, 27, 28, 29, 30, 31, 32, 33, 34, 35, 36, 37, 38, 39, 40, 41, 42, 43, 44, 45, 46, 47, 48, 49, 50]\n",
      "List2 : [21, 22, 23, 24, 25, 26, 27, 28, 29, 30, 31, 32, 33, 34, 35, 36, 37, 38, 39, 40, 41, 42, 43, 44, 45, 46, 47, 48, 49, 50]\n"
     ]
    }
   ],
   "source": [
    "list1=list(range(1,51))\n",
    "list2=[i for i in list1 if i>20]\n",
    "print(f\"List1 : {list1}\")\n",
    "print(f\"List2 : {list2}\")"
   ]
  },
  {
   "cell_type": "markdown",
   "metadata": {},
   "source": [
    "#13"
   ]
  },
  {
   "cell_type": "code",
   "execution_count": 8,
   "metadata": {},
   "outputs": [
    {
     "name": "stdout",
     "output_type": "stream",
     "text": [
      "input text:sakhasdkl\n",
      "str : sakhasdkl\n",
      "str : ['s', 'a', 'k', 'h', 'a', 's', 'd', 'k', 'l']\n"
     ]
    }
   ],
   "source": [
    "str=input(\"input text:\")\n",
    "l2=[list for list in list(str)]\n",
    "print(f\"str : {str}\")\n",
    "print(f\"str : {l2}\")"
   ]
  },
  {
   "cell_type": "markdown",
   "metadata": {},
   "source": [
    "#14"
   ]
  },
  {
   "cell_type": "code",
   "execution_count": 18,
   "metadata": {},
   "outputs": [
    {
     "name": "stdout",
     "output_type": "stream",
     "text": [
      "['aba', '1221']\n"
     ]
    }
   ],
   "source": [
    "d=['al', 'abc', 'xyz', 'as', 'aba','1221']\n",
    "l2=[l for l in d if len(l)>1 if l[0]==l[-1] ]\n",
    "print(l2)"
   ]
  }
 ],
 "metadata": {
  "kernelspec": {
   "display_name": "Python 3",
   "language": "python",
   "name": "python3"
  },
  "language_info": {
   "codemirror_mode": {
    "name": "ipython",
    "version": 3
   },
   "file_extension": ".py",
   "mimetype": "text/x-python",
   "name": "python",
   "nbconvert_exporter": "python",
   "pygments_lexer": "ipython3",
   "version": "3.7.3"
  }
 },
 "nbformat": 4,
 "nbformat_minor": 2
}
