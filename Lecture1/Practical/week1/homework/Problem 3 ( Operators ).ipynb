{
 "cells": [
  {
   "cell_type": "markdown",
   "metadata": {},
   "source": [
    "Problem 3 ( Operators )"
   ]
  },
  {
   "cell_type": "code",
   "execution_count": 8,
   "metadata": {},
   "outputs": [
    {
     "name": "stdout",
     "output_type": "stream",
     "text": [
      "5a2 − ab + (a%2) − a/5 = 1003\n",
      "b*b*b + 3ab − 10c = 852\n"
     ]
    }
   ],
   "source": [
    "a = 15\n",
    "b=8\n",
    "c = 2\n",
    "d=int(5*a**2-a*b+(a%2)-a/5)\n",
    "print(\"5a2 − ab + (a%2) − a/5 =\",d)\n",
    "d=int(b**3+3*a*b-10*c)\n",
    "print(\"b*b*b + 3ab − 10c =\",d)"
   ]
  }
 ],
 "metadata": {
  "kernelspec": {
   "display_name": "Python 3",
   "language": "python",
   "name": "python3"
  },
  "language_info": {
   "codemirror_mode": {
    "name": "ipython",
    "version": 3
   },
   "file_extension": ".py",
   "mimetype": "text/x-python",
   "name": "python",
   "nbconvert_exporter": "python",
   "pygments_lexer": "ipython3",
   "version": "3.7.3"
  }
 },
 "nbformat": 4,
 "nbformat_minor": 2
}
