{
 "cells": [
  {
   "cell_type": "markdown",
   "metadata": {},
   "source": [
    "Problem 1 ( Variables )"
   ]
  },
  {
   "cell_type": "code",
   "execution_count": 36,
   "metadata": {},
   "outputs": [
    {
     "name": "stdout",
     "output_type": "stream",
     "text": [
      "apples include in elements or not: False\n",
      "butter include in elements or not: True\n",
      "eggs or maragrine include in elements or not: True\n",
      "eggs and maragrine include in elements or not: False\n",
      "type of flour  <class 'int'> ,type of butter  <class 'int'>,type of sugar  <class 'str'>,type of eggs  <class 'int'>,type of cocoa powder  <class 'str'>,type of baking powder  <class 'float'>\n",
      " flour -  175 , \n",
      " butter -  175,\n",
      " sugar -  100g,\n",
      " eggs -  2, \n",
      " cocoa powder -   1st,\n",
      " baking powder -  0.5\n"
     ]
    }
   ],
   "source": [
    "project=\"cake\"\n",
    "difficulty=4\n",
    "ingredients=[\"flour\",\"butter\", \"sugar\", \"eggs\", \"cocoa powder\", \"baking powder\"]\n",
    "print(\"apples include in elements or not:\",\"apples\" in ingredients   ) \n",
    "print(\"butter include in elements or not:\",\"butter\" in ingredients   )\n",
    "print(\"eggs or maragrine include in elements or not:\",\"eggs\" in ingredients or  \"argarine\" in ingredients  )\n",
    "print(\"eggs and maragrine include in elements or not:\",\"eggs\" in ingredients and  \"argarine\" in ingredients  )\n",
    "flour=175\n",
    "butter=175\n",
    "sugar=\"100g\"\n",
    "eggs=2\n",
    "cocoa_powder=\"1st\"\n",
    "baking_powder=0.5\n",
    "print(f'type of flour  {type(flour)} ,type of butter  {type(butter)},type of sugar  {type(sugar)},type of eggs  {type(eggs)},type of cocoa powder  {type(cocoa_powder)},type of baking powder  {type(baking_powder)}')\n",
    "print(f' flour -  {flour} , \\n butter -  {butter},\\n sugar -  {sugar},\\n eggs -  {eggs}, \\n cocoa powder -   {cocoa_powder},\\n baking powder -  {baking_powder}')\n"
   ]
  },
  {
   "cell_type": "code",
   "execution_count": null,
   "metadata": {},
   "outputs": [],
   "source": []
  }
 ],
 "metadata": {
  "kernelspec": {
   "display_name": "Python 3",
   "language": "python",
   "name": "python3"
  },
  "language_info": {
   "codemirror_mode": {
    "name": "ipython",
    "version": 3
   },
   "file_extension": ".py",
   "mimetype": "text/x-python",
   "name": "python",
   "nbconvert_exporter": "python",
   "pygments_lexer": "ipython3",
   "version": "3.7.3"
  }
 },
 "nbformat": 4,
 "nbformat_minor": 2
}
