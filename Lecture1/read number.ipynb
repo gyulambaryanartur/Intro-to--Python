{
 "cells": [
  {
   "cell_type": "code",
   "execution_count": 6,
   "metadata": {},
   "outputs": [
    {
     "name": "stdout",
     "output_type": "stream",
     "text": [
      "input numbers:12\n",
      "write quit to exit program or just press enter to continue>\n",
      "one two \n",
      "input numbers:12\n",
      "write quit to exit program or just press enter to continue>qui\n",
      "one two \n",
      "input numbers:qw\n",
      "write quit to exit program or just press enter to continue>qw\n",
      "! ! \n",
      "input numbers:131\n",
      "write quit to exit program or just press enter to continue>quiy\n",
      "one three one \n",
      "input numbers:12341\n",
      "write quit to exit program or just press enter to continue>quit\n",
      "one two three four one \n"
     ]
    }
   ],
   "source": [
    "digits_number={\"1\":\"one\",\"2\":\"two\",\"3\":\"three\",\"4\":\"four\"}\n",
    "\n",
    "\n",
    "while True:\n",
    " init=\"\"\n",
    "   \n",
    " number=input(\"input numbers:\")\n",
    "\n",
    " command=input(\"write quit to exit program or just press any key to continue>\")  \n",
    " for char in number:\n",
    "    \n",
    "    init+=digits_number.get(char,\"!\")+\" \"\n",
    " print(init)       \n",
    " if command==  \"quit\":\n",
    "    break\n",
    "\n"
   ]
  },
  {
   "cell_type": "code",
   "execution_count": 2,
   "metadata": {},
   "outputs": [
    {
     "name": "stdout",
     "output_type": "stream",
     "text": [
      "1\n"
     ]
    }
   ],
   "source": [
    "print(1)"
   ]
  },
  {
   "cell_type": "code",
   "execution_count": null,
   "metadata": {},
   "outputs": [],
   "source": []
  }
 ],
 "metadata": {
  "kernelspec": {
   "display_name": "Python 3",
   "language": "python",
   "name": "python3"
  },
  "language_info": {
   "codemirror_mode": {
    "name": "ipython",
    "version": 3
   },
   "file_extension": ".py",
   "mimetype": "text/x-python",
   "name": "python",
   "nbconvert_exporter": "python",
   "pygments_lexer": "ipython3",
   "version": "3.7.3"
  }
 },
 "nbformat": 4,
 "nbformat_minor": 2
}
