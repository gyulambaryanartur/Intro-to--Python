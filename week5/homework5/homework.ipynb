{
 "cells": [
  {
   "cell_type": "markdown",
   "metadata": {},
   "source": [
    "#1"
   ]
  },
  {
   "cell_type": "code",
   "execution_count": 42,
   "metadata": {},
   "outputs": [],
   "source": [
    "def maximum(*arg):\n",
    "    \n",
    "    #if isinstance(arg,str)  or isinstance(arg,float):\n",
    "        i=0\n",
    "        a=True\n",
    "        for m in arg:\n",
    "            if isinstance(m,int)  or isinstance(m,float):\n",
    "            \n",
    "                i+=1\n",
    "                if a:\n",
    "                    maximum=m\n",
    "                    a=False\n",
    "                if maximum<m:\n",
    "                    maximum=m\n",
    "        if not i :\n",
    "                print('no numbersgiven')   \n",
    "        else:\n",
    "            print(\"given number maximum is:\",maximum)\n",
    "    #print(arg)        "
   ]
  },
  {
   "cell_type": "code",
   "execution_count": 43,
   "metadata": {},
   "outputs": [
    {
     "name": "stdout",
     "output_type": "stream",
     "text": [
      "given nember maximum is: 65\n"
     ]
    }
   ],
   "source": [
    "maximum('12',12,12,3,45,1,49,60,2,65,1)"
   ]
  },
  {
   "cell_type": "markdown",
   "metadata": {},
   "source": [
    "#2"
   ]
  },
  {
   "cell_type": "code",
   "execution_count": 44,
   "metadata": {},
   "outputs": [],
   "source": [
    "def get_uniqvalues(l):\n",
    "    if isinstance(l,list):\n",
    "        \n",
    "        s1=set(l)\n",
    "        print(\"Uniq values of list:\",list(s1))\n",
    "    else:\n",
    "        print(\"Given argument is not list\")"
   ]
  },
  {
   "cell_type": "code",
   "execution_count": 47,
   "metadata": {},
   "outputs": [
    {
     "name": "stdout",
     "output_type": "stream",
     "text": [
      "Uniq values of list: [432, 1, 12, 'a']\n"
     ]
    }
   ],
   "source": [
    "get_uniqvalues([12,1,'a',432,12])"
   ]
  },
  {
   "cell_type": "code",
   "execution_count": 48,
   "metadata": {},
   "outputs": [],
   "source": [
    "def get_uniqvalues(l):\n",
    "    if isinstance(l,list):\n",
    "        \n",
    "        \n",
    "        print(\"Uniq values of list:\",list(dict.fromkeys(l)))\n",
    "    else:\n",
    "        print(\"Given argument is not list\")"
   ]
  },
  {
   "cell_type": "code",
   "execution_count": 49,
   "metadata": {},
   "outputs": [
    {
     "name": "stdout",
     "output_type": "stream",
     "text": [
      "Uniq values of list: [12, 1, 'a', 432]\n"
     ]
    }
   ],
   "source": [
    "get_uniqvalues([12,1,'a',432,12])"
   ]
  },
  {
   "cell_type": "code",
   "execution_count": 54,
   "metadata": {},
   "outputs": [],
   "source": [
    "def get_uniqvalues(l):\n",
    "    if isinstance(l,list):\n",
    "           newlist=[]\n",
    "           for i in l:\n",
    "                \n",
    "            \n",
    "            if i not in newlist:\n",
    "                newlist.append(l)\n",
    "           print(\"Uniq values of list:\",list(dict.fromkeys(l)))\n",
    "    else:\n",
    "        print(\"Given argument is not list\")"
   ]
  },
  {
   "cell_type": "code",
   "execution_count": 55,
   "metadata": {},
   "outputs": [
    {
     "name": "stdout",
     "output_type": "stream",
     "text": [
      "Uniq values of list: [12, 1, 'a', 432]\n"
     ]
    }
   ],
   "source": [
    "get_uniqvalues([12,1,'a',432,12])"
   ]
  },
  {
   "cell_type": "markdown",
   "metadata": {},
   "source": [
    "#3"
   ]
  },
  {
   "cell_type": "code",
   "execution_count": 63,
   "metadata": {},
   "outputs": [
    {
     "name": "stdout",
     "output_type": "stream",
     "text": [
      "Before function call\n",
      " Inside the function \n",
      " After the function call\n"
     ]
    }
   ],
   "source": [
    "def decor(fn):\n",
    "    def pattern(*args,**kwargs):\n",
    "        str='Before function call'\n",
    "        print(str+'\\n',fn(*args,**kwargs),'\\n','After the function call')\n",
    "    return pattern\n",
    "@decor\n",
    "def func1():\n",
    "    return 'Inside the function'\n",
    "func1()"
   ]
  },
  {
   "cell_type": "code",
   "execution_count": 64,
   "metadata": {},
   "outputs": [
    {
     "name": "stdout",
     "output_type": "stream",
     "text": [
      "Before function call\n",
      " Inside the function \n",
      " After the function call\n"
     ]
    }
   ],
   "source": [
    "func1()"
   ]
  },
  {
   "cell_type": "markdown",
   "metadata": {},
   "source": [
    "#4"
   ]
  },
  {
   "cell_type": "code",
   "execution_count": 80,
   "metadata": {},
   "outputs": [
    {
     "name": "stdout",
     "output_type": "stream",
     "text": [
      "<u>Hi, it’s is me!</u>\n"
     ]
    }
   ],
   "source": [
    "def dec1(fn):\n",
    "    def pattern1(*arg,**kwarg):\n",
    "        str1=fn(*arg,**kwarg)+\", it’s is me!\"\n",
    "        return str1\n",
    "    return pattern1\n",
    "def dec2(fn):\n",
    "    def pattern2(*arg,**kwarg):\n",
    "        str2='<u>'+fn(*arg,**kwarg)+'</u>'\n",
    "        return str2\n",
    "        \n",
    "    return pattern2\n",
    "@dec2\n",
    "@dec1\n",
    "def h():\n",
    "    return 'Hi'\n",
    "print(h())"
   ]
  },
  {
   "cell_type": "markdown",
   "metadata": {},
   "source": [
    "#5"
   ]
  },
  {
   "cell_type": "code",
   "execution_count": 129,
   "metadata": {},
   "outputs": [],
   "source": [
    "def my_range(n):\n",
    "    for i in range(n+2):\n",
    "        if i<n+1:\n",
    "             yield i\n",
    "           \n",
    "        else:\n",
    "            yield 'there are no values left'\n",
    "\n"
   ]
  },
  {
   "cell_type": "code",
   "execution_count": 130,
   "metadata": {},
   "outputs": [],
   "source": [
    "s=my_range(12)"
   ]
  },
  {
   "cell_type": "code",
   "execution_count": 131,
   "metadata": {},
   "outputs": [
    {
     "name": "stdout",
     "output_type": "stream",
     "text": [
      "[0, 1, 2, 3, 4, 5, 6, 7, 8, 9, 10, 11, 12, 'there are no values left']\n"
     ]
    }
   ],
   "source": [
    "print(list(s))\n"
   ]
  },
  {
   "cell_type": "code",
   "execution_count": null,
   "metadata": {},
   "outputs": [],
   "source": [
    "#6"
   ]
  },
  {
   "cell_type": "code",
   "execution_count": null,
   "metadata": {},
   "outputs": [],
   "source": []
  }
 ],
 "metadata": {
  "kernelspec": {
   "display_name": "Python 3",
   "language": "python",
   "name": "python3"
  },
  "language_info": {
   "codemirror_mode": {
    "name": "ipython",
    "version": 3
   },
   "file_extension": ".py",
   "mimetype": "text/x-python",
   "name": "python",
   "nbconvert_exporter": "python",
   "pygments_lexer": "ipython3",
   "version": "3.7.3"
  }
 },
 "nbformat": 4,
 "nbformat_minor": 2
}
