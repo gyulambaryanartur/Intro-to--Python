{
 "cells": [
  {
   "cell_type": "markdown",
   "metadata": {},
   "source": [
    "Varriebles"
   ]
  },
  {
   "cell_type": "code",
   "execution_count": 14,
   "metadata": {},
   "outputs": [
    {
     "name": "stdout",
     "output_type": "stream",
     "text": [
      "course: Intro to Python\n",
      "student: Artur Gyulambaryan\n",
      "nickname: arturgyulambaryan\n",
      "grade: 1\n",
      "PythonExpert: True\n"
     ]
    }
   ],
   "source": [
    "course=\"Intro to Python\"\n",
    "Your_name=\"Artur\"\n",
    "Your_last_name=\"Gyulambaryan\"\n",
    "nickname=\"arturgyulambaryan\"\n",
    "grade=1\n",
    "pythonExpert=True\n",
    "print( \"course: \"+course)\n",
    "print(f'student: {Your_name} {Your_last_name}')\n",
    "print(f'nickname: {nickname}')\n",
    "print(f'grade: {grade}')\n",
    "print(f'PythonExpert: {pythonExpert}')"
   ]
  },
  {
   "cell_type": "code",
   "execution_count": 22,
   "metadata": {},
   "outputs": [
    {
     "name": "stdout",
     "output_type": "stream",
     "text": [
      "5\n"
     ]
    }
   ],
   "source": [
    "import math\n",
    "ab=3\n",
    "ac=4\n",
    "bc = int(math.sqrt(ab**2+ ac**2))\n",
    "print(bc)"
   ]
  },
  {
   "cell_type": "code",
   "execution_count": null,
   "metadata": {},
   "outputs": [],
   "source": []
  }
 ],
 "metadata": {
  "kernelspec": {
   "display_name": "Python 3",
   "language": "python",
   "name": "python3"
  },
  "language_info": {
   "codemirror_mode": {
    "name": "ipython",
    "version": 3
   },
   "file_extension": ".py",
   "mimetype": "text/x-python",
   "name": "python",
   "nbconvert_exporter": "python",
   "pygments_lexer": "ipython3",
   "version": "3.7.3"
  }
 },
 "nbformat": 4,
 "nbformat_minor": 2
}
