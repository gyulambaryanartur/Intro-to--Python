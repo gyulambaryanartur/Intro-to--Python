{
 "cells": [
  {
   "cell_type": "code",
   "execution_count": 9,
   "metadata": {},
   "outputs": [],
   "source": [
    "class Animal:\n",
    "    def __init__(self,name):\n",
    "        self.name=name\n",
    "    def move(self):\n",
    "        print('I can move')\n",
    "    \n",
    "       \n",
    "class Dog(Animal):\n",
    "    def __init__(self,name):\n",
    "        Animal.__init__(self,name)\n",
    "    def move(self):\n",
    "        print('I can really move')    \n",
    "        \n"
   ]
  },
  {
   "cell_type": "code",
   "execution_count": 10,
   "metadata": {},
   "outputs": [],
   "source": [
    "d=Animal('dog')"
   ]
  },
  {
   "cell_type": "code",
   "execution_count": 11,
   "metadata": {},
   "outputs": [
    {
     "data": {
      "text/plain": [
       "'dog'"
      ]
     },
     "execution_count": 11,
     "metadata": {},
     "output_type": "execute_result"
    }
   ],
   "source": [
    "d.name"
   ]
  },
  {
   "cell_type": "code",
   "execution_count": 12,
   "metadata": {},
   "outputs": [],
   "source": [
    "c=Dog('dog')"
   ]
  },
  {
   "cell_type": "code",
   "execution_count": 13,
   "metadata": {},
   "outputs": [
    {
     "data": {
      "text/plain": [
       "'dog'"
      ]
     },
     "execution_count": 13,
     "metadata": {},
     "output_type": "execute_result"
    }
   ],
   "source": [
    "c.name"
   ]
  },
  {
   "cell_type": "code",
   "execution_count": 14,
   "metadata": {},
   "outputs": [
    {
     "name": "stdout",
     "output_type": "stream",
     "text": [
      "I can really move\n"
     ]
    }
   ],
   "source": [
    "c.move()"
   ]
  },
  {
   "cell_type": "markdown",
   "metadata": {},
   "source": [
    "#2"
   ]
  },
  {
   "cell_type": "code",
   "execution_count": 22,
   "metadata": {},
   "outputs": [],
   "source": [
    "class Animal:\n",
    "    def __init__(self,name,legs):\n",
    "        self.name=name\n",
    "        self.legs=legs\n",
    "       \n",
    "    def getName(self):\n",
    "        print('My name is ',self.name)\n",
    "       \n",
    "    def getLegs(self):\n",
    "        print(f'I have {self.legs} legs')\n",
    "class Exnik(Animal):\n",
    "    def __init__(self,name,legs):\n",
    "        Animal.__init__(self,name,legs)\n",
    "    "
   ]
  },
  {
   "cell_type": "code",
   "execution_count": 24,
   "metadata": {},
   "outputs": [
    {
     "name": "stdout",
     "output_type": "stream",
     "text": [
      "My name is  Exnik\n",
      "I have 4 legs\n",
      "My name is  Artu\n"
     ]
    }
   ],
   "source": [
    "a=Animal('Artu','2')\n",
    "c=Exnik('Exnik',4)\n",
    "c.getName()\n",
    "c.getLegs()\n",
    "a.getName()"
   ]
  },
  {
   "cell_type": "code",
   "execution_count": 17,
   "metadata": {},
   "outputs": [
    {
     "name": "stdout",
     "output_type": "stream",
     "text": [
      "My name is  Artu\n",
      "I have 2 legs\n"
     ]
    }
   ],
   "source": []
  },
  {
   "cell_type": "markdown",
   "metadata": {},
   "source": [
    "#3\n"
   ]
  },
  {
   "cell_type": "code",
   "execution_count": 47,
   "metadata": {},
   "outputs": [],
   "source": [
    "from abc import ABC, abstractmethod\n",
    "class abstract(ABC):\n",
    "    def __init__(self, name, weight):\n",
    "        self.name=name\n",
    "        self.weight=weight\n",
    "    @abstractmethod  \n",
    "    def fly(self):\n",
    "        pass\n",
    "class hav(abstract):\n",
    "    def __init__(self,name,weight):\n",
    "        abstract.__init__(self,name,weight)\n",
    "    def fly(self):\n",
    "        print('believe I can fly”')\n",
    "        "
   ]
  },
  {
   "cell_type": "code",
   "execution_count": 48,
   "metadata": {},
   "outputs": [],
   "source": [
    "he=hav('nam',250)"
   ]
  },
  {
   "cell_type": "code",
   "execution_count": 49,
   "metadata": {},
   "outputs": [
    {
     "name": "stdout",
     "output_type": "stream",
     "text": [
      "believe I can fly”\n"
     ]
    }
   ],
   "source": [
    "he.fly()"
   ]
  },
  {
   "cell_type": "markdown",
   "metadata": {},
   "source": [
    "#4"
   ]
  },
  {
   "cell_type": "code",
   "execution_count": 60,
   "metadata": {},
   "outputs": [],
   "source": [
    "class Model:\n",
    "    def __init__(self,name):\n",
    "        self.name=name\n",
    "    def printModel(self):\n",
    "        print('The model of the vehicle is',self.name)\n",
    "      \n",
    "   \n",
    "class Color:\n",
    "    def __init__(self,color):\n",
    "        self.color=color\n",
    "    def printColor(self):\n",
    "        print('The colour of the vehicle is',self.color)\n",
    "class Car(Model,Color):\n",
    "    def __init__(self,name,color):\n",
    "        Model.__init__(self,name)\n",
    "        Color.__init__(self,color)\n",
    "    "
   ]
  },
  {
   "cell_type": "code",
   "execution_count": 51,
   "metadata": {},
   "outputs": [],
   "source": [
    "colo=Color('as')"
   ]
  },
  {
   "cell_type": "code",
   "execution_count": 53,
   "metadata": {},
   "outputs": [
    {
     "name": "stdout",
     "output_type": "stream",
     "text": [
      "The model of the vehicle is as\n"
     ]
    }
   ],
   "source": [
    "colo.printModel()"
   ]
  },
  {
   "cell_type": "code",
   "execution_count": 61,
   "metadata": {},
   "outputs": [],
   "source": [
    "car1=Car(\"BMW\",'Red')"
   ]
  },
  {
   "cell_type": "code",
   "execution_count": 62,
   "metadata": {},
   "outputs": [
    {
     "name": "stdout",
     "output_type": "stream",
     "text": [
      "The colour of the vehicle is Red\n",
      "The model of the vehicle is BMW\n"
     ]
    }
   ],
   "source": [
    "car1.printColor()\n",
    "car1.printModel()"
   ]
  },
  {
   "cell_type": "code",
   "execution_count": null,
   "metadata": {},
   "outputs": [],
   "source": []
  }
 ],
 "metadata": {
  "kernelspec": {
   "display_name": "Python 3",
   "language": "python",
   "name": "python3"
  },
  "language_info": {
   "codemirror_mode": {
    "name": "ipython",
    "version": 3
   },
   "file_extension": ".py",
   "mimetype": "text/x-python",
   "name": "python",
   "nbconvert_exporter": "python",
   "pygments_lexer": "ipython3",
   "version": "3.7.3"
  }
 },
 "nbformat": 4,
 "nbformat_minor": 2
}
