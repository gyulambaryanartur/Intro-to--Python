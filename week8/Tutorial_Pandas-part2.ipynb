{
 "cells": [
  {
   "cell_type": "markdown",
   "metadata": {
    "colab_type": "text",
    "id": "O-jaNhLqVu4j"
   },
   "source": [
    "# Pandas Tutorial"
   ]
  },
  {
   "cell_type": "markdown",
   "metadata": {
    "colab_type": "text",
    "id": "LANB0pqqVu4l"
   },
   "source": [
    "Pandas is a Python library providing high-performance, easy-to-use data structures and data analysis tools"
   ]
  },
  {
   "cell_type": "markdown",
   "metadata": {
    "colab_type": "text",
    "id": "H60IphLfVu4o"
   },
   "source": [
    "Pandas deals with the following three data structures:\n",
    "\n",
    "    Series\n",
    "    DataFrame\n",
    "    Panel (ignore this one for now)"
   ]
  },
  {
   "cell_type": "markdown",
   "metadata": {
    "colab_type": "text",
    "id": "GJ499JUBVu4r"
   },
   "source": [
    "### Importing the modules"
   ]
  },
  {
   "cell_type": "code",
   "execution_count": 1,
   "metadata": {
    "colab": {},
    "colab_type": "code",
    "id": "tZgW-60RVu4t"
   },
   "outputs": [],
   "source": [
    "import pandas as pd\n",
    "import numpy as np"
   ]
  },
  {
   "cell_type": "markdown",
   "metadata": {
    "colab_type": "text",
    "collapsed": true,
    "id": "sq_nPlMVVu6I"
   },
   "source": [
    "## Descriptive statistics"
   ]
  },
  {
   "cell_type": "code",
   "execution_count": 2,
   "metadata": {
    "colab": {},
    "colab_type": "code",
    "id": "GJd6fSU0Vu6J",
    "outputId": "2fb377cc-d692-4fb4-f037-7859e1e6e0a6"
   },
   "outputs": [
    {
     "data": {
      "text/html": [
       "<div>\n",
       "<style scoped>\n",
       "    .dataframe tbody tr th:only-of-type {\n",
       "        vertical-align: middle;\n",
       "    }\n",
       "\n",
       "    .dataframe tbody tr th {\n",
       "        vertical-align: top;\n",
       "    }\n",
       "\n",
       "    .dataframe thead th {\n",
       "        text-align: right;\n",
       "    }\n",
       "</style>\n",
       "<table border=\"1\" class=\"dataframe\">\n",
       "  <thead>\n",
       "    <tr style=\"text-align: right;\">\n",
       "      <th></th>\n",
       "      <th>Name</th>\n",
       "      <th>Age</th>\n",
       "      <th>Rating</th>\n",
       "    </tr>\n",
       "  </thead>\n",
       "  <tbody>\n",
       "    <tr>\n",
       "      <th>0</th>\n",
       "      <td>Tom</td>\n",
       "      <td>25</td>\n",
       "      <td>4.23</td>\n",
       "    </tr>\n",
       "    <tr>\n",
       "      <th>1</th>\n",
       "      <td>James</td>\n",
       "      <td>26</td>\n",
       "      <td>3.24</td>\n",
       "    </tr>\n",
       "    <tr>\n",
       "      <th>2</th>\n",
       "      <td>Ricky</td>\n",
       "      <td>25</td>\n",
       "      <td>3.98</td>\n",
       "    </tr>\n",
       "    <tr>\n",
       "      <th>3</th>\n",
       "      <td>Vin</td>\n",
       "      <td>23</td>\n",
       "      <td>2.56</td>\n",
       "    </tr>\n",
       "    <tr>\n",
       "      <th>4</th>\n",
       "      <td>Steve</td>\n",
       "      <td>30</td>\n",
       "      <td>3.20</td>\n",
       "    </tr>\n",
       "    <tr>\n",
       "      <th>5</th>\n",
       "      <td>Smith</td>\n",
       "      <td>29</td>\n",
       "      <td>4.60</td>\n",
       "    </tr>\n",
       "    <tr>\n",
       "      <th>6</th>\n",
       "      <td>Jack</td>\n",
       "      <td>23</td>\n",
       "      <td>3.80</td>\n",
       "    </tr>\n",
       "    <tr>\n",
       "      <th>7</th>\n",
       "      <td>Lee</td>\n",
       "      <td>34</td>\n",
       "      <td>3.78</td>\n",
       "    </tr>\n",
       "    <tr>\n",
       "      <th>8</th>\n",
       "      <td>David</td>\n",
       "      <td>40</td>\n",
       "      <td>2.98</td>\n",
       "    </tr>\n",
       "    <tr>\n",
       "      <th>9</th>\n",
       "      <td>Gasper</td>\n",
       "      <td>30</td>\n",
       "      <td>4.80</td>\n",
       "    </tr>\n",
       "    <tr>\n",
       "      <th>10</th>\n",
       "      <td>Betina</td>\n",
       "      <td>51</td>\n",
       "      <td>4.10</td>\n",
       "    </tr>\n",
       "    <tr>\n",
       "      <th>11</th>\n",
       "      <td>Andres</td>\n",
       "      <td>46</td>\n",
       "      <td>3.65</td>\n",
       "    </tr>\n",
       "  </tbody>\n",
       "</table>\n",
       "</div>"
      ],
      "text/plain": [
       "      Name  Age  Rating\n",
       "0      Tom   25    4.23\n",
       "1    James   26    3.24\n",
       "2    Ricky   25    3.98\n",
       "3      Vin   23    2.56\n",
       "4    Steve   30    3.20\n",
       "5    Smith   29    4.60\n",
       "6     Jack   23    3.80\n",
       "7      Lee   34    3.78\n",
       "8    David   40    2.98\n",
       "9   Gasper   30    4.80\n",
       "10  Betina   51    4.10\n",
       "11  Andres   46    3.65"
      ]
     },
     "execution_count": 2,
     "metadata": {},
     "output_type": "execute_result"
    }
   ],
   "source": [
    "d = {'Name':pd.Series(['Tom','James','Ricky','Vin','Steve','Smith','Jack',\n",
    "   'Lee','David','Gasper','Betina','Andres']),\n",
    "   'Age':pd.Series([25,26,25,23,30,29,23,34,40,30,51,46]),\n",
    "   'Rating':pd.Series([4.23,3.24,3.98,2.56,3.20,4.6,3.8,3.78,2.98,4.80,4.10,3.65])}\n",
    "\n",
    "#Create a DataFrame\n",
    "df = pd.DataFrame(d)\n",
    "df"
   ]
  },
  {
   "cell_type": "markdown",
   "metadata": {
    "colab_type": "text",
    "collapsed": true,
    "id": "7-SXY24zVu6K"
   },
   "source": [
    "## Sum(axis)"
   ]
  },
  {
   "cell_type": "code",
   "execution_count": 3,
   "metadata": {
    "colab": {},
    "colab_type": "code",
    "id": "R9TjXgABVu6L",
    "outputId": "500ff957-884d-408d-833c-8b1e79d55e3e"
   },
   "outputs": [
    {
     "name": "stdout",
     "output_type": "stream",
     "text": [
      "Name      TomJamesRickyVinSteveSmithJackLeeDavidGasperBe...\n",
      "Age                                                     382\n",
      "Rating                                                44.92\n",
      "dtype: object\n"
     ]
    }
   ],
   "source": [
    "print (df.sum(axis=0)) #sum of values in each column ,type doesn't matter"
   ]
  },
  {
   "cell_type": "code",
   "execution_count": 12,
   "metadata": {
    "colab": {},
    "colab_type": "code",
    "id": "VHusNfRCVu6M",
    "outputId": "7902e226-bded-46c2-a183-90661a4098d5"
   },
   "outputs": [
    {
     "name": "stdout",
     "output_type": "stream",
     "text": [
      "0     29.23\n",
      "1     29.24\n",
      "2     28.98\n",
      "3     25.56\n",
      "4     33.20\n",
      "5     33.60\n",
      "6     26.80\n",
      "7     37.78\n",
      "8     42.98\n",
      "9     34.80\n",
      "10    55.10\n",
      "11    49.65\n",
      "dtype: float64\n"
     ]
    }
   ],
   "source": [
    "print (df.sum(axis=1)) #sum of only numerical values in each row"
   ]
  },
  {
   "cell_type": "code",
   "execution_count": 14,
   "metadata": {},
   "outputs": [
    {
     "name": "stdout",
     "output_type": "stream",
     "text": [
      "Age    382\n",
      "dtype: int64\n"
     ]
    }
   ],
   "source": [
    "print (df[['Age']].sum(axis=0)) "
   ]
  },
  {
   "cell_type": "markdown",
   "metadata": {
    "colab_type": "text",
    "collapsed": true,
    "id": "tS27Z-1hVu6O"
   },
   "source": [
    "## mean()\n",
    "returns the average value"
   ]
  },
  {
   "cell_type": "code",
   "execution_count": 1,
   "metadata": {},
   "outputs": [
    {
     "ename": "NameError",
     "evalue": "name 'df' is not defined",
     "output_type": "error",
     "traceback": [
      "\u001b[1;31m---------------------------------------------------------------------------\u001b[0m",
      "\u001b[1;31mNameError\u001b[0m                                 Traceback (most recent call last)",
      "\u001b[1;32m<ipython-input-1-93e628efe140>\u001b[0m in \u001b[0;36m<module>\u001b[1;34m\u001b[0m\n\u001b[1;32m----> 1\u001b[1;33m \u001b[0mhelp\u001b[0m\u001b[1;33m(\u001b[0m\u001b[0mdf\u001b[0m\u001b[1;33m.\u001b[0m\u001b[0mmean\u001b[0m\u001b[1;33m(\u001b[0m\u001b[1;33m)\u001b[0m\u001b[1;33m)\u001b[0m\u001b[1;33m\u001b[0m\u001b[1;33m\u001b[0m\u001b[0m\n\u001b[0m",
      "\u001b[1;31mNameError\u001b[0m: name 'df' is not defined"
     ]
    }
   ],
   "source": [
    "help(df.mean())"
   ]
  },
  {
   "cell_type": "code",
   "execution_count": 15,
   "metadata": {
    "colab": {},
    "colab_type": "code",
    "id": "I6ZrOV-UVu6O",
    "outputId": "b308c1b5-0d82-4732-a0ec-86d331dcad44"
   },
   "outputs": [
    {
     "data": {
      "text/plain": [
       "Name      4.940656e-324\n",
       "Age        3.183333e+01\n",
       "Rating     3.743333e+00\n",
       "dtype: float64"
      ]
     },
     "execution_count": 15,
     "metadata": {},
     "output_type": "execute_result"
    }
   ],
   "source": [
    "df.mean()  #of the numerical columns"
   ]
  },
  {
   "cell_type": "markdown",
   "metadata": {
    "colab_type": "text",
    "collapsed": true,
    "id": "KNC7W18QVu6Q"
   },
   "source": [
    "## std()\n",
    "returns standard deviation only for the numerical columns"
   ]
  },
  {
   "cell_type": "code",
   "execution_count": 16,
   "metadata": {
    "colab": {},
    "colab_type": "code",
    "id": "9Cmp4LkaVu6Q",
    "outputId": "9b88e75f-0e99-44d7-8d0e-eb9e9f63947b"
   },
   "outputs": [
    {
     "data": {
      "text/plain": [
       "Age       9.232682\n",
       "Rating    0.661628\n",
       "dtype: float64"
      ]
     },
     "execution_count": 16,
     "metadata": {},
     "output_type": "execute_result"
    }
   ],
   "source": [
    "df.std()"
   ]
  },
  {
   "cell_type": "markdown",
   "metadata": {
    "colab_type": "text",
    "collapsed": true,
    "id": "Tx2BcndgVu6R"
   },
   "source": [
    "## Summarizing Data\n",
    "describe() computes the summary of statistics"
   ]
  },
  {
   "cell_type": "code",
   "execution_count": 17,
   "metadata": {},
   "outputs": [
    {
     "data": {
      "text/html": [
       "<div>\n",
       "<style scoped>\n",
       "    .dataframe tbody tr th:only-of-type {\n",
       "        vertical-align: middle;\n",
       "    }\n",
       "\n",
       "    .dataframe tbody tr th {\n",
       "        vertical-align: top;\n",
       "    }\n",
       "\n",
       "    .dataframe thead th {\n",
       "        text-align: right;\n",
       "    }\n",
       "</style>\n",
       "<table border=\"1\" class=\"dataframe\">\n",
       "  <thead>\n",
       "    <tr style=\"text-align: right;\">\n",
       "      <th></th>\n",
       "      <th>Name</th>\n",
       "      <th>Age</th>\n",
       "      <th>Rating</th>\n",
       "    </tr>\n",
       "  </thead>\n",
       "  <tbody>\n",
       "    <tr>\n",
       "      <th>0</th>\n",
       "      <td>Tom</td>\n",
       "      <td>25</td>\n",
       "      <td>4.23</td>\n",
       "    </tr>\n",
       "    <tr>\n",
       "      <th>1</th>\n",
       "      <td>James</td>\n",
       "      <td>26</td>\n",
       "      <td>3.24</td>\n",
       "    </tr>\n",
       "    <tr>\n",
       "      <th>2</th>\n",
       "      <td>Ricky</td>\n",
       "      <td>25</td>\n",
       "      <td>3.98</td>\n",
       "    </tr>\n",
       "    <tr>\n",
       "      <th>3</th>\n",
       "      <td>Vin</td>\n",
       "      <td>23</td>\n",
       "      <td>2.56</td>\n",
       "    </tr>\n",
       "    <tr>\n",
       "      <th>4</th>\n",
       "      <td>Steve</td>\n",
       "      <td>30</td>\n",
       "      <td>3.20</td>\n",
       "    </tr>\n",
       "    <tr>\n",
       "      <th>5</th>\n",
       "      <td>Smith</td>\n",
       "      <td>29</td>\n",
       "      <td>4.60</td>\n",
       "    </tr>\n",
       "    <tr>\n",
       "      <th>6</th>\n",
       "      <td>Jack</td>\n",
       "      <td>23</td>\n",
       "      <td>3.80</td>\n",
       "    </tr>\n",
       "    <tr>\n",
       "      <th>7</th>\n",
       "      <td>Lee</td>\n",
       "      <td>34</td>\n",
       "      <td>3.78</td>\n",
       "    </tr>\n",
       "    <tr>\n",
       "      <th>8</th>\n",
       "      <td>David</td>\n",
       "      <td>40</td>\n",
       "      <td>2.98</td>\n",
       "    </tr>\n",
       "    <tr>\n",
       "      <th>9</th>\n",
       "      <td>Gasper</td>\n",
       "      <td>30</td>\n",
       "      <td>4.80</td>\n",
       "    </tr>\n",
       "    <tr>\n",
       "      <th>10</th>\n",
       "      <td>Betina</td>\n",
       "      <td>51</td>\n",
       "      <td>4.10</td>\n",
       "    </tr>\n",
       "    <tr>\n",
       "      <th>11</th>\n",
       "      <td>Andres</td>\n",
       "      <td>46</td>\n",
       "      <td>3.65</td>\n",
       "    </tr>\n",
       "  </tbody>\n",
       "</table>\n",
       "</div>"
      ],
      "text/plain": [
       "      Name  Age  Rating\n",
       "0      Tom   25    4.23\n",
       "1    James   26    3.24\n",
       "2    Ricky   25    3.98\n",
       "3      Vin   23    2.56\n",
       "4    Steve   30    3.20\n",
       "5    Smith   29    4.60\n",
       "6     Jack   23    3.80\n",
       "7      Lee   34    3.78\n",
       "8    David   40    2.98\n",
       "9   Gasper   30    4.80\n",
       "10  Betina   51    4.10\n",
       "11  Andres   46    3.65"
      ]
     },
     "execution_count": 17,
     "metadata": {},
     "output_type": "execute_result"
    }
   ],
   "source": [
    "df"
   ]
  },
  {
   "cell_type": "code",
   "execution_count": 18,
   "metadata": {
    "colab": {},
    "colab_type": "code",
    "id": "4wiZUH5jVu6S",
    "outputId": "bf1ed8c5-7dfc-40ec-bd6d-1891a60e14c9"
   },
   "outputs": [
    {
     "data": {
      "text/html": [
       "<div>\n",
       "<style scoped>\n",
       "    .dataframe tbody tr th:only-of-type {\n",
       "        vertical-align: middle;\n",
       "    }\n",
       "\n",
       "    .dataframe tbody tr th {\n",
       "        vertical-align: top;\n",
       "    }\n",
       "\n",
       "    .dataframe thead th {\n",
       "        text-align: right;\n",
       "    }\n",
       "</style>\n",
       "<table border=\"1\" class=\"dataframe\">\n",
       "  <thead>\n",
       "    <tr style=\"text-align: right;\">\n",
       "      <th></th>\n",
       "      <th>Age</th>\n",
       "      <th>Rating</th>\n",
       "    </tr>\n",
       "  </thead>\n",
       "  <tbody>\n",
       "    <tr>\n",
       "      <th>count</th>\n",
       "      <td>12.000000</td>\n",
       "      <td>12.000000</td>\n",
       "    </tr>\n",
       "    <tr>\n",
       "      <th>mean</th>\n",
       "      <td>31.833333</td>\n",
       "      <td>3.743333</td>\n",
       "    </tr>\n",
       "    <tr>\n",
       "      <th>std</th>\n",
       "      <td>9.232682</td>\n",
       "      <td>0.661628</td>\n",
       "    </tr>\n",
       "    <tr>\n",
       "      <th>min</th>\n",
       "      <td>23.000000</td>\n",
       "      <td>2.560000</td>\n",
       "    </tr>\n",
       "    <tr>\n",
       "      <th>25%</th>\n",
       "      <td>25.000000</td>\n",
       "      <td>3.230000</td>\n",
       "    </tr>\n",
       "    <tr>\n",
       "      <th>50%</th>\n",
       "      <td>29.500000</td>\n",
       "      <td>3.790000</td>\n",
       "    </tr>\n",
       "    <tr>\n",
       "      <th>75%</th>\n",
       "      <td>35.500000</td>\n",
       "      <td>4.132500</td>\n",
       "    </tr>\n",
       "    <tr>\n",
       "      <th>max</th>\n",
       "      <td>51.000000</td>\n",
       "      <td>4.800000</td>\n",
       "    </tr>\n",
       "  </tbody>\n",
       "</table>\n",
       "</div>"
      ],
      "text/plain": [
       "             Age     Rating\n",
       "count  12.000000  12.000000\n",
       "mean   31.833333   3.743333\n",
       "std     9.232682   0.661628\n",
       "min    23.000000   2.560000\n",
       "25%    25.000000   3.230000\n",
       "50%    29.500000   3.790000\n",
       "75%    35.500000   4.132500\n",
       "max    51.000000   4.800000"
      ]
     },
     "execution_count": 18,
     "metadata": {},
     "output_type": "execute_result"
    }
   ],
   "source": [
    "df.describe()"
   ]
  },
  {
   "cell_type": "markdown",
   "metadata": {
    "colab_type": "text",
    "collapsed": true,
    "id": "MizpoilGVu6T"
   },
   "source": [
    "## Reindexing"
   ]
  },
  {
   "cell_type": "code",
   "execution_count": 23,
   "metadata": {
    "colab": {},
    "colab_type": "code",
    "id": "0LCYHPLkVu6T",
    "outputId": "99f81596-9acc-4b73-8696-31b82211e905"
   },
   "outputs": [
    {
     "name": "stdout",
     "output_type": "stream",
     "text": [
      "       col1      col2      col3\n",
      "0 -0.886680  1.734444  1.903576\n",
      "1  0.879628  2.592553  0.534342\n",
      "2  0.165099 -1.080740 -1.672454\n",
      "3  0.007112  0.861065  0.788278\n",
      "4 -2.461485 -1.227246  0.237600\n",
      "\n",
      "\n",
      "        col1      col2      col3\n",
      "0  -0.886680  1.734444  1.903576\n",
      "2   0.165099 -1.080740 -1.672454\n",
      "5        NaN       NaN       NaN\n",
      "10       NaN       NaN       NaN\n",
      "8        NaN       NaN       NaN\n"
     ]
    }
   ],
   "source": [
    "df1 = pd.DataFrame(np.random.randn(5,3),columns=['col1','col2','col3'])\n",
    "df_reindexed = df1.reindex(index=[0,2,5,10,8])\n",
    "\n",
    "print(df1)\n",
    "print('\\n')\n",
    "print(df_reindexed)"
   ]
  },
  {
   "cell_type": "code",
   "execution_count": 25,
   "metadata": {
    "colab": {},
    "colab_type": "code",
    "id": "2Z_5ntIfVu6U",
    "outputId": "8da91ef0-3d6e-4bed-d31a-e09ecf0a7a57"
   },
   "outputs": [
    {
     "name": "stdout",
     "output_type": "stream",
     "text": [
      "       col1      col2      col3\n",
      "0  0.862343  0.370098 -0.051025\n",
      "1 -0.570138  0.229210 -0.110619\n",
      "2 -0.585091 -0.838918 -0.454704\n",
      "3 -1.749582  1.687142  1.199832\n",
      "4  0.606056  0.033099  0.744896\n",
      "5  0.128829  1.273072 -1.531512\n",
      "6 -1.054305 -0.317169  0.286325\n",
      "7 -0.409176 -1.298503  1.582048\n",
      "8 -1.098633 -0.671524  0.473978\n",
      "9 -0.878348  0.188816  0.010210\n",
      "\n",
      "\n",
      "       col1      col2      col3\n",
      "0  0.176893  0.768199  0.950952\n",
      "1 -0.557674  1.893625  1.112693\n",
      "2  1.039550  0.357285  0.006935\n",
      "3  0.642733  1.806327 -1.049456\n",
      "4 -0.893709  2.037476  2.538202\n",
      "5 -0.908658 -0.562832  1.026094\n",
      "6 -0.743085  1.206578 -0.198901\n",
      "\n",
      "\n",
      "       col1      col2      col3\n",
      "0  0.176893  0.768199  0.950952\n",
      "1 -0.557674  1.893625  1.112693\n",
      "2  1.039550  0.357285  0.006935\n",
      "3  0.642733  1.806327 -1.049456\n",
      "4 -0.893709  2.037476  2.538202\n",
      "5 -0.908658 -0.562832  1.026094\n",
      "6 -0.743085  1.206578 -0.198901\n",
      "7       NaN       NaN       NaN\n",
      "8       NaN       NaN       NaN\n",
      "9       NaN       NaN       NaN\n"
     ]
    }
   ],
   "source": [
    "df1 = pd.DataFrame(np.random.randn(10,3),columns=['col1','col2','col3'])\n",
    "df2 = pd.DataFrame(np.random.randn(7,3),columns=['col1','col2','col3'])\n",
    "\n",
    "\n",
    "print(df1)\n",
    "print('\\n')\n",
    "\n",
    "print(df2)\n",
    "print('\\n')\n",
    "\n",
    "\n",
    "df1 = df2.reindex_like(df1)\n",
    "print(df1)\n",
    "\n"
   ]
  },
  {
   "cell_type": "markdown",
   "metadata": {
    "colab_type": "text",
    "collapsed": true,
    "id": "Zscjo9QZVu6W"
   },
   "source": [
    "## Changing the indexing"
   ]
  },
  {
   "cell_type": "code",
   "execution_count": 16,
   "metadata": {
    "colab": {},
    "colab_type": "code",
    "id": "wuK7taKCVu6W",
    "outputId": "4eddb87d-9507-4782-e494-cc77c2fba91e"
   },
   "outputs": [
    {
     "name": "stdout",
     "output_type": "stream",
     "text": [
      "       col1      col2      col3\n",
      "0 -0.739429  1.885878 -0.456043\n",
      "1 -0.474854 -0.029793  1.435341\n",
      "2 -1.283025 -1.090593 -0.208259\n",
      "3 -0.166622  2.008848 -0.694461\n",
      "4  1.053496  0.458248 -1.428384\n",
      "\n",
      "\n"
     ]
    },
    {
     "data": {
      "text/html": [
       "<div>\n",
       "<style scoped>\n",
       "    .dataframe tbody tr th:only-of-type {\n",
       "        vertical-align: middle;\n",
       "    }\n",
       "\n",
       "    .dataframe tbody tr th {\n",
       "        vertical-align: top;\n",
       "    }\n",
       "\n",
       "    .dataframe thead th {\n",
       "        text-align: right;\n",
       "    }\n",
       "</style>\n",
       "<table border=\"1\" class=\"dataframe\">\n",
       "  <thead>\n",
       "    <tr style=\"text-align: right;\">\n",
       "      <th></th>\n",
       "      <th>col1</th>\n",
       "      <th>col2</th>\n",
       "      <th>col3</th>\n",
       "    </tr>\n",
       "  </thead>\n",
       "  <tbody>\n",
       "    <tr>\n",
       "      <th>0</th>\n",
       "      <td>-0.739429</td>\n",
       "      <td>1.885878</td>\n",
       "      <td>-0.456043</td>\n",
       "    </tr>\n",
       "    <tr>\n",
       "      <th>2</th>\n",
       "      <td>-0.474854</td>\n",
       "      <td>-0.029793</td>\n",
       "      <td>1.435341</td>\n",
       "    </tr>\n",
       "    <tr>\n",
       "      <th>5</th>\n",
       "      <td>-1.283025</td>\n",
       "      <td>-1.090593</td>\n",
       "      <td>-0.208259</td>\n",
       "    </tr>\n",
       "    <tr>\n",
       "      <th>10</th>\n",
       "      <td>-0.166622</td>\n",
       "      <td>2.008848</td>\n",
       "      <td>-0.694461</td>\n",
       "    </tr>\n",
       "    <tr>\n",
       "      <th>8</th>\n",
       "      <td>1.053496</td>\n",
       "      <td>0.458248</td>\n",
       "      <td>-1.428384</td>\n",
       "    </tr>\n",
       "  </tbody>\n",
       "</table>\n",
       "</div>"
      ],
      "text/plain": [
       "        col1      col2      col3\n",
       "0  -0.739429  1.885878 -0.456043\n",
       "2  -0.474854 -0.029793  1.435341\n",
       "5  -1.283025 -1.090593 -0.208259\n",
       "10 -0.166622  2.008848 -0.694461\n",
       "8   1.053496  0.458248 -1.428384"
      ]
     },
     "execution_count": 16,
     "metadata": {},
     "output_type": "execute_result"
    }
   ],
   "source": [
    "df1 = pd.DataFrame(np.random.randn(5,3),columns=['col1','col2','col3'])\n",
    "\n",
    "print(df1)\n",
    "print('\\n')\n",
    "\n",
    "df1.index = [0,2,5,10,8]\n",
    "df1"
   ]
  },
  {
   "cell_type": "markdown",
   "metadata": {
    "colab_type": "text",
    "collapsed": true,
    "id": "tjNdlklWVu6X"
   },
   "source": [
    "## Renaming rows and columns"
   ]
  },
  {
   "cell_type": "code",
   "execution_count": 28,
   "metadata": {
    "colab": {},
    "colab_type": "code",
    "id": "gw4A-CD-Vu6Y",
    "outputId": "fe38f942-8dc4-41bb-f8d2-c6fd28edaeb9"
   },
   "outputs": [
    {
     "name": "stdout",
     "output_type": "stream",
     "text": [
      "       col1      col2      col3\n",
      "0  0.176893  0.768199  0.950952\n",
      "1 -0.557674  1.893625  1.112693\n",
      "2  1.039550  0.357285  0.006935\n",
      "3  0.642733  1.806327 -1.049456\n",
      "4 -0.893709  2.037476  2.538202\n",
      "5 -0.908658 -0.562832  1.026094\n",
      "6 -0.743085  1.206578 -0.198901\n",
      "7       NaN       NaN       NaN\n",
      "8       NaN       NaN       NaN\n",
      "9       NaN       NaN       NaN\n",
      "              c1        c2      col3\n",
      "apple   0.176893  0.768199  0.950952\n",
      "banana -0.557674  1.893625  1.112693\n",
      "durian  1.039550  0.357285  0.006935\n",
      "3       0.642733  1.806327 -1.049456\n",
      "4      -0.893709  2.037476  2.538202\n",
      "5      -0.908658 -0.562832  1.026094\n",
      "6      -0.743085  1.206578 -0.198901\n",
      "7            NaN       NaN       NaN\n",
      "8            NaN       NaN       NaN\n",
      "9            NaN       NaN       NaN\n"
     ]
    }
   ],
   "source": [
    "print(df1)\n",
    "print (df1.rename(columns={'col1' : 'c1', 'col2' : 'c2'}, index = {0 : 'apple', 1 : 'banana', 2 : 'durian'}))"
   ]
  },
  {
   "cell_type": "markdown",
   "metadata": {
    "colab_type": "text",
    "collapsed": true,
    "id": "DQ0OgfO4Vu6Z"
   },
   "source": [
    "## Iterating a DataFrame"
   ]
  },
  {
   "cell_type": "markdown",
   "metadata": {
    "colab_type": "text",
    "id": "BV9loH0LVu6Z"
   },
   "source": [
    "### Iterating over columns"
   ]
  },
  {
   "cell_type": "code",
   "execution_count": 30,
   "metadata": {
    "colab": {},
    "colab_type": "code",
    "id": "vLW2-8p2Vu6Z",
    "outputId": "edccbeda-16e1-4260-f480-183f2a60015c"
   },
   "outputs": [
    {
     "name": "stdout",
     "output_type": "stream",
     "text": [
      "       col1      col2      col3\n",
      "0 -0.530235 -1.912833 -0.087046\n",
      "1 -3.353881  0.461588 -2.430443\n",
      "2 -0.667094 -1.675082 -1.194077\n",
      "3 -0.140080 -0.107005 -0.418815\n",
      "4 -0.388744  0.683079  0.129245\n",
      "\n",
      "\n",
      "col1\n",
      "col2\n",
      "col3\n"
     ]
    }
   ],
   "source": [
    "df = pd.DataFrame(np.random.randn(5,3),columns=['col1','col2','col3'])\n",
    "\n",
    "print(df)\n",
    "print('\\n')\n",
    "\n",
    "for x in df:\n",
    "    print(x)"
   ]
  },
  {
   "cell_type": "code",
   "execution_count": 32,
   "metadata": {},
   "outputs": [
    {
     "name": "stdout",
     "output_type": "stream",
     "text": [
      "       col1      col2      col3\n",
      "0 -0.530235 -1.912833 -0.087046\n",
      "1 -3.353881  0.461588 -2.430443\n",
      "2 -0.667094 -1.675082 -1.194077\n",
      "3 -0.140080 -0.107005 -0.418815\n",
      "4 -0.388744  0.683079  0.129245\n",
      "\n",
      "\n",
      "('col1', 0   -0.530235\n",
      "1   -3.353881\n",
      "2   -0.667094\n",
      "3   -0.140080\n",
      "4   -0.388744\n",
      "Name: col1, dtype: float64)\n",
      "<class 'pandas.core.series.Series'>\n",
      "\n",
      "\n",
      "('col2', 0   -1.912833\n",
      "1    0.461588\n",
      "2   -1.675082\n",
      "3   -0.107005\n",
      "4    0.683079\n",
      "Name: col2, dtype: float64)\n",
      "<class 'pandas.core.series.Series'>\n",
      "\n",
      "\n",
      "('col3', 0   -0.087046\n",
      "1   -2.430443\n",
      "2   -1.194077\n",
      "3   -0.418815\n",
      "4    0.129245\n",
      "Name: col3, dtype: float64)\n",
      "<class 'pandas.core.series.Series'>\n",
      "\n",
      "\n"
     ]
    }
   ],
   "source": [
    "print(df)\n",
    "print('\\n')\n",
    "\n",
    "for x in df.iteritems():\n",
    "    print (x)\n",
    "    print(type(x[1]))\n",
    "    print('\\n')"
   ]
  },
  {
   "cell_type": "code",
   "execution_count": 34,
   "metadata": {
    "colab": {},
    "colab_type": "code",
    "id": "kykHynpCVu6a",
    "outputId": "3ac2ed33-d3cd-4b3c-b8e6-b9049c06067a"
   },
   "outputs": [
    {
     "name": "stdout",
     "output_type": "stream",
     "text": [
      "       col1      col2      col3\n",
      "0 -0.530235 -1.912833 -0.087046\n",
      "1 -3.353881  0.461588 -2.430443\n",
      "2 -0.667094 -1.675082 -1.194077\n",
      "3 -0.140080 -0.107005 -0.418815\n",
      "4 -0.388744  0.683079  0.129245\n",
      "\n",
      "\n",
      "<class 'generator'>\n",
      "col1\n",
      "0   -0.530235\n",
      "1   -3.353881\n",
      "2   -0.667094\n",
      "3   -0.140080\n",
      "4   -0.388744\n",
      "Name: col1, dtype: float64\n",
      "\n",
      "\n",
      "col2\n",
      "0   -1.912833\n",
      "1    0.461588\n",
      "2   -1.675082\n",
      "3   -0.107005\n",
      "4    0.683079\n",
      "Name: col2, dtype: float64\n",
      "\n",
      "\n",
      "col3\n",
      "0   -0.087046\n",
      "1   -2.430443\n",
      "2   -1.194077\n",
      "3   -0.418815\n",
      "4    0.129245\n",
      "Name: col3, dtype: float64\n",
      "\n",
      "\n"
     ]
    }
   ],
   "source": [
    "print(df)\n",
    "print('\\n')\n",
    "print(type(df.iteritems()))\n",
    "for key,value in df.iteritems():\n",
    "    print (key)\n",
    "    print(value)\n",
    "    print('\\n')"
   ]
  },
  {
   "cell_type": "markdown",
   "metadata": {
    "colab_type": "text",
    "id": "Hr-m4GcWVu6b"
   },
   "source": [
    "### Iterating over rows"
   ]
  },
  {
   "cell_type": "code",
   "execution_count": 37,
   "metadata": {
    "colab": {},
    "colab_type": "code",
    "id": "0uOrU1OjVu6b",
    "outputId": "1fb91421-6949-48f1-e31a-3720f88d46d3"
   },
   "outputs": [
    {
     "name": "stdout",
     "output_type": "stream",
     "text": [
      "       col1      col2      col3\n",
      "0 -0.530235 -1.912833 -0.087046\n",
      "1 -3.353881  0.461588 -2.430443\n",
      "2 -0.667094 -1.675082 -1.194077\n",
      "3 -0.140080 -0.107005 -0.418815\n",
      "4 -0.388744  0.683079  0.129245\n",
      "\n",
      "\n",
      "0\n",
      "col1   -0.530235\n",
      "col2   -1.912833\n",
      "col3   -0.087046\n",
      "Name: 0, dtype: float64\n",
      "<class 'pandas.core.series.Series'>\n",
      "\n",
      "\n",
      "1\n",
      "col1   -3.353881\n",
      "col2    0.461588\n",
      "col3   -2.430443\n",
      "Name: 1, dtype: float64\n",
      "<class 'pandas.core.series.Series'>\n",
      "\n",
      "\n",
      "2\n",
      "col1   -0.667094\n",
      "col2   -1.675082\n",
      "col3   -1.194077\n",
      "Name: 2, dtype: float64\n",
      "<class 'pandas.core.series.Series'>\n",
      "\n",
      "\n",
      "3\n",
      "col1   -0.140080\n",
      "col2   -0.107005\n",
      "col3   -0.418815\n",
      "Name: 3, dtype: float64\n",
      "<class 'pandas.core.series.Series'>\n",
      "\n",
      "\n",
      "4\n",
      "col1   -0.388744\n",
      "col2    0.683079\n",
      "col3    0.129245\n",
      "Name: 4, dtype: float64\n",
      "<class 'pandas.core.series.Series'>\n",
      "\n",
      "\n"
     ]
    }
   ],
   "source": [
    "print(df)\n",
    "print('\\n')\n",
    "\n",
    "for row_index,row in df.iterrows():\n",
    "    print (row_index)\n",
    "    print(row)\n",
    "    print(type(row))\n",
    "    print('\\n')"
   ]
  },
  {
   "cell_type": "markdown",
   "metadata": {
    "colab_type": "text",
    "id": "UnKGlhgjVu6d"
   },
   "source": [
    "### Note:\n",
    "Do not try to modify any object while iterating. Iterating is meant for reading and the iterator returns a copy of the original object (a view), thus the changes will not reflect on the original object."
   ]
  },
  {
   "cell_type": "markdown",
   "metadata": {
    "colab_type": "text",
    "id": "tONvnyM-Vu6e"
   },
   "source": [
    "## Sorting"
   ]
  },
  {
   "cell_type": "markdown",
   "metadata": {
    "colab_type": "text",
    "collapsed": true,
    "id": "ZuD3z1JbVu6e"
   },
   "source": [
    "### Sorting by Value"
   ]
  },
  {
   "cell_type": "code",
   "execution_count": 39,
   "metadata": {},
   "outputs": [],
   "source": [
    "?unsorted_df.sort_values"
   ]
  },
  {
   "cell_type": "code",
   "execution_count": 38,
   "metadata": {
    "colab": {},
    "colab_type": "code",
    "id": "pyyXZleCVu6e",
    "outputId": "cb49a912-f805-46f7-ce38-6f585ca33d09"
   },
   "outputs": [
    {
     "name": "stdout",
     "output_type": "stream",
     "text": [
      "   col1  col2\n",
      "0     2     1\n",
      "1     1     3\n",
      "2     1     2\n",
      "3     1     4\n",
      "\n",
      "\n",
      "   col1  col2\n",
      "1     1     3\n",
      "2     1     2\n",
      "3     1     4\n",
      "0     2     1\n"
     ]
    }
   ],
   "source": [
    "unsorted_df = pd.DataFrame({'col1':[2,1,1,1],'col2':[1,3,2,4]})\n",
    "sorted_df = unsorted_df.sort_values(by='col1') #kind='mergesort'\n",
    "\n",
    "print(unsorted_df)\n",
    "print('\\n')\n",
    "print(sorted_df)"
   ]
  },
  {
   "cell_type": "markdown",
   "metadata": {
    "colab_type": "text",
    "collapsed": true,
    "id": "SwtUDnXIVu6g"
   },
   "source": [
    "### Sorting by index"
   ]
  },
  {
   "cell_type": "code",
   "execution_count": 40,
   "metadata": {
    "colab": {},
    "colab_type": "code",
    "id": "j9Cw4ZxcVu6g",
    "outputId": "6e7bccd9-77ae-4fea-f214-324299a0dddd"
   },
   "outputs": [
    {
     "name": "stdout",
     "output_type": "stream",
     "text": [
      "       col2      col1\n",
      "1 -1.170348 -1.423402\n",
      "4  1.146070 -0.118820\n",
      "6 -0.581313  0.990925\n",
      "2 -1.997279  0.443938\n",
      "3  0.287628  0.706692\n",
      "5  0.828429  0.262065\n",
      "9 -0.698614  0.673255\n",
      "8  0.471513  1.474865\n",
      "0  1.055381  0.319740\n",
      "7  0.614070  0.129203\n",
      "\n",
      "\n",
      "       col2      col1\n",
      "0  1.055381  0.319740\n",
      "1 -1.170348 -1.423402\n",
      "2 -1.997279  0.443938\n",
      "3  0.287628  0.706692\n",
      "4  1.146070 -0.118820\n",
      "5  0.828429  0.262065\n",
      "6 -0.581313  0.990925\n",
      "7  0.614070  0.129203\n",
      "8  0.471513  1.474865\n",
      "9 -0.698614  0.673255\n"
     ]
    }
   ],
   "source": [
    "unsorted_df = pd.DataFrame(np.random.randn(10,2),index=[1,4,6,2,3,5,9,8,0,7],columns = ['col2','col1'])\n",
    "sorted_df=unsorted_df.sort_index()\n",
    "\n",
    "print(unsorted_df)\n",
    "print('\\n')\n",
    "print(sorted_df)"
   ]
  },
  {
   "cell_type": "markdown",
   "metadata": {
    "colab_type": "text",
    "collapsed": true,
    "id": "1peOm_GLVu6i"
   },
   "source": [
    "## Indexing and selecting data"
   ]
  },
  {
   "cell_type": "markdown",
   "metadata": {
    "colab_type": "text",
    "collapsed": true,
    "id": "a7Oc82GiVu6i"
   },
   "source": [
    "### .loc, .iloc(use integer indexing) and .ix(the mix of 2, deprecated)"
   ]
  },
  {
   "cell_type": "code",
   "execution_count": 41,
   "metadata": {
    "colab": {},
    "colab_type": "code",
    "id": "hgDFiPFzVu6i",
    "outputId": "60cbb12e-f07f-4e43-d958-80ebd208b28f"
   },
   "outputs": [
    {
     "name": "stdout",
     "output_type": "stream",
     "text": [
      "          A         B         C         D\n",
      "a  0.258146  0.155290  0.283488  0.486764\n",
      "b  1.071657 -1.413397  1.020753 -0.768205\n",
      "c  0.081042  1.199593  1.001930 -0.563609\n",
      "d  0.457149  1.402613  0.952441 -0.481370\n",
      "e  0.758298  0.924877  2.465084  0.325823\n",
      "f  1.416650  0.133135  1.478060  1.897016\n",
      "g  2.256948  1.833785  1.187177  0.946236\n",
      "h  0.198348  0.921463  0.908742  0.207661\n",
      "\n",
      "\n",
      "          A         B\n",
      "a  0.258146  0.155290\n",
      "b  1.071657 -1.413397\n",
      "c  0.081042  1.199593\n",
      "d  0.457149  1.402613\n",
      "e  0.758298  0.924877\n",
      "f  1.416650  0.133135\n",
      "g  2.256948  1.833785\n",
      "h  0.198348  0.921463\n",
      "\n",
      "\n"
     ]
    }
   ],
   "source": [
    "df = pd.DataFrame(np.random.randn(8, 4),\n",
    "index = ['a','b','c','d','e','f','g','h'], columns = ['A', 'B', 'C', 'D'])\n",
    "\n",
    "#select all rows for specific columns\n",
    "print(df)\n",
    "print('\\n')\n",
    "print(df.loc[:,['A','B']])\n",
    "print('\\n')\n"
   ]
  },
  {
   "cell_type": "code",
   "execution_count": 42,
   "metadata": {
    "colab": {},
    "colab_type": "code",
    "id": "grhDLq_WVu6k",
    "outputId": "a4a71c98-fb21-42be-a1be-cfdd7328d201"
   },
   "outputs": [
    {
     "name": "stdout",
     "output_type": "stream",
     "text": [
      "          A         B         C         D\n",
      "a  0.826768  0.081365 -1.772656  2.050085\n",
      "b  0.381120  1.483485 -2.162560  0.127626\n",
      "c  0.877909  0.238231 -0.004985 -1.164878\n",
      "d -0.088700 -0.517629  0.004834  1.244071\n",
      "e  0.467892  1.321339  0.861057 -0.798342\n",
      "f  1.918420  0.321144  1.666179  0.774168\n",
      "g  0.259405 -1.482359 -2.163916  0.946284\n",
      "h -0.244987 -2.827648  0.036814 -1.034210\n",
      "\n",
      "\n",
      "          A         B\n",
      "a  0.826768  0.081365\n",
      "b  0.381120  1.483485\n",
      "\n",
      "\n"
     ]
    }
   ],
   "source": [
    "df = pd.DataFrame(np.random.randn(8, 4),\n",
    "index = ['a','b','c','d','e','f','g','h'], columns = ['A', 'B', 'C', 'D'])\n",
    "\n",
    "\n",
    "#select some rows for specific columns\n",
    "print(df)\n",
    "print('\\n')\n",
    "print(df.loc[['a','b'],['A','B']])\n",
    "print('\\n')\n"
   ]
  },
  {
   "cell_type": "code",
   "execution_count": 44,
   "metadata": {
    "colab": {},
    "colab_type": "code",
    "id": "UdHbq2zCVu6m",
    "outputId": "edade9fa-4803-4918-806a-87460361ef5f"
   },
   "outputs": [
    {
     "name": "stdout",
     "output_type": "stream",
     "text": [
      "          A         B         C         D\n",
      "a  1.115472  0.119495  1.752629 -1.479734\n",
      "b -0.694740  0.015148 -1.464774 -0.638582\n",
      "c -0.503424  0.921401  0.886102  0.465442\n",
      "d  1.370605 -0.554722  0.055851  0.275019\n",
      "e -0.745950 -1.527911 -0.448658  0.570886\n",
      "f  0.778087  0.345022 -0.648218  1.149214\n",
      "g -1.221881 -0.109672 -0.714070 -1.218938\n",
      "h -0.895979 -0.289726 -0.187576  0.349194\n",
      "\n",
      "\n",
      "A     True\n",
      "B     True\n",
      "C     True\n",
      "D    False\n",
      "Name: a, dtype: bool\n",
      "\n",
      "\n"
     ]
    }
   ],
   "source": [
    "df = pd.DataFrame(np.random.randn(8, 4),\n",
    "index = ['a','b','c','d','e','f','g','h'], columns = ['A', 'B', 'C', 'D'])\n",
    "\n",
    "\n",
    "print(df)\n",
    "print('\\n')\n",
    "print(df.loc['a']>0)\n",
    "print('\\n')"
   ]
  },
  {
   "cell_type": "code",
   "execution_count": 48,
   "metadata": {},
   "outputs": [
    {
     "data": {
      "text/html": [
       "<div>\n",
       "<style scoped>\n",
       "    .dataframe tbody tr th:only-of-type {\n",
       "        vertical-align: middle;\n",
       "    }\n",
       "\n",
       "    .dataframe tbody tr th {\n",
       "        vertical-align: top;\n",
       "    }\n",
       "\n",
       "    .dataframe thead th {\n",
       "        text-align: right;\n",
       "    }\n",
       "</style>\n",
       "<table border=\"1\" class=\"dataframe\">\n",
       "  <thead>\n",
       "    <tr style=\"text-align: right;\">\n",
       "      <th></th>\n",
       "      <th>A</th>\n",
       "      <th>B</th>\n",
       "      <th>C</th>\n",
       "      <th>D</th>\n",
       "      <th>(a, B)</th>\n",
       "    </tr>\n",
       "  </thead>\n",
       "  <tbody>\n",
       "    <tr>\n",
       "      <th>a</th>\n",
       "      <td>1.115472</td>\n",
       "      <td>10000.000000</td>\n",
       "      <td>1.752629</td>\n",
       "      <td>-1.479734</td>\n",
       "      <td>10000</td>\n",
       "    </tr>\n",
       "    <tr>\n",
       "      <th>b</th>\n",
       "      <td>-0.694740</td>\n",
       "      <td>0.015148</td>\n",
       "      <td>-1.464774</td>\n",
       "      <td>-0.638582</td>\n",
       "      <td>10000</td>\n",
       "    </tr>\n",
       "    <tr>\n",
       "      <th>c</th>\n",
       "      <td>-0.503424</td>\n",
       "      <td>0.921401</td>\n",
       "      <td>0.886102</td>\n",
       "      <td>0.465442</td>\n",
       "      <td>10000</td>\n",
       "    </tr>\n",
       "    <tr>\n",
       "      <th>d</th>\n",
       "      <td>1.370605</td>\n",
       "      <td>-0.554722</td>\n",
       "      <td>0.055851</td>\n",
       "      <td>0.275019</td>\n",
       "      <td>10000</td>\n",
       "    </tr>\n",
       "    <tr>\n",
       "      <th>e</th>\n",
       "      <td>-0.745950</td>\n",
       "      <td>-1.527911</td>\n",
       "      <td>-0.448658</td>\n",
       "      <td>0.570886</td>\n",
       "      <td>10000</td>\n",
       "    </tr>\n",
       "    <tr>\n",
       "      <th>f</th>\n",
       "      <td>0.778087</td>\n",
       "      <td>0.345022</td>\n",
       "      <td>-0.648218</td>\n",
       "      <td>1.149214</td>\n",
       "      <td>10000</td>\n",
       "    </tr>\n",
       "    <tr>\n",
       "      <th>g</th>\n",
       "      <td>-1.221881</td>\n",
       "      <td>-0.109672</td>\n",
       "      <td>-0.714070</td>\n",
       "      <td>-1.218938</td>\n",
       "      <td>10000</td>\n",
       "    </tr>\n",
       "    <tr>\n",
       "      <th>h</th>\n",
       "      <td>-0.895979</td>\n",
       "      <td>-0.289726</td>\n",
       "      <td>-0.187576</td>\n",
       "      <td>0.349194</td>\n",
       "      <td>10000</td>\n",
       "    </tr>\n",
       "  </tbody>\n",
       "</table>\n",
       "</div>"
      ],
      "text/plain": [
       "          A             B         C         D  (a, B)\n",
       "a  1.115472  10000.000000  1.752629 -1.479734   10000\n",
       "b -0.694740      0.015148 -1.464774 -0.638582   10000\n",
       "c -0.503424      0.921401  0.886102  0.465442   10000\n",
       "d  1.370605     -0.554722  0.055851  0.275019   10000\n",
       "e -0.745950     -1.527911 -0.448658  0.570886   10000\n",
       "f  0.778087      0.345022 -0.648218  1.149214   10000\n",
       "g -1.221881     -0.109672 -0.714070 -1.218938   10000\n",
       "h -0.895979     -0.289726 -0.187576  0.349194   10000"
      ]
     },
     "execution_count": 48,
     "metadata": {},
     "output_type": "execute_result"
    }
   ],
   "source": [
    "df.loc['a','B'] = 10000\n",
    "df"
   ]
  },
  {
   "cell_type": "code",
   "execution_count": 51,
   "metadata": {},
   "outputs": [
    {
     "data": {
      "text/html": [
       "<div>\n",
       "<style scoped>\n",
       "    .dataframe tbody tr th:only-of-type {\n",
       "        vertical-align: middle;\n",
       "    }\n",
       "\n",
       "    .dataframe tbody tr th {\n",
       "        vertical-align: top;\n",
       "    }\n",
       "\n",
       "    .dataframe thead th {\n",
       "        text-align: right;\n",
       "    }\n",
       "</style>\n",
       "<table border=\"1\" class=\"dataframe\">\n",
       "  <thead>\n",
       "    <tr style=\"text-align: right;\">\n",
       "      <th></th>\n",
       "      <th>A</th>\n",
       "      <th>B</th>\n",
       "      <th>C</th>\n",
       "      <th>D</th>\n",
       "      <th>(a, B)</th>\n",
       "      <th>(a, A)</th>\n",
       "    </tr>\n",
       "  </thead>\n",
       "  <tbody>\n",
       "    <tr>\n",
       "      <th>a</th>\n",
       "      <td>10000</td>\n",
       "      <td>10000.000000</td>\n",
       "      <td>1.752629</td>\n",
       "      <td>-1.479734</td>\n",
       "      <td>10000</td>\n",
       "      <td>10000</td>\n",
       "    </tr>\n",
       "    <tr>\n",
       "      <th>b</th>\n",
       "      <td>10000</td>\n",
       "      <td>0.015148</td>\n",
       "      <td>-1.464774</td>\n",
       "      <td>-0.638582</td>\n",
       "      <td>10000</td>\n",
       "      <td>10000</td>\n",
       "    </tr>\n",
       "    <tr>\n",
       "      <th>c</th>\n",
       "      <td>10000</td>\n",
       "      <td>0.921401</td>\n",
       "      <td>0.886102</td>\n",
       "      <td>0.465442</td>\n",
       "      <td>10000</td>\n",
       "      <td>10000</td>\n",
       "    </tr>\n",
       "    <tr>\n",
       "      <th>d</th>\n",
       "      <td>10000</td>\n",
       "      <td>-0.554722</td>\n",
       "      <td>0.055851</td>\n",
       "      <td>0.275019</td>\n",
       "      <td>10000</td>\n",
       "      <td>10000</td>\n",
       "    </tr>\n",
       "    <tr>\n",
       "      <th>e</th>\n",
       "      <td>10000</td>\n",
       "      <td>-1.527911</td>\n",
       "      <td>-0.448658</td>\n",
       "      <td>0.570886</td>\n",
       "      <td>10000</td>\n",
       "      <td>10000</td>\n",
       "    </tr>\n",
       "    <tr>\n",
       "      <th>f</th>\n",
       "      <td>10000</td>\n",
       "      <td>0.345022</td>\n",
       "      <td>-0.648218</td>\n",
       "      <td>1.149214</td>\n",
       "      <td>10000</td>\n",
       "      <td>10000</td>\n",
       "    </tr>\n",
       "    <tr>\n",
       "      <th>g</th>\n",
       "      <td>10000</td>\n",
       "      <td>-0.109672</td>\n",
       "      <td>-0.714070</td>\n",
       "      <td>-1.218938</td>\n",
       "      <td>10000</td>\n",
       "      <td>10000</td>\n",
       "    </tr>\n",
       "    <tr>\n",
       "      <th>h</th>\n",
       "      <td>10000</td>\n",
       "      <td>-0.289726</td>\n",
       "      <td>-0.187576</td>\n",
       "      <td>0.349194</td>\n",
       "      <td>10000</td>\n",
       "      <td>10000</td>\n",
       "    </tr>\n",
       "  </tbody>\n",
       "</table>\n",
       "</div>"
      ],
      "text/plain": [
       "       A             B         C         D  (a, B)  (a, A)\n",
       "a  10000  10000.000000  1.752629 -1.479734   10000   10000\n",
       "b  10000      0.015148 -1.464774 -0.638582   10000   10000\n",
       "c  10000      0.921401  0.886102  0.465442   10000   10000\n",
       "d  10000     -0.554722  0.055851  0.275019   10000   10000\n",
       "e  10000     -1.527911 -0.448658  0.570886   10000   10000\n",
       "f  10000      0.345022 -0.648218  1.149214   10000   10000\n",
       "g  10000     -0.109672 -0.714070 -1.218938   10000   10000\n",
       "h  10000     -0.289726 -0.187576  0.349194   10000   10000"
      ]
     },
     "execution_count": 51,
     "metadata": {},
     "output_type": "execute_result"
    }
   ],
   "source": [
    "df['A'] = 10000\n",
    "df"
   ]
  },
  {
   "cell_type": "code",
   "execution_count": 52,
   "metadata": {
    "colab": {},
    "colab_type": "code",
    "id": "XEs9_XAwVu6o",
    "outputId": "d35cd959-81ff-4a7a-ef40-5303cbb794cf"
   },
   "outputs": [
    {
     "name": "stdout",
     "output_type": "stream",
     "text": [
      "          A         B         C         D\n",
      "a  0.876699 -0.641512  1.710212  0.139643\n",
      "b  0.110571  2.190703 -1.418310  1.562049\n",
      "c -0.403823  1.054495 -1.337102  0.061561\n",
      "d -2.813062 -1.129689  0.221792 -1.465130\n",
      "e  1.582268  0.993930 -1.681700  0.152035\n",
      "f -0.899295  0.027251 -0.481491 -0.399839\n",
      "g  0.192728 -0.472795 -1.870746 -0.531290\n",
      "h -0.157373  0.061415  0.388757  0.098967\n",
      "\n",
      "\n",
      "          A         B\n",
      "a  0.876699 -0.641512\n",
      "b  0.110571  2.190703\n",
      "\n",
      "\n"
     ]
    }
   ],
   "source": [
    "df = pd.DataFrame(np.random.randn(8, 4),\n",
    "index = ['a','b','c','d','e','f','g','h'], columns = ['A', 'B', 'C', 'D'])\n",
    "\n",
    "print(df)\n",
    "print('\\n')\n",
    "print(df.iloc[[0,1],[0,1]])\n",
    "print('\\n')"
   ]
  },
  {
   "cell_type": "code",
   "execution_count": 53,
   "metadata": {
    "colab": {},
    "colab_type": "code",
    "id": "5ToLZiSLVu6p",
    "outputId": "05333f55-d250-4110-cf5f-d5e592056c18"
   },
   "outputs": [
    {
     "name": "stdout",
     "output_type": "stream",
     "text": [
      "          A         B         C         D\n",
      "a -0.692335  2.676531 -0.883585  1.333172\n",
      "b -1.163907 -0.537406 -1.021698  2.174502\n",
      "c  1.358573 -0.146881  0.400455  1.110341\n",
      "d  1.283093 -0.480444  1.272692 -0.466552\n",
      "e  0.702724  0.045457 -0.223884  1.408516\n",
      "f -0.043985 -0.509924  0.790631 -0.948628\n",
      "g -0.432403 -1.279397  1.694345 -0.014580\n",
      "h -0.171414  0.613783  0.326136  0.488360\n",
      "\n",
      "\n",
      "          A         B\n",
      "a -0.692335  2.676531\n",
      "b -1.163907 -0.537406\n",
      "c  1.358573 -0.146881\n",
      "\n",
      "\n"
     ]
    }
   ],
   "source": [
    "df = pd.DataFrame(np.random.randn(8, 4),\n",
    "index = ['a','b','c','d','e','f','g','h'], columns = ['A', 'B', 'C', 'D'])\n",
    "\n",
    "\n",
    "print(df)\n",
    "print('\\n')\n",
    "print(df.iloc[0:3,[0,1]])\n",
    "print('\\n')"
   ]
  },
  {
   "cell_type": "code",
   "execution_count": 54,
   "metadata": {
    "colab": {},
    "colab_type": "code",
    "id": "7L4uK5LMVu6r",
    "outputId": "68c1e9eb-bb4a-4cb8-a16e-e895be933de4"
   },
   "outputs": [
    {
     "name": "stdout",
     "output_type": "stream",
     "text": [
      "          A         B         C         D\n",
      "a  0.427928  0.574566  0.165276 -1.700216\n",
      "b  0.307585 -0.543570  1.326506  1.082013\n",
      "c -0.040400  1.189062 -1.638333  1.187976\n",
      "d  0.999791 -0.087311 -0.130326  0.661294\n",
      "e  0.691873  0.477732 -0.170079 -1.128638\n",
      "f  0.464286 -0.136322  1.198796  1.434815\n",
      "g -0.658623  0.738193  0.373768  0.482012\n",
      "h -0.257255 -1.164271 -0.404536  0.857642\n",
      "\n",
      "\n",
      "a    0.427928\n",
      "b    0.307585\n",
      "c   -0.040400\n",
      "d    0.999791\n",
      "e    0.691873\n",
      "f    0.464286\n",
      "g   -0.658623\n",
      "h   -0.257255\n",
      "Name: A, dtype: float64\n"
     ]
    },
    {
     "name": "stderr",
     "output_type": "stream",
     "text": [
      "/anaconda3/lib/python3.7/site-packages/ipykernel_launcher.py:7: DeprecationWarning: \n",
      ".ix is deprecated. Please use\n",
      ".loc for label based indexing or\n",
      ".iloc for positional indexing\n",
      "\n",
      "See the documentation here:\n",
      "http://pandas.pydata.org/pandas-docs/stable/indexing.html#ix-indexer-is-deprecated\n",
      "  import sys\n"
     ]
    }
   ],
   "source": [
    "df = pd.DataFrame(np.random.randn(8, 4),\n",
    "index = ['a','b','c','d','e','f','g','h'], columns = ['A', 'B', 'C', 'D'])\n",
    "\n",
    "\n",
    "print(df)\n",
    "print('\\n')\n",
    "print(df.ix[:,'A'])"
   ]
  },
  {
   "cell_type": "markdown",
   "metadata": {
    "colab_type": "text",
    "collapsed": true,
    "id": "K_gv3IS1Vu6s"
   },
   "source": [
    "## Missing values"
   ]
  },
  {
   "cell_type": "code",
   "execution_count": 55,
   "metadata": {
    "colab": {},
    "colab_type": "code",
    "id": "68RMW7dYVu6s",
    "outputId": "e2559197-de10-4ef8-a62f-aebdd5e4a4ef"
   },
   "outputs": [
    {
     "name": "stdout",
     "output_type": "stream",
     "text": [
      "        one       two     three\n",
      "a -0.608527  0.796978 -0.884189\n",
      "b       NaN       NaN       NaN\n",
      "c -0.430152 -0.837826 -0.405819\n",
      "d       NaN       NaN       NaN\n",
      "e -0.810995  0.445044  0.816048\n",
      "f -0.368439  0.056796  0.961981\n",
      "g       NaN       NaN       NaN\n",
      "h  0.164091 -0.048992  1.284001\n"
     ]
    }
   ],
   "source": [
    "df = pd.DataFrame(np.random.randn(5, 3), index=['a', 'c', 'e', 'f','h'],columns=['one', 'two', 'three'])\n",
    "\n",
    "df = df.reindex(['a', 'b', 'c', 'd', 'e', 'f', 'g', 'h'])\n",
    "\n",
    "print (df)"
   ]
  },
  {
   "cell_type": "code",
   "execution_count": 56,
   "metadata": {
    "colab": {},
    "colab_type": "code",
    "id": "IXxMIUR1Vu6u",
    "outputId": "c7c343af-ed5d-418d-a232-ed257ad9755d"
   },
   "outputs": [
    {
     "data": {
      "text/plain": [
       "a    False\n",
       "b     True\n",
       "c    False\n",
       "d     True\n",
       "e    False\n",
       "f    False\n",
       "g     True\n",
       "h    False\n",
       "Name: one, dtype: bool"
      ]
     },
     "execution_count": 56,
     "metadata": {},
     "output_type": "execute_result"
    }
   ],
   "source": [
    "df['one'].isnull()"
   ]
  },
  {
   "cell_type": "code",
   "execution_count": 57,
   "metadata": {
    "colab": {},
    "colab_type": "code",
    "id": "10wWJ_pyVu6u",
    "outputId": "9b12669f-ff8b-4fce-bf87-1cb78868a019"
   },
   "outputs": [
    {
     "data": {
      "text/plain": [
       "a     True\n",
       "b    False\n",
       "c     True\n",
       "d    False\n",
       "e     True\n",
       "f     True\n",
       "g    False\n",
       "h     True\n",
       "Name: one, dtype: bool"
      ]
     },
     "execution_count": 57,
     "metadata": {},
     "output_type": "execute_result"
    }
   ],
   "source": [
    "df['one'].notnull()"
   ]
  },
  {
   "cell_type": "markdown",
   "metadata": {
    "colab_type": "text",
    "collapsed": true,
    "id": "21q614aTVu6v"
   },
   "source": [
    "### Replacing the missing data"
   ]
  },
  {
   "cell_type": "code",
   "execution_count": 58,
   "metadata": {
    "colab": {},
    "colab_type": "code",
    "id": "H-EWXt-FVu6w",
    "outputId": "0d659d3f-0f2b-4726-9e56-e577cf2fec5c"
   },
   "outputs": [
    {
     "data": {
      "text/html": [
       "<div>\n",
       "<style scoped>\n",
       "    .dataframe tbody tr th:only-of-type {\n",
       "        vertical-align: middle;\n",
       "    }\n",
       "\n",
       "    .dataframe tbody tr th {\n",
       "        vertical-align: top;\n",
       "    }\n",
       "\n",
       "    .dataframe thead th {\n",
       "        text-align: right;\n",
       "    }\n",
       "</style>\n",
       "<table border=\"1\" class=\"dataframe\">\n",
       "  <thead>\n",
       "    <tr style=\"text-align: right;\">\n",
       "      <th></th>\n",
       "      <th>one</th>\n",
       "      <th>two</th>\n",
       "      <th>three</th>\n",
       "    </tr>\n",
       "  </thead>\n",
       "  <tbody>\n",
       "    <tr>\n",
       "      <th>a</th>\n",
       "      <td>-0.608527</td>\n",
       "      <td>0.796978</td>\n",
       "      <td>-0.884189</td>\n",
       "    </tr>\n",
       "    <tr>\n",
       "      <th>b</th>\n",
       "      <td>0.000000</td>\n",
       "      <td>0.000000</td>\n",
       "      <td>0.000000</td>\n",
       "    </tr>\n",
       "    <tr>\n",
       "      <th>c</th>\n",
       "      <td>-0.430152</td>\n",
       "      <td>-0.837826</td>\n",
       "      <td>-0.405819</td>\n",
       "    </tr>\n",
       "    <tr>\n",
       "      <th>d</th>\n",
       "      <td>0.000000</td>\n",
       "      <td>0.000000</td>\n",
       "      <td>0.000000</td>\n",
       "    </tr>\n",
       "    <tr>\n",
       "      <th>e</th>\n",
       "      <td>-0.810995</td>\n",
       "      <td>0.445044</td>\n",
       "      <td>0.816048</td>\n",
       "    </tr>\n",
       "    <tr>\n",
       "      <th>f</th>\n",
       "      <td>-0.368439</td>\n",
       "      <td>0.056796</td>\n",
       "      <td>0.961981</td>\n",
       "    </tr>\n",
       "    <tr>\n",
       "      <th>g</th>\n",
       "      <td>0.000000</td>\n",
       "      <td>0.000000</td>\n",
       "      <td>0.000000</td>\n",
       "    </tr>\n",
       "    <tr>\n",
       "      <th>h</th>\n",
       "      <td>0.164091</td>\n",
       "      <td>-0.048992</td>\n",
       "      <td>1.284001</td>\n",
       "    </tr>\n",
       "  </tbody>\n",
       "</table>\n",
       "</div>"
      ],
      "text/plain": [
       "        one       two     three\n",
       "a -0.608527  0.796978 -0.884189\n",
       "b  0.000000  0.000000  0.000000\n",
       "c -0.430152 -0.837826 -0.405819\n",
       "d  0.000000  0.000000  0.000000\n",
       "e -0.810995  0.445044  0.816048\n",
       "f -0.368439  0.056796  0.961981\n",
       "g  0.000000  0.000000  0.000000\n",
       "h  0.164091 -0.048992  1.284001"
      ]
     },
     "execution_count": 58,
     "metadata": {},
     "output_type": "execute_result"
    }
   ],
   "source": [
    "df1 = df.fillna(0)\n",
    "df1"
   ]
  },
  {
   "cell_type": "code",
   "execution_count": 59,
   "metadata": {},
   "outputs": [],
   "source": [
    "?df.fillna"
   ]
  },
  {
   "cell_type": "markdown",
   "metadata": {
    "colab_type": "text",
    "collapsed": true,
    "id": "pywSLmrOVu6x"
   },
   "source": [
    "### See some other options that fillna() provides in the python documentation :)"
   ]
  },
  {
   "cell_type": "markdown",
   "metadata": {
    "colab_type": "text",
    "collapsed": true,
    "id": "1t7s0wxbVu6x"
   },
   "source": [
    "### Dropping the missing data"
   ]
  },
  {
   "cell_type": "code",
   "execution_count": 60,
   "metadata": {
    "colab": {},
    "colab_type": "code",
    "id": "LSaBSJfWVu6x",
    "outputId": "730a1aa0-6506-49a4-99fa-19ba4c5ba536"
   },
   "outputs": [
    {
     "data": {
      "text/html": [
       "<div>\n",
       "<style scoped>\n",
       "    .dataframe tbody tr th:only-of-type {\n",
       "        vertical-align: middle;\n",
       "    }\n",
       "\n",
       "    .dataframe tbody tr th {\n",
       "        vertical-align: top;\n",
       "    }\n",
       "\n",
       "    .dataframe thead th {\n",
       "        text-align: right;\n",
       "    }\n",
       "</style>\n",
       "<table border=\"1\" class=\"dataframe\">\n",
       "  <thead>\n",
       "    <tr style=\"text-align: right;\">\n",
       "      <th></th>\n",
       "      <th>one</th>\n",
       "      <th>two</th>\n",
       "      <th>three</th>\n",
       "    </tr>\n",
       "  </thead>\n",
       "  <tbody>\n",
       "    <tr>\n",
       "      <th>a</th>\n",
       "      <td>-0.608527</td>\n",
       "      <td>0.796978</td>\n",
       "      <td>-0.884189</td>\n",
       "    </tr>\n",
       "    <tr>\n",
       "      <th>c</th>\n",
       "      <td>-0.430152</td>\n",
       "      <td>-0.837826</td>\n",
       "      <td>-0.405819</td>\n",
       "    </tr>\n",
       "    <tr>\n",
       "      <th>e</th>\n",
       "      <td>-0.810995</td>\n",
       "      <td>0.445044</td>\n",
       "      <td>0.816048</td>\n",
       "    </tr>\n",
       "    <tr>\n",
       "      <th>f</th>\n",
       "      <td>-0.368439</td>\n",
       "      <td>0.056796</td>\n",
       "      <td>0.961981</td>\n",
       "    </tr>\n",
       "    <tr>\n",
       "      <th>h</th>\n",
       "      <td>0.164091</td>\n",
       "      <td>-0.048992</td>\n",
       "      <td>1.284001</td>\n",
       "    </tr>\n",
       "  </tbody>\n",
       "</table>\n",
       "</div>"
      ],
      "text/plain": [
       "        one       two     three\n",
       "a -0.608527  0.796978 -0.884189\n",
       "c -0.430152 -0.837826 -0.405819\n",
       "e -0.810995  0.445044  0.816048\n",
       "f -0.368439  0.056796  0.961981\n",
       "h  0.164091 -0.048992  1.284001"
      ]
     },
     "execution_count": 60,
     "metadata": {},
     "output_type": "execute_result"
    }
   ],
   "source": [
    "df2 = df.dropna()\n",
    "df2"
   ]
  },
  {
   "cell_type": "markdown",
   "metadata": {
    "colab_type": "text",
    "collapsed": true,
    "id": "JifMTrfbVu6y"
   },
   "source": [
    "## Replacing regular values"
   ]
  },
  {
   "cell_type": "code",
   "execution_count": 61,
   "metadata": {
    "colab": {},
    "colab_type": "code",
    "id": "z-GJ6JppVu6z",
    "outputId": "b6e11cad-eb5a-4bbf-c90e-339a5f3bf805"
   },
   "outputs": [
    {
     "name": "stdout",
     "output_type": "stream",
     "text": [
      "    one   two\n",
      "0    10  1000\n",
      "1    20     0\n",
      "2    30    30\n",
      "3    40    40\n",
      "4    50    50\n",
      "5  2000    60\n",
      "\n",
      "\n",
      "   one  two\n",
      "0   10   10\n",
      "1   20    0\n",
      "2   30   30\n",
      "3   40   40\n",
      "4   50   50\n",
      "5   60   60\n"
     ]
    }
   ],
   "source": [
    "df = pd.DataFrame({'one':[10,20,30,40,50,2000],'two':[1000,0,30,40,50,60]})\n",
    "\n",
    "print(df)\n",
    "print('\\n')\n",
    "print (df.replace({1000:10,2000:60}))"
   ]
  },
  {
   "cell_type": "markdown",
   "metadata": {
    "colab_type": "text",
    "collapsed": true,
    "id": "pW_02VwYVu60"
   },
   "source": [
    "## Groupby"
   ]
  },
  {
   "cell_type": "code",
   "execution_count": 2,
   "metadata": {
    "colab": {},
    "colab_type": "code",
    "id": "EffZsAc-Vu60",
    "outputId": "5d60bc9b-5ffc-4dc3-f1e9-c37bd4e78d94"
   },
   "outputs": [
    {
     "name": "stdout",
     "output_type": "stream",
     "text": [
      "      Team  Rank  Year  Points\n",
      "0   Riders     1  2014     876\n",
      "1   Riders     2  2015     789\n",
      "2   Devils     2  2014     863\n",
      "3   Devils     3  2015     673\n",
      "4    Kings     3  2014     741\n",
      "5    kings     4  2015     812\n",
      "6    Kings     1  2016     756\n",
      "7    Kings     1  2017     788\n",
      "8   Riders     2  2016     694\n",
      "9   Royals     4  2014     701\n",
      "10  Royals     1  2015     804\n",
      "11  Riders     2  2017     690\n",
      "\n",
      "\n",
      "<pandas.core.groupby.generic.DataFrameGroupBy object at 0x0000024F53620E48>\n"
     ]
    }
   ],
   "source": [
    "import pandas as pd\n",
    "\n",
    "ipl_data = {'Team': ['Riders', 'Riders', 'Devils', 'Devils', 'Kings',\n",
    "                     'kings', 'Kings', 'Kings', 'Riders', 'Royals', 'Royals', 'Riders'],\n",
    "         'Rank': [1, 2, 2, 3, 3,4 ,1 ,1,2 , 4,1,2],\n",
    "         'Year': [2014,2015,2014,2015,2014,2015,2016,2017,2016,2014,2015,2017],\n",
    "         'Points':[876,789,863,673,741,812,756,788,694,701,804,690]}\n",
    "df = pd.DataFrame(ipl_data)\n",
    "\n",
    "print(df)\n",
    "print('\\n')\n",
    "print (df.groupby('Team'))"
   ]
  },
  {
   "cell_type": "code",
   "execution_count": 64,
   "metadata": {},
   "outputs": [
    {
     "name": "stdout",
     "output_type": "stream",
     "text": [
      "            Rank         Year      Points\n",
      "Team                                     \n",
      "Devils  2.500000  2014.500000  768.000000\n",
      "Kings   1.666667  2015.666667  761.666667\n",
      "Riders  1.750000  2015.500000  762.250000\n",
      "Royals  2.500000  2014.500000  752.500000\n",
      "kings   4.000000  2015.000000  812.000000\n"
     ]
    }
   ],
   "source": [
    "x = df.groupby('Team')\n",
    "print (x.mean())"
   ]
  },
  {
   "cell_type": "code",
   "execution_count": 45,
   "metadata": {},
   "outputs": [
    {
     "name": "stdout",
     "output_type": "stream",
     "text": [
      "        Rank    Year  Points\n",
      "Team                        \n",
      "Devils   2.5  2014.5   768.0\n",
      "Kings    1.0  2016.0   756.0\n",
      "Riders   2.0  2015.5   741.5\n",
      "Royals   2.5  2014.5   752.5\n",
      "kings    4.0  2015.0   812.0\n"
     ]
    }
   ],
   "source": [
    "print (df.groupby('Team').median())"
   ]
  },
  {
   "cell_type": "markdown",
   "metadata": {
    "colab_type": "text",
    "collapsed": true,
    "id": "BNmmuCjRVu61"
   },
   "source": [
    "### View the groups"
   ]
  },
  {
   "cell_type": "code",
   "execution_count": 65,
   "metadata": {
    "colab": {},
    "colab_type": "code",
    "id": "8PyZs77qVu61",
    "outputId": "b02428f2-43b7-42c2-b095-da6250409346"
   },
   "outputs": [
    {
     "name": "stdout",
     "output_type": "stream",
     "text": [
      "{'Devils': Int64Index([2, 3], dtype='int64'), 'Kings': Int64Index([4, 6, 7], dtype='int64'), 'Riders': Int64Index([0, 1, 8, 11], dtype='int64'), 'Royals': Int64Index([9, 10], dtype='int64'), 'kings': Int64Index([5], dtype='int64')}\n"
     ]
    }
   ],
   "source": [
    "print (df.groupby('Team').groups)"
   ]
  },
  {
   "cell_type": "code",
   "execution_count": 66,
   "metadata": {
    "colab": {},
    "colab_type": "code",
    "id": "SieAu1FnVu62",
    "outputId": "a8e867f4-e9c8-4a0e-b0a3-536dcbe42f89"
   },
   "outputs": [
    {
     "name": "stdout",
     "output_type": "stream",
     "text": [
      "2014\n",
      "     Team  Rank  Year  Points\n",
      "0  Riders     1  2014     876\n",
      "2  Devils     2  2014     863\n",
      "4   Kings     3  2014     741\n",
      "9  Royals     4  2014     701\n",
      "\n",
      "\n",
      "2015\n",
      "      Team  Rank  Year  Points\n",
      "1   Riders     2  2015     789\n",
      "3   Devils     3  2015     673\n",
      "5    kings     4  2015     812\n",
      "10  Royals     1  2015     804\n",
      "\n",
      "\n",
      "2016\n",
      "     Team  Rank  Year  Points\n",
      "6   Kings     1  2016     756\n",
      "8  Riders     2  2016     694\n",
      "\n",
      "\n",
      "2017\n",
      "      Team  Rank  Year  Points\n",
      "7    Kings     1  2017     788\n",
      "11  Riders     2  2017     690\n",
      "\n",
      "\n"
     ]
    }
   ],
   "source": [
    "grouped = df.groupby('Year')\n",
    "\n",
    "for name,group in grouped:\n",
    "    print (name)\n",
    "    print (group)\n",
    "    print('\\n')"
   ]
  },
  {
   "cell_type": "markdown",
   "metadata": {
    "colab_type": "text",
    "collapsed": true,
    "id": "htre2rLJVu63"
   },
   "source": [
    "## Aggregations\n",
    "An aggregated function returns a single aggregated value for each group. "
   ]
  },
  {
   "cell_type": "code",
   "execution_count": 67,
   "metadata": {
    "colab": {},
    "colab_type": "code",
    "id": "bbjG_LgrVu63",
    "outputId": "b674ef5f-3f04-47d5-d98c-55dab8dff431"
   },
   "outputs": [
    {
     "name": "stdout",
     "output_type": "stream",
     "text": [
      "Year\n",
      "2014    795.25\n",
      "2015    769.50\n",
      "2016    725.00\n",
      "2017    739.00\n",
      "Name: Points, dtype: float64\n",
      "Year\n",
      "2014    795.25\n",
      "2015    769.50\n",
      "2016    725.00\n",
      "2017    739.00\n",
      "Name: Points, dtype: float64\n"
     ]
    }
   ],
   "source": [
    "grouped = df.groupby('Year')\n",
    "print (grouped['Points'].agg(np.mean))\n",
    "print (grouped['Points'].mean())"
   ]
  },
  {
   "cell_type": "code",
   "execution_count": 10,
   "metadata": {
    "colab": {},
    "colab_type": "code",
    "id": "VHN0aOyUVu64",
    "outputId": "008930e5-526a-419a-c93a-9e9a18c75589"
   },
   "outputs": [
    {
     "data": {
      "text/html": [
       "<div>\n",
       "<style scoped>\n",
       "    .dataframe tbody tr th:only-of-type {\n",
       "        vertical-align: middle;\n",
       "    }\n",
       "\n",
       "    .dataframe tbody tr th {\n",
       "        vertical-align: top;\n",
       "    }\n",
       "\n",
       "    .dataframe thead th {\n",
       "        text-align: right;\n",
       "    }\n",
       "</style>\n",
       "<table border=\"1\" class=\"dataframe\">\n",
       "  <thead>\n",
       "    <tr style=\"text-align: right;\">\n",
       "      <th></th>\n",
       "      <th>sum</th>\n",
       "      <th>mean</th>\n",
       "      <th>std</th>\n",
       "    </tr>\n",
       "    <tr>\n",
       "      <th>Team</th>\n",
       "      <th></th>\n",
       "      <th></th>\n",
       "      <th></th>\n",
       "    </tr>\n",
       "  </thead>\n",
       "  <tbody>\n",
       "    <tr>\n",
       "      <th>Devils</th>\n",
       "      <td>1536</td>\n",
       "      <td>768.000000</td>\n",
       "      <td>134.350288</td>\n",
       "    </tr>\n",
       "    <tr>\n",
       "      <th>Kings</th>\n",
       "      <td>2285</td>\n",
       "      <td>761.666667</td>\n",
       "      <td>24.006943</td>\n",
       "    </tr>\n",
       "    <tr>\n",
       "      <th>Riders</th>\n",
       "      <td>3049</td>\n",
       "      <td>762.250000</td>\n",
       "      <td>88.567771</td>\n",
       "    </tr>\n",
       "    <tr>\n",
       "      <th>Royals</th>\n",
       "      <td>1505</td>\n",
       "      <td>752.500000</td>\n",
       "      <td>72.831998</td>\n",
       "    </tr>\n",
       "    <tr>\n",
       "      <th>kings</th>\n",
       "      <td>812</td>\n",
       "      <td>812.000000</td>\n",
       "      <td>NaN</td>\n",
       "    </tr>\n",
       "  </tbody>\n",
       "</table>\n",
       "</div>"
      ],
      "text/plain": [
       "         sum        mean         std\n",
       "Team                                \n",
       "Devils  1536  768.000000  134.350288\n",
       "Kings   2285  761.666667   24.006943\n",
       "Riders  3049  762.250000   88.567771\n",
       "Royals  1505  752.500000   72.831998\n",
       "kings    812  812.000000         NaN"
      ]
     },
     "execution_count": 10,
     "metadata": {},
     "output_type": "execute_result"
    }
   ],
   "source": [
    "grouped = df.groupby('Team')\n",
    "grouped['Points'].agg([np.sum, np.mean, np.std])"
   ]
  },
  {
   "cell_type": "code",
   "execution_count": 69,
   "metadata": {},
   "outputs": [
    {
     "data": {
      "text/plain": [
       "sum     9187.000000\n",
       "mean     765.583333\n",
       "std       67.849376\n",
       "Name: Points, dtype: float64"
      ]
     },
     "execution_count": 69,
     "metadata": {},
     "output_type": "execute_result"
    }
   ],
   "source": [
    "df['Points'].agg([np.sum, np.mean, np.std])"
   ]
  },
  {
   "cell_type": "markdown",
   "metadata": {
    "colab_type": "text",
    "collapsed": true,
    "id": "wD93viUhVu65"
   },
   "source": [
    "## Merging/Joining"
   ]
  },
  {
   "cell_type": "code",
   "execution_count": 70,
   "metadata": {
    "colab": {},
    "colab_type": "code",
    "id": "7w2lAIE3Vu65",
    "outputId": "d911a129-6915-4347-cda6-eeeac343698a"
   },
   "outputs": [
    {
     "name": "stdout",
     "output_type": "stream",
     "text": [
      "   id    Name subject_id\n",
      "0   1    Alex       sub1\n",
      "1   2     Amy       sub2\n",
      "2   3   Allen       sub4\n",
      "3   4   Alice       sub6\n",
      "4   5  Ayoung       sub5\n",
      "\n",
      "\n",
      "   id   Name subject_id\n",
      "0   1  Billy       sub2\n",
      "1   2  Brian       sub4\n",
      "2   3   Bran       sub3\n",
      "3   4  Bryce       sub6\n",
      "4   5  Betty       sub5\n"
     ]
    }
   ],
   "source": [
    "df1 = pd.DataFrame({\n",
    "         'id':[1,2,3,4,5],\n",
    "         'Name': ['Alex', 'Amy', 'Allen', 'Alice', 'Ayoung'],\n",
    "         'subject_id':['sub1','sub2','sub4','sub6','sub5']})\n",
    "df2 = pd.DataFrame(\n",
    "         {'id':[1,2,3,4,5],\n",
    "         'Name': ['Billy', 'Brian', 'Bran', 'Bryce', 'Betty'],\n",
    "         'subject_id':['sub2','sub4','sub3','sub6','sub5']})\n",
    "print (df1)\n",
    "print('\\n')\n",
    "print (df2)"
   ]
  },
  {
   "cell_type": "markdown",
   "metadata": {
    "colab_type": "text",
    "collapsed": true,
    "id": "pFXWHVr5Vu66"
   },
   "source": [
    "### Merge Two DataFrames on a Key"
   ]
  },
  {
   "cell_type": "code",
   "execution_count": 71,
   "metadata": {
    "colab": {},
    "colab_type": "code",
    "id": "urSZ8k8UVu66",
    "outputId": "189189f6-ade9-47d3-9bb4-da3512cd9e8b"
   },
   "outputs": [
    {
     "data": {
      "text/html": [
       "<div>\n",
       "<style scoped>\n",
       "    .dataframe tbody tr th:only-of-type {\n",
       "        vertical-align: middle;\n",
       "    }\n",
       "\n",
       "    .dataframe tbody tr th {\n",
       "        vertical-align: top;\n",
       "    }\n",
       "\n",
       "    .dataframe thead th {\n",
       "        text-align: right;\n",
       "    }\n",
       "</style>\n",
       "<table border=\"1\" class=\"dataframe\">\n",
       "  <thead>\n",
       "    <tr style=\"text-align: right;\">\n",
       "      <th></th>\n",
       "      <th>id</th>\n",
       "      <th>Name_x</th>\n",
       "      <th>subject_id_x</th>\n",
       "      <th>Name_y</th>\n",
       "      <th>subject_id_y</th>\n",
       "    </tr>\n",
       "  </thead>\n",
       "  <tbody>\n",
       "    <tr>\n",
       "      <th>0</th>\n",
       "      <td>1</td>\n",
       "      <td>Alex</td>\n",
       "      <td>sub1</td>\n",
       "      <td>Billy</td>\n",
       "      <td>sub2</td>\n",
       "    </tr>\n",
       "    <tr>\n",
       "      <th>1</th>\n",
       "      <td>2</td>\n",
       "      <td>Amy</td>\n",
       "      <td>sub2</td>\n",
       "      <td>Brian</td>\n",
       "      <td>sub4</td>\n",
       "    </tr>\n",
       "    <tr>\n",
       "      <th>2</th>\n",
       "      <td>3</td>\n",
       "      <td>Allen</td>\n",
       "      <td>sub4</td>\n",
       "      <td>Bran</td>\n",
       "      <td>sub3</td>\n",
       "    </tr>\n",
       "    <tr>\n",
       "      <th>3</th>\n",
       "      <td>4</td>\n",
       "      <td>Alice</td>\n",
       "      <td>sub6</td>\n",
       "      <td>Bryce</td>\n",
       "      <td>sub6</td>\n",
       "    </tr>\n",
       "    <tr>\n",
       "      <th>4</th>\n",
       "      <td>5</td>\n",
       "      <td>Ayoung</td>\n",
       "      <td>sub5</td>\n",
       "      <td>Betty</td>\n",
       "      <td>sub5</td>\n",
       "    </tr>\n",
       "  </tbody>\n",
       "</table>\n",
       "</div>"
      ],
      "text/plain": [
       "   id  Name_x subject_id_x Name_y subject_id_y\n",
       "0   1    Alex         sub1  Billy         sub2\n",
       "1   2     Amy         sub2  Brian         sub4\n",
       "2   3   Allen         sub4   Bran         sub3\n",
       "3   4   Alice         sub6  Bryce         sub6\n",
       "4   5  Ayoung         sub5  Betty         sub5"
      ]
     },
     "execution_count": 71,
     "metadata": {},
     "output_type": "execute_result"
    }
   ],
   "source": [
    "pd.merge(df1,df2,on='id') "
   ]
  },
  {
   "cell_type": "code",
   "execution_count": 72,
   "metadata": {
    "colab": {},
    "colab_type": "code",
    "id": "_hsQKV_jVu67",
    "outputId": "38eaf92e-45cf-4d03-c5bc-5a56d55830a3"
   },
   "outputs": [
    {
     "name": "stdout",
     "output_type": "stream",
     "text": [
      "   id    Name subject_id\n",
      "0   1    Alex       sub1\n",
      "1   2     Amy       sub2\n",
      "2   3   Allen       sub4\n",
      "3   4   Alice       sub6\n",
      "4   5  Ayoung       sub5\n",
      "   id   Name subject_id\n",
      "0   1  Billy       sub2\n",
      "1   2  Brian       sub4\n",
      "2   3   Bran       sub3\n",
      "3   4  Bryce       sub6\n",
      "4   5  Betty       sub5\n"
     ]
    },
    {
     "data": {
      "text/html": [
       "<div>\n",
       "<style scoped>\n",
       "    .dataframe tbody tr th:only-of-type {\n",
       "        vertical-align: middle;\n",
       "    }\n",
       "\n",
       "    .dataframe tbody tr th {\n",
       "        vertical-align: top;\n",
       "    }\n",
       "\n",
       "    .dataframe thead th {\n",
       "        text-align: right;\n",
       "    }\n",
       "</style>\n",
       "<table border=\"1\" class=\"dataframe\">\n",
       "  <thead>\n",
       "    <tr style=\"text-align: right;\">\n",
       "      <th></th>\n",
       "      <th>id</th>\n",
       "      <th>Name_x</th>\n",
       "      <th>subject_id</th>\n",
       "      <th>Name_y</th>\n",
       "    </tr>\n",
       "  </thead>\n",
       "  <tbody>\n",
       "    <tr>\n",
       "      <th>0</th>\n",
       "      <td>4</td>\n",
       "      <td>Alice</td>\n",
       "      <td>sub6</td>\n",
       "      <td>Bryce</td>\n",
       "    </tr>\n",
       "    <tr>\n",
       "      <th>1</th>\n",
       "      <td>5</td>\n",
       "      <td>Ayoung</td>\n",
       "      <td>sub5</td>\n",
       "      <td>Betty</td>\n",
       "    </tr>\n",
       "  </tbody>\n",
       "</table>\n",
       "</div>"
      ],
      "text/plain": [
       "   id  Name_x subject_id Name_y\n",
       "0   4   Alice       sub6  Bryce\n",
       "1   5  Ayoung       sub5  Betty"
      ]
     },
     "execution_count": 72,
     "metadata": {},
     "output_type": "execute_result"
    }
   ],
   "source": [
    "# looks for equal touples\n",
    "print(df1)\n",
    "print(df2)\n",
    "pd.merge(df1,df2,on=['id','subject_id'])"
   ]
  },
  {
   "cell_type": "markdown",
   "metadata": {
    "colab_type": "text",
    "collapsed": true,
    "id": "M7IVmqB9Vu67"
   },
   "source": [
    "### Left join"
   ]
  },
  {
   "cell_type": "code",
   "execution_count": 73,
   "metadata": {
    "colab": {},
    "colab_type": "code",
    "id": "z-dZxXpEVu67",
    "outputId": "11949935-6f32-4339-9b60-00b1c64323e1"
   },
   "outputs": [
    {
     "name": "stdout",
     "output_type": "stream",
     "text": [
      "   id    Name subject_id\n",
      "0   1    Alex       sub1\n",
      "1   2     Amy       sub2\n",
      "2   3   Allen       sub4\n",
      "3   4   Alice       sub6\n",
      "4   5  Ayoung       sub5\n",
      "\n",
      "\n",
      "   id   Name subject_id\n",
      "0   1  Billy       sub2\n",
      "1   2  Brian       sub4\n",
      "2   3   Bran       sub3\n",
      "3   4  Bryce       sub6\n",
      "4   5  Betty       sub5\n"
     ]
    }
   ],
   "source": [
    "print (df1)\n",
    "print('\\n')\n",
    "print (df2)"
   ]
  },
  {
   "cell_type": "code",
   "execution_count": 74,
   "metadata": {
    "colab": {},
    "colab_type": "code",
    "id": "KUs65zpSVu68",
    "outputId": "3864ae37-1aa6-4215-b74d-4c38b7056844"
   },
   "outputs": [
    {
     "data": {
      "text/html": [
       "<div>\n",
       "<style scoped>\n",
       "    .dataframe tbody tr th:only-of-type {\n",
       "        vertical-align: middle;\n",
       "    }\n",
       "\n",
       "    .dataframe tbody tr th {\n",
       "        vertical-align: top;\n",
       "    }\n",
       "\n",
       "    .dataframe thead th {\n",
       "        text-align: right;\n",
       "    }\n",
       "</style>\n",
       "<table border=\"1\" class=\"dataframe\">\n",
       "  <thead>\n",
       "    <tr style=\"text-align: right;\">\n",
       "      <th></th>\n",
       "      <th>id_x</th>\n",
       "      <th>Name_x</th>\n",
       "      <th>subject_id</th>\n",
       "      <th>id_y</th>\n",
       "      <th>Name_y</th>\n",
       "    </tr>\n",
       "  </thead>\n",
       "  <tbody>\n",
       "    <tr>\n",
       "      <th>0</th>\n",
       "      <td>1</td>\n",
       "      <td>Alex</td>\n",
       "      <td>sub1</td>\n",
       "      <td>NaN</td>\n",
       "      <td>NaN</td>\n",
       "    </tr>\n",
       "    <tr>\n",
       "      <th>1</th>\n",
       "      <td>2</td>\n",
       "      <td>Amy</td>\n",
       "      <td>sub2</td>\n",
       "      <td>1.0</td>\n",
       "      <td>Billy</td>\n",
       "    </tr>\n",
       "    <tr>\n",
       "      <th>2</th>\n",
       "      <td>3</td>\n",
       "      <td>Allen</td>\n",
       "      <td>sub4</td>\n",
       "      <td>2.0</td>\n",
       "      <td>Brian</td>\n",
       "    </tr>\n",
       "    <tr>\n",
       "      <th>3</th>\n",
       "      <td>4</td>\n",
       "      <td>Alice</td>\n",
       "      <td>sub6</td>\n",
       "      <td>4.0</td>\n",
       "      <td>Bryce</td>\n",
       "    </tr>\n",
       "    <tr>\n",
       "      <th>4</th>\n",
       "      <td>5</td>\n",
       "      <td>Ayoung</td>\n",
       "      <td>sub5</td>\n",
       "      <td>5.0</td>\n",
       "      <td>Betty</td>\n",
       "    </tr>\n",
       "  </tbody>\n",
       "</table>\n",
       "</div>"
      ],
      "text/plain": [
       "   id_x  Name_x subject_id  id_y Name_y\n",
       "0     1    Alex       sub1   NaN    NaN\n",
       "1     2     Amy       sub2   1.0  Billy\n",
       "2     3   Allen       sub4   2.0  Brian\n",
       "3     4   Alice       sub6   4.0  Bryce\n",
       "4     5  Ayoung       sub5   5.0  Betty"
      ]
     },
     "execution_count": 74,
     "metadata": {},
     "output_type": "execute_result"
    }
   ],
   "source": [
    "pd.merge(df1,df2, on='subject_id', how='left')"
   ]
  },
  {
   "cell_type": "markdown",
   "metadata": {
    "colab_type": "text",
    "collapsed": true,
    "id": "wqkST-WdVu69"
   },
   "source": [
    "### Right join"
   ]
  },
  {
   "cell_type": "code",
   "execution_count": 75,
   "metadata": {
    "colab": {},
    "colab_type": "code",
    "id": "gtwYQU9TVu69",
    "outputId": "65081728-e822-4574-e446-947c80fb555b"
   },
   "outputs": [
    {
     "data": {
      "text/html": [
       "<div>\n",
       "<style scoped>\n",
       "    .dataframe tbody tr th:only-of-type {\n",
       "        vertical-align: middle;\n",
       "    }\n",
       "\n",
       "    .dataframe tbody tr th {\n",
       "        vertical-align: top;\n",
       "    }\n",
       "\n",
       "    .dataframe thead th {\n",
       "        text-align: right;\n",
       "    }\n",
       "</style>\n",
       "<table border=\"1\" class=\"dataframe\">\n",
       "  <thead>\n",
       "    <tr style=\"text-align: right;\">\n",
       "      <th></th>\n",
       "      <th>id_x</th>\n",
       "      <th>Name_x</th>\n",
       "      <th>subject_id</th>\n",
       "      <th>id_y</th>\n",
       "      <th>Name_y</th>\n",
       "    </tr>\n",
       "  </thead>\n",
       "  <tbody>\n",
       "    <tr>\n",
       "      <th>0</th>\n",
       "      <td>2.0</td>\n",
       "      <td>Amy</td>\n",
       "      <td>sub2</td>\n",
       "      <td>1</td>\n",
       "      <td>Billy</td>\n",
       "    </tr>\n",
       "    <tr>\n",
       "      <th>1</th>\n",
       "      <td>3.0</td>\n",
       "      <td>Allen</td>\n",
       "      <td>sub4</td>\n",
       "      <td>2</td>\n",
       "      <td>Brian</td>\n",
       "    </tr>\n",
       "    <tr>\n",
       "      <th>2</th>\n",
       "      <td>4.0</td>\n",
       "      <td>Alice</td>\n",
       "      <td>sub6</td>\n",
       "      <td>4</td>\n",
       "      <td>Bryce</td>\n",
       "    </tr>\n",
       "    <tr>\n",
       "      <th>3</th>\n",
       "      <td>5.0</td>\n",
       "      <td>Ayoung</td>\n",
       "      <td>sub5</td>\n",
       "      <td>5</td>\n",
       "      <td>Betty</td>\n",
       "    </tr>\n",
       "    <tr>\n",
       "      <th>4</th>\n",
       "      <td>NaN</td>\n",
       "      <td>NaN</td>\n",
       "      <td>sub3</td>\n",
       "      <td>3</td>\n",
       "      <td>Bran</td>\n",
       "    </tr>\n",
       "  </tbody>\n",
       "</table>\n",
       "</div>"
      ],
      "text/plain": [
       "   id_x  Name_x subject_id  id_y Name_y\n",
       "0   2.0     Amy       sub2     1  Billy\n",
       "1   3.0   Allen       sub4     2  Brian\n",
       "2   4.0   Alice       sub6     4  Bryce\n",
       "3   5.0  Ayoung       sub5     5  Betty\n",
       "4   NaN     NaN       sub3     3   Bran"
      ]
     },
     "execution_count": 75,
     "metadata": {},
     "output_type": "execute_result"
    }
   ],
   "source": [
    "pd.merge(df1,df2, on='subject_id', how='right')"
   ]
  },
  {
   "cell_type": "markdown",
   "metadata": {
    "colab_type": "text",
    "collapsed": true,
    "id": "Dl4rw-2qVu6-"
   },
   "source": [
    "### Outer join"
   ]
  },
  {
   "cell_type": "code",
   "execution_count": 76,
   "metadata": {
    "colab": {},
    "colab_type": "code",
    "id": "-1vTEuQYVu6_",
    "outputId": "14be4c06-c83d-4e98-c892-d9405b2860c1"
   },
   "outputs": [
    {
     "name": "stdout",
     "output_type": "stream",
     "text": [
      "   id    Name subject_id\n",
      "0   1    Alex       sub1\n",
      "1   2     Amy       sub2\n",
      "2   3   Allen       sub4\n",
      "3   4   Alice       sub6\n",
      "4   5  Ayoung       sub5\n",
      "\n",
      "\n",
      "   id   Name subject_id\n",
      "0   1  Billy       sub2\n",
      "1   2  Brian       sub4\n",
      "2   3   Bran       sub3\n",
      "3   4  Bryce       sub6\n",
      "4   5  Betty       sub5\n"
     ]
    }
   ],
   "source": [
    "print (df1)\n",
    "print('\\n')\n",
    "print (df2)"
   ]
  },
  {
   "cell_type": "code",
   "execution_count": 77,
   "metadata": {
    "colab": {},
    "colab_type": "code",
    "id": "KIScseWBVu7A",
    "outputId": "7d129ea3-3b13-4efa-81af-d947d1ed02eb"
   },
   "outputs": [
    {
     "data": {
      "text/html": [
       "<div>\n",
       "<style scoped>\n",
       "    .dataframe tbody tr th:only-of-type {\n",
       "        vertical-align: middle;\n",
       "    }\n",
       "\n",
       "    .dataframe tbody tr th {\n",
       "        vertical-align: top;\n",
       "    }\n",
       "\n",
       "    .dataframe thead th {\n",
       "        text-align: right;\n",
       "    }\n",
       "</style>\n",
       "<table border=\"1\" class=\"dataframe\">\n",
       "  <thead>\n",
       "    <tr style=\"text-align: right;\">\n",
       "      <th></th>\n",
       "      <th>id_x</th>\n",
       "      <th>Name_x</th>\n",
       "      <th>subject_id</th>\n",
       "      <th>id_y</th>\n",
       "      <th>Name_y</th>\n",
       "    </tr>\n",
       "  </thead>\n",
       "  <tbody>\n",
       "    <tr>\n",
       "      <th>0</th>\n",
       "      <td>1.0</td>\n",
       "      <td>Alex</td>\n",
       "      <td>sub1</td>\n",
       "      <td>NaN</td>\n",
       "      <td>NaN</td>\n",
       "    </tr>\n",
       "    <tr>\n",
       "      <th>1</th>\n",
       "      <td>2.0</td>\n",
       "      <td>Amy</td>\n",
       "      <td>sub2</td>\n",
       "      <td>1.0</td>\n",
       "      <td>Billy</td>\n",
       "    </tr>\n",
       "    <tr>\n",
       "      <th>2</th>\n",
       "      <td>3.0</td>\n",
       "      <td>Allen</td>\n",
       "      <td>sub4</td>\n",
       "      <td>2.0</td>\n",
       "      <td>Brian</td>\n",
       "    </tr>\n",
       "    <tr>\n",
       "      <th>3</th>\n",
       "      <td>4.0</td>\n",
       "      <td>Alice</td>\n",
       "      <td>sub6</td>\n",
       "      <td>4.0</td>\n",
       "      <td>Bryce</td>\n",
       "    </tr>\n",
       "    <tr>\n",
       "      <th>4</th>\n",
       "      <td>5.0</td>\n",
       "      <td>Ayoung</td>\n",
       "      <td>sub5</td>\n",
       "      <td>5.0</td>\n",
       "      <td>Betty</td>\n",
       "    </tr>\n",
       "    <tr>\n",
       "      <th>5</th>\n",
       "      <td>NaN</td>\n",
       "      <td>NaN</td>\n",
       "      <td>sub3</td>\n",
       "      <td>3.0</td>\n",
       "      <td>Bran</td>\n",
       "    </tr>\n",
       "  </tbody>\n",
       "</table>\n",
       "</div>"
      ],
      "text/plain": [
       "   id_x  Name_x subject_id  id_y Name_y\n",
       "0   1.0    Alex       sub1   NaN    NaN\n",
       "1   2.0     Amy       sub2   1.0  Billy\n",
       "2   3.0   Allen       sub4   2.0  Brian\n",
       "3   4.0   Alice       sub6   4.0  Bryce\n",
       "4   5.0  Ayoung       sub5   5.0  Betty\n",
       "5   NaN     NaN       sub3   3.0   Bran"
      ]
     },
     "execution_count": 77,
     "metadata": {},
     "output_type": "execute_result"
    }
   ],
   "source": [
    "#take all values of subject_id\n",
    "pd.merge(df1,df2, how='outer', on='subject_id')"
   ]
  },
  {
   "cell_type": "markdown",
   "metadata": {
    "colab_type": "text",
    "collapsed": true,
    "id": "fv_Jdo9eVu7B"
   },
   "source": [
    "### Inner join"
   ]
  },
  {
   "cell_type": "code",
   "execution_count": 78,
   "metadata": {
    "colab": {},
    "colab_type": "code",
    "id": "NexeVtmoVu7B",
    "outputId": "5ace18de-4f1f-4072-b66c-6033a27f7cb5"
   },
   "outputs": [
    {
     "data": {
      "text/html": [
       "<div>\n",
       "<style scoped>\n",
       "    .dataframe tbody tr th:only-of-type {\n",
       "        vertical-align: middle;\n",
       "    }\n",
       "\n",
       "    .dataframe tbody tr th {\n",
       "        vertical-align: top;\n",
       "    }\n",
       "\n",
       "    .dataframe thead th {\n",
       "        text-align: right;\n",
       "    }\n",
       "</style>\n",
       "<table border=\"1\" class=\"dataframe\">\n",
       "  <thead>\n",
       "    <tr style=\"text-align: right;\">\n",
       "      <th></th>\n",
       "      <th>id_x</th>\n",
       "      <th>Name_x</th>\n",
       "      <th>subject_id</th>\n",
       "      <th>id_y</th>\n",
       "      <th>Name_y</th>\n",
       "    </tr>\n",
       "  </thead>\n",
       "  <tbody>\n",
       "    <tr>\n",
       "      <th>0</th>\n",
       "      <td>2</td>\n",
       "      <td>Amy</td>\n",
       "      <td>sub2</td>\n",
       "      <td>1</td>\n",
       "      <td>Billy</td>\n",
       "    </tr>\n",
       "    <tr>\n",
       "      <th>1</th>\n",
       "      <td>3</td>\n",
       "      <td>Allen</td>\n",
       "      <td>sub4</td>\n",
       "      <td>2</td>\n",
       "      <td>Brian</td>\n",
       "    </tr>\n",
       "    <tr>\n",
       "      <th>2</th>\n",
       "      <td>4</td>\n",
       "      <td>Alice</td>\n",
       "      <td>sub6</td>\n",
       "      <td>4</td>\n",
       "      <td>Bryce</td>\n",
       "    </tr>\n",
       "    <tr>\n",
       "      <th>3</th>\n",
       "      <td>5</td>\n",
       "      <td>Ayoung</td>\n",
       "      <td>sub5</td>\n",
       "      <td>5</td>\n",
       "      <td>Betty</td>\n",
       "    </tr>\n",
       "  </tbody>\n",
       "</table>\n",
       "</div>"
      ],
      "text/plain": [
       "   id_x  Name_x subject_id  id_y Name_y\n",
       "0     2     Amy       sub2     1  Billy\n",
       "1     3   Allen       sub4     2  Brian\n",
       "2     4   Alice       sub6     4  Bryce\n",
       "3     5  Ayoung       sub5     5  Betty"
      ]
     },
     "execution_count": 78,
     "metadata": {},
     "output_type": "execute_result"
    }
   ],
   "source": [
    "#take common values of subject_id\n",
    "pd.merge(df1, df2, on='subject_id', how='inner')"
   ]
  },
  {
   "cell_type": "code",
   "execution_count": 79,
   "metadata": {},
   "outputs": [],
   "source": [
    "?pd.merge"
   ]
  },
  {
   "cell_type": "code",
   "execution_count": 60,
   "metadata": {
    "colab": {},
    "colab_type": "code",
    "id": "KCi9-XCtVu7C",
    "outputId": "6870f446-c425-4108-9e96-b5841b026212"
   },
   "outputs": [
    {
     "data": {
      "text/html": [
       "<div>\n",
       "<style scoped>\n",
       "    .dataframe tbody tr th:only-of-type {\n",
       "        vertical-align: middle;\n",
       "    }\n",
       "\n",
       "    .dataframe tbody tr th {\n",
       "        vertical-align: top;\n",
       "    }\n",
       "\n",
       "    .dataframe thead th {\n",
       "        text-align: right;\n",
       "    }\n",
       "</style>\n",
       "<table border=\"1\" class=\"dataframe\">\n",
       "  <thead>\n",
       "    <tr style=\"text-align: right;\">\n",
       "      <th></th>\n",
       "      <th>id_x</th>\n",
       "      <th>Name_x</th>\n",
       "      <th>subject_id</th>\n",
       "      <th>id_y</th>\n",
       "      <th>Name_y</th>\n",
       "    </tr>\n",
       "  </thead>\n",
       "  <tbody>\n",
       "    <tr>\n",
       "      <th>0</th>\n",
       "      <td>1</td>\n",
       "      <td>Billy</td>\n",
       "      <td>sub2</td>\n",
       "      <td>2</td>\n",
       "      <td>Amy</td>\n",
       "    </tr>\n",
       "    <tr>\n",
       "      <th>1</th>\n",
       "      <td>2</td>\n",
       "      <td>Brian</td>\n",
       "      <td>sub4</td>\n",
       "      <td>3</td>\n",
       "      <td>Allen</td>\n",
       "    </tr>\n",
       "    <tr>\n",
       "      <th>2</th>\n",
       "      <td>4</td>\n",
       "      <td>Bryce</td>\n",
       "      <td>sub6</td>\n",
       "      <td>4</td>\n",
       "      <td>Alice</td>\n",
       "    </tr>\n",
       "    <tr>\n",
       "      <th>3</th>\n",
       "      <td>5</td>\n",
       "      <td>Betty</td>\n",
       "      <td>sub5</td>\n",
       "      <td>5</td>\n",
       "      <td>Ayoung</td>\n",
       "    </tr>\n",
       "  </tbody>\n",
       "</table>\n",
       "</div>"
      ],
      "text/plain": [
       "   id_x Name_x subject_id  id_y  Name_y\n",
       "0     1  Billy       sub2     2     Amy\n",
       "1     2  Brian       sub4     3   Allen\n",
       "2     4  Bryce       sub6     4   Alice\n",
       "3     5  Betty       sub5     5  Ayoung"
      ]
     },
     "execution_count": 60,
     "metadata": {},
     "output_type": "execute_result"
    }
   ],
   "source": [
    "pd.merge(df2, df1, on='subject_id', how='inner')"
   ]
  },
  {
   "cell_type": "markdown",
   "metadata": {
    "colab_type": "text",
    "id": "gUdkmziCVu7D"
   },
   "source": [
    "### Loading data from a file into a dataframe"
   ]
  },
  {
   "cell_type": "code",
   "execution_count": 80,
   "metadata": {},
   "outputs": [
    {
     "data": {
      "text/html": [
       "<div>\n",
       "<style scoped>\n",
       "    .dataframe tbody tr th:only-of-type {\n",
       "        vertical-align: middle;\n",
       "    }\n",
       "\n",
       "    .dataframe tbody tr th {\n",
       "        vertical-align: top;\n",
       "    }\n",
       "\n",
       "    .dataframe thead th {\n",
       "        text-align: right;\n",
       "    }\n",
       "</style>\n",
       "<table border=\"1\" class=\"dataframe\">\n",
       "  <thead>\n",
       "    <tr style=\"text-align: right;\">\n",
       "      <th></th>\n",
       "      <th>user_id|age|gender|occupation|zip_code</th>\n",
       "    </tr>\n",
       "  </thead>\n",
       "  <tbody>\n",
       "    <tr>\n",
       "      <th>0</th>\n",
       "      <td>1|24|M|technician|85711</td>\n",
       "    </tr>\n",
       "    <tr>\n",
       "      <th>1</th>\n",
       "      <td>2|53|F|other|94043</td>\n",
       "    </tr>\n",
       "    <tr>\n",
       "      <th>2</th>\n",
       "      <td>3|23|M|writer|32067</td>\n",
       "    </tr>\n",
       "    <tr>\n",
       "      <th>3</th>\n",
       "      <td>4|24|M|technician|43537</td>\n",
       "    </tr>\n",
       "    <tr>\n",
       "      <th>4</th>\n",
       "      <td>5|33|F|other|15213</td>\n",
       "    </tr>\n",
       "    <tr>\n",
       "      <th>5</th>\n",
       "      <td>6|42|M|executive|98101</td>\n",
       "    </tr>\n",
       "    <tr>\n",
       "      <th>6</th>\n",
       "      <td>7|57|M|administrator|91344</td>\n",
       "    </tr>\n",
       "    <tr>\n",
       "      <th>7</th>\n",
       "      <td>8|36|M|administrator|05201</td>\n",
       "    </tr>\n",
       "    <tr>\n",
       "      <th>8</th>\n",
       "      <td>9|29|M|student|01002</td>\n",
       "    </tr>\n",
       "    <tr>\n",
       "      <th>9</th>\n",
       "      <td>10|53|M|lawyer|90703</td>\n",
       "    </tr>\n",
       "    <tr>\n",
       "      <th>10</th>\n",
       "      <td>11|39|F|other|30329</td>\n",
       "    </tr>\n",
       "    <tr>\n",
       "      <th>11</th>\n",
       "      <td>12|28|F|other|06405</td>\n",
       "    </tr>\n",
       "    <tr>\n",
       "      <th>12</th>\n",
       "      <td>13|47|M|educator|29206</td>\n",
       "    </tr>\n",
       "    <tr>\n",
       "      <th>13</th>\n",
       "      <td>14|45|M|scientist|55106</td>\n",
       "    </tr>\n",
       "    <tr>\n",
       "      <th>14</th>\n",
       "      <td>15|49|F|educator|97301</td>\n",
       "    </tr>\n",
       "    <tr>\n",
       "      <th>15</th>\n",
       "      <td>16|21|M|entertainment|10309</td>\n",
       "    </tr>\n",
       "    <tr>\n",
       "      <th>16</th>\n",
       "      <td>17|30|M|programmer|06355</td>\n",
       "    </tr>\n",
       "    <tr>\n",
       "      <th>17</th>\n",
       "      <td>18|35|F|other|37212</td>\n",
       "    </tr>\n",
       "    <tr>\n",
       "      <th>18</th>\n",
       "      <td>19|40|M|librarian|02138</td>\n",
       "    </tr>\n",
       "    <tr>\n",
       "      <th>19</th>\n",
       "      <td>20|42|F|homemaker|95660</td>\n",
       "    </tr>\n",
       "    <tr>\n",
       "      <th>20</th>\n",
       "      <td>21|26|M|writer|30068</td>\n",
       "    </tr>\n",
       "    <tr>\n",
       "      <th>21</th>\n",
       "      <td>22|25|M|writer|40206</td>\n",
       "    </tr>\n",
       "    <tr>\n",
       "      <th>22</th>\n",
       "      <td>23|30|F|artist|48197</td>\n",
       "    </tr>\n",
       "    <tr>\n",
       "      <th>23</th>\n",
       "      <td>24|21|F|artist|94533</td>\n",
       "    </tr>\n",
       "    <tr>\n",
       "      <th>24</th>\n",
       "      <td>25|39|M|engineer|55107</td>\n",
       "    </tr>\n",
       "    <tr>\n",
       "      <th>25</th>\n",
       "      <td>26|49|M|engineer|21044</td>\n",
       "    </tr>\n",
       "    <tr>\n",
       "      <th>26</th>\n",
       "      <td>27|40|F|librarian|30030</td>\n",
       "    </tr>\n",
       "    <tr>\n",
       "      <th>27</th>\n",
       "      <td>28|32|M|writer|55369</td>\n",
       "    </tr>\n",
       "    <tr>\n",
       "      <th>28</th>\n",
       "      <td>29|41|M|programmer|94043</td>\n",
       "    </tr>\n",
       "    <tr>\n",
       "      <th>29</th>\n",
       "      <td>30|7|M|student|55436</td>\n",
       "    </tr>\n",
       "    <tr>\n",
       "      <th>...</th>\n",
       "      <td>...</td>\n",
       "    </tr>\n",
       "    <tr>\n",
       "      <th>913</th>\n",
       "      <td>914|44|F|other|08105</td>\n",
       "    </tr>\n",
       "    <tr>\n",
       "      <th>914</th>\n",
       "      <td>915|50|M|entertainment|60614</td>\n",
       "    </tr>\n",
       "    <tr>\n",
       "      <th>915</th>\n",
       "      <td>916|27|M|engineer|N2L5N</td>\n",
       "    </tr>\n",
       "    <tr>\n",
       "      <th>916</th>\n",
       "      <td>917|22|F|student|20006</td>\n",
       "    </tr>\n",
       "    <tr>\n",
       "      <th>917</th>\n",
       "      <td>918|40|M|scientist|70116</td>\n",
       "    </tr>\n",
       "    <tr>\n",
       "      <th>918</th>\n",
       "      <td>919|25|M|other|14216</td>\n",
       "    </tr>\n",
       "    <tr>\n",
       "      <th>919</th>\n",
       "      <td>920|30|F|artist|90008</td>\n",
       "    </tr>\n",
       "    <tr>\n",
       "      <th>920</th>\n",
       "      <td>921|20|F|student|98801</td>\n",
       "    </tr>\n",
       "    <tr>\n",
       "      <th>921</th>\n",
       "      <td>922|29|F|administrator|21114</td>\n",
       "    </tr>\n",
       "    <tr>\n",
       "      <th>922</th>\n",
       "      <td>923|21|M|student|E2E3R</td>\n",
       "    </tr>\n",
       "    <tr>\n",
       "      <th>923</th>\n",
       "      <td>924|29|M|other|11753</td>\n",
       "    </tr>\n",
       "    <tr>\n",
       "      <th>924</th>\n",
       "      <td>925|18|F|salesman|49036</td>\n",
       "    </tr>\n",
       "    <tr>\n",
       "      <th>925</th>\n",
       "      <td>926|49|M|entertainment|01701</td>\n",
       "    </tr>\n",
       "    <tr>\n",
       "      <th>926</th>\n",
       "      <td>927|23|M|programmer|55428</td>\n",
       "    </tr>\n",
       "    <tr>\n",
       "      <th>927</th>\n",
       "      <td>928|21|M|student|55408</td>\n",
       "    </tr>\n",
       "    <tr>\n",
       "      <th>928</th>\n",
       "      <td>929|44|M|scientist|53711</td>\n",
       "    </tr>\n",
       "    <tr>\n",
       "      <th>929</th>\n",
       "      <td>930|28|F|scientist|07310</td>\n",
       "    </tr>\n",
       "    <tr>\n",
       "      <th>930</th>\n",
       "      <td>931|60|M|educator|33556</td>\n",
       "    </tr>\n",
       "    <tr>\n",
       "      <th>931</th>\n",
       "      <td>932|58|M|educator|06437</td>\n",
       "    </tr>\n",
       "    <tr>\n",
       "      <th>932</th>\n",
       "      <td>933|28|M|student|48105</td>\n",
       "    </tr>\n",
       "    <tr>\n",
       "      <th>933</th>\n",
       "      <td>934|61|M|engineer|22902</td>\n",
       "    </tr>\n",
       "    <tr>\n",
       "      <th>934</th>\n",
       "      <td>935|42|M|doctor|66221</td>\n",
       "    </tr>\n",
       "    <tr>\n",
       "      <th>935</th>\n",
       "      <td>936|24|M|other|32789</td>\n",
       "    </tr>\n",
       "    <tr>\n",
       "      <th>936</th>\n",
       "      <td>937|48|M|educator|98072</td>\n",
       "    </tr>\n",
       "    <tr>\n",
       "      <th>937</th>\n",
       "      <td>938|38|F|technician|55038</td>\n",
       "    </tr>\n",
       "    <tr>\n",
       "      <th>938</th>\n",
       "      <td>939|26|F|student|33319</td>\n",
       "    </tr>\n",
       "    <tr>\n",
       "      <th>939</th>\n",
       "      <td>940|32|M|administrator|02215</td>\n",
       "    </tr>\n",
       "    <tr>\n",
       "      <th>940</th>\n",
       "      <td>941|20|M|student|97229</td>\n",
       "    </tr>\n",
       "    <tr>\n",
       "      <th>941</th>\n",
       "      <td>942|48|F|librarian|78209</td>\n",
       "    </tr>\n",
       "    <tr>\n",
       "      <th>942</th>\n",
       "      <td>943|22|M|student|77841</td>\n",
       "    </tr>\n",
       "  </tbody>\n",
       "</table>\n",
       "<p>943 rows × 1 columns</p>\n",
       "</div>"
      ],
      "text/plain": [
       "    user_id|age|gender|occupation|zip_code\n",
       "0                  1|24|M|technician|85711\n",
       "1                       2|53|F|other|94043\n",
       "2                      3|23|M|writer|32067\n",
       "3                  4|24|M|technician|43537\n",
       "4                       5|33|F|other|15213\n",
       "5                   6|42|M|executive|98101\n",
       "6               7|57|M|administrator|91344\n",
       "7               8|36|M|administrator|05201\n",
       "8                     9|29|M|student|01002\n",
       "9                     10|53|M|lawyer|90703\n",
       "10                     11|39|F|other|30329\n",
       "11                     12|28|F|other|06405\n",
       "12                  13|47|M|educator|29206\n",
       "13                 14|45|M|scientist|55106\n",
       "14                  15|49|F|educator|97301\n",
       "15             16|21|M|entertainment|10309\n",
       "16                17|30|M|programmer|06355\n",
       "17                     18|35|F|other|37212\n",
       "18                 19|40|M|librarian|02138\n",
       "19                 20|42|F|homemaker|95660\n",
       "20                    21|26|M|writer|30068\n",
       "21                    22|25|M|writer|40206\n",
       "22                    23|30|F|artist|48197\n",
       "23                    24|21|F|artist|94533\n",
       "24                  25|39|M|engineer|55107\n",
       "25                  26|49|M|engineer|21044\n",
       "26                 27|40|F|librarian|30030\n",
       "27                    28|32|M|writer|55369\n",
       "28                29|41|M|programmer|94043\n",
       "29                    30|7|M|student|55436\n",
       "..                                     ...\n",
       "913                   914|44|F|other|08105\n",
       "914           915|50|M|entertainment|60614\n",
       "915                916|27|M|engineer|N2L5N\n",
       "916                 917|22|F|student|20006\n",
       "917               918|40|M|scientist|70116\n",
       "918                   919|25|M|other|14216\n",
       "919                  920|30|F|artist|90008\n",
       "920                 921|20|F|student|98801\n",
       "921           922|29|F|administrator|21114\n",
       "922                 923|21|M|student|E2E3R\n",
       "923                   924|29|M|other|11753\n",
       "924                925|18|F|salesman|49036\n",
       "925           926|49|M|entertainment|01701\n",
       "926              927|23|M|programmer|55428\n",
       "927                 928|21|M|student|55408\n",
       "928               929|44|M|scientist|53711\n",
       "929               930|28|F|scientist|07310\n",
       "930                931|60|M|educator|33556\n",
       "931                932|58|M|educator|06437\n",
       "932                 933|28|M|student|48105\n",
       "933                934|61|M|engineer|22902\n",
       "934                  935|42|M|doctor|66221\n",
       "935                   936|24|M|other|32789\n",
       "936                937|48|M|educator|98072\n",
       "937              938|38|F|technician|55038\n",
       "938                 939|26|F|student|33319\n",
       "939           940|32|M|administrator|02215\n",
       "940                 941|20|M|student|97229\n",
       "941               942|48|F|librarian|78209\n",
       "942                 943|22|M|student|77841\n",
       "\n",
       "[943 rows x 1 columns]"
      ]
     },
     "execution_count": 80,
     "metadata": {},
     "output_type": "execute_result"
    }
   ],
   "source": [
    "s = pd.read_csv('data/gender.txt')\n",
    "s"
   ]
  },
  {
   "cell_type": "code",
   "execution_count": 83,
   "metadata": {},
   "outputs": [],
   "source": [
    "?pd.read_csv"
   ]
  },
  {
   "cell_type": "code",
   "execution_count": 81,
   "metadata": {
    "colab": {},
    "colab_type": "code",
    "id": "_OjXZ77lVu7D",
    "outputId": "e551b42d-513b-4a26-bd90-026d5ca71aab"
   },
   "outputs": [
    {
     "data": {
      "text/html": [
       "<div>\n",
       "<style scoped>\n",
       "    .dataframe tbody tr th:only-of-type {\n",
       "        vertical-align: middle;\n",
       "    }\n",
       "\n",
       "    .dataframe tbody tr th {\n",
       "        vertical-align: top;\n",
       "    }\n",
       "\n",
       "    .dataframe thead th {\n",
       "        text-align: right;\n",
       "    }\n",
       "</style>\n",
       "<table border=\"1\" class=\"dataframe\">\n",
       "  <thead>\n",
       "    <tr style=\"text-align: right;\">\n",
       "      <th></th>\n",
       "      <th>age</th>\n",
       "      <th>gender</th>\n",
       "      <th>occupation</th>\n",
       "      <th>zip_code</th>\n",
       "    </tr>\n",
       "    <tr>\n",
       "      <th>user_id</th>\n",
       "      <th></th>\n",
       "      <th></th>\n",
       "      <th></th>\n",
       "      <th></th>\n",
       "    </tr>\n",
       "  </thead>\n",
       "  <tbody>\n",
       "    <tr>\n",
       "      <th>1</th>\n",
       "      <td>24</td>\n",
       "      <td>M</td>\n",
       "      <td>technician</td>\n",
       "      <td>85711</td>\n",
       "    </tr>\n",
       "    <tr>\n",
       "      <th>2</th>\n",
       "      <td>53</td>\n",
       "      <td>F</td>\n",
       "      <td>other</td>\n",
       "      <td>94043</td>\n",
       "    </tr>\n",
       "    <tr>\n",
       "      <th>3</th>\n",
       "      <td>23</td>\n",
       "      <td>M</td>\n",
       "      <td>writer</td>\n",
       "      <td>32067</td>\n",
       "    </tr>\n",
       "    <tr>\n",
       "      <th>4</th>\n",
       "      <td>24</td>\n",
       "      <td>M</td>\n",
       "      <td>technician</td>\n",
       "      <td>43537</td>\n",
       "    </tr>\n",
       "    <tr>\n",
       "      <th>5</th>\n",
       "      <td>33</td>\n",
       "      <td>F</td>\n",
       "      <td>other</td>\n",
       "      <td>15213</td>\n",
       "    </tr>\n",
       "    <tr>\n",
       "      <th>6</th>\n",
       "      <td>42</td>\n",
       "      <td>M</td>\n",
       "      <td>executive</td>\n",
       "      <td>98101</td>\n",
       "    </tr>\n",
       "    <tr>\n",
       "      <th>7</th>\n",
       "      <td>57</td>\n",
       "      <td>M</td>\n",
       "      <td>administrator</td>\n",
       "      <td>91344</td>\n",
       "    </tr>\n",
       "    <tr>\n",
       "      <th>8</th>\n",
       "      <td>36</td>\n",
       "      <td>M</td>\n",
       "      <td>administrator</td>\n",
       "      <td>05201</td>\n",
       "    </tr>\n",
       "    <tr>\n",
       "      <th>9</th>\n",
       "      <td>29</td>\n",
       "      <td>M</td>\n",
       "      <td>student</td>\n",
       "      <td>01002</td>\n",
       "    </tr>\n",
       "    <tr>\n",
       "      <th>10</th>\n",
       "      <td>53</td>\n",
       "      <td>M</td>\n",
       "      <td>lawyer</td>\n",
       "      <td>90703</td>\n",
       "    </tr>\n",
       "    <tr>\n",
       "      <th>11</th>\n",
       "      <td>39</td>\n",
       "      <td>F</td>\n",
       "      <td>other</td>\n",
       "      <td>30329</td>\n",
       "    </tr>\n",
       "    <tr>\n",
       "      <th>12</th>\n",
       "      <td>28</td>\n",
       "      <td>F</td>\n",
       "      <td>other</td>\n",
       "      <td>06405</td>\n",
       "    </tr>\n",
       "    <tr>\n",
       "      <th>13</th>\n",
       "      <td>47</td>\n",
       "      <td>M</td>\n",
       "      <td>educator</td>\n",
       "      <td>29206</td>\n",
       "    </tr>\n",
       "    <tr>\n",
       "      <th>14</th>\n",
       "      <td>45</td>\n",
       "      <td>M</td>\n",
       "      <td>scientist</td>\n",
       "      <td>55106</td>\n",
       "    </tr>\n",
       "    <tr>\n",
       "      <th>15</th>\n",
       "      <td>49</td>\n",
       "      <td>F</td>\n",
       "      <td>educator</td>\n",
       "      <td>97301</td>\n",
       "    </tr>\n",
       "    <tr>\n",
       "      <th>16</th>\n",
       "      <td>21</td>\n",
       "      <td>M</td>\n",
       "      <td>entertainment</td>\n",
       "      <td>10309</td>\n",
       "    </tr>\n",
       "    <tr>\n",
       "      <th>17</th>\n",
       "      <td>30</td>\n",
       "      <td>M</td>\n",
       "      <td>programmer</td>\n",
       "      <td>06355</td>\n",
       "    </tr>\n",
       "    <tr>\n",
       "      <th>18</th>\n",
       "      <td>35</td>\n",
       "      <td>F</td>\n",
       "      <td>other</td>\n",
       "      <td>37212</td>\n",
       "    </tr>\n",
       "    <tr>\n",
       "      <th>19</th>\n",
       "      <td>40</td>\n",
       "      <td>M</td>\n",
       "      <td>librarian</td>\n",
       "      <td>02138</td>\n",
       "    </tr>\n",
       "    <tr>\n",
       "      <th>20</th>\n",
       "      <td>42</td>\n",
       "      <td>F</td>\n",
       "      <td>homemaker</td>\n",
       "      <td>95660</td>\n",
       "    </tr>\n",
       "    <tr>\n",
       "      <th>21</th>\n",
       "      <td>26</td>\n",
       "      <td>M</td>\n",
       "      <td>writer</td>\n",
       "      <td>30068</td>\n",
       "    </tr>\n",
       "    <tr>\n",
       "      <th>22</th>\n",
       "      <td>25</td>\n",
       "      <td>M</td>\n",
       "      <td>writer</td>\n",
       "      <td>40206</td>\n",
       "    </tr>\n",
       "    <tr>\n",
       "      <th>23</th>\n",
       "      <td>30</td>\n",
       "      <td>F</td>\n",
       "      <td>artist</td>\n",
       "      <td>48197</td>\n",
       "    </tr>\n",
       "    <tr>\n",
       "      <th>24</th>\n",
       "      <td>21</td>\n",
       "      <td>F</td>\n",
       "      <td>artist</td>\n",
       "      <td>94533</td>\n",
       "    </tr>\n",
       "    <tr>\n",
       "      <th>25</th>\n",
       "      <td>39</td>\n",
       "      <td>M</td>\n",
       "      <td>engineer</td>\n",
       "      <td>55107</td>\n",
       "    </tr>\n",
       "    <tr>\n",
       "      <th>26</th>\n",
       "      <td>49</td>\n",
       "      <td>M</td>\n",
       "      <td>engineer</td>\n",
       "      <td>21044</td>\n",
       "    </tr>\n",
       "    <tr>\n",
       "      <th>27</th>\n",
       "      <td>40</td>\n",
       "      <td>F</td>\n",
       "      <td>librarian</td>\n",
       "      <td>30030</td>\n",
       "    </tr>\n",
       "    <tr>\n",
       "      <th>28</th>\n",
       "      <td>32</td>\n",
       "      <td>M</td>\n",
       "      <td>writer</td>\n",
       "      <td>55369</td>\n",
       "    </tr>\n",
       "    <tr>\n",
       "      <th>29</th>\n",
       "      <td>41</td>\n",
       "      <td>M</td>\n",
       "      <td>programmer</td>\n",
       "      <td>94043</td>\n",
       "    </tr>\n",
       "    <tr>\n",
       "      <th>30</th>\n",
       "      <td>7</td>\n",
       "      <td>M</td>\n",
       "      <td>student</td>\n",
       "      <td>55436</td>\n",
       "    </tr>\n",
       "    <tr>\n",
       "      <th>...</th>\n",
       "      <td>...</td>\n",
       "      <td>...</td>\n",
       "      <td>...</td>\n",
       "      <td>...</td>\n",
       "    </tr>\n",
       "    <tr>\n",
       "      <th>914</th>\n",
       "      <td>44</td>\n",
       "      <td>F</td>\n",
       "      <td>other</td>\n",
       "      <td>08105</td>\n",
       "    </tr>\n",
       "    <tr>\n",
       "      <th>915</th>\n",
       "      <td>50</td>\n",
       "      <td>M</td>\n",
       "      <td>entertainment</td>\n",
       "      <td>60614</td>\n",
       "    </tr>\n",
       "    <tr>\n",
       "      <th>916</th>\n",
       "      <td>27</td>\n",
       "      <td>M</td>\n",
       "      <td>engineer</td>\n",
       "      <td>N2L5N</td>\n",
       "    </tr>\n",
       "    <tr>\n",
       "      <th>917</th>\n",
       "      <td>22</td>\n",
       "      <td>F</td>\n",
       "      <td>student</td>\n",
       "      <td>20006</td>\n",
       "    </tr>\n",
       "    <tr>\n",
       "      <th>918</th>\n",
       "      <td>40</td>\n",
       "      <td>M</td>\n",
       "      <td>scientist</td>\n",
       "      <td>70116</td>\n",
       "    </tr>\n",
       "    <tr>\n",
       "      <th>919</th>\n",
       "      <td>25</td>\n",
       "      <td>M</td>\n",
       "      <td>other</td>\n",
       "      <td>14216</td>\n",
       "    </tr>\n",
       "    <tr>\n",
       "      <th>920</th>\n",
       "      <td>30</td>\n",
       "      <td>F</td>\n",
       "      <td>artist</td>\n",
       "      <td>90008</td>\n",
       "    </tr>\n",
       "    <tr>\n",
       "      <th>921</th>\n",
       "      <td>20</td>\n",
       "      <td>F</td>\n",
       "      <td>student</td>\n",
       "      <td>98801</td>\n",
       "    </tr>\n",
       "    <tr>\n",
       "      <th>922</th>\n",
       "      <td>29</td>\n",
       "      <td>F</td>\n",
       "      <td>administrator</td>\n",
       "      <td>21114</td>\n",
       "    </tr>\n",
       "    <tr>\n",
       "      <th>923</th>\n",
       "      <td>21</td>\n",
       "      <td>M</td>\n",
       "      <td>student</td>\n",
       "      <td>E2E3R</td>\n",
       "    </tr>\n",
       "    <tr>\n",
       "      <th>924</th>\n",
       "      <td>29</td>\n",
       "      <td>M</td>\n",
       "      <td>other</td>\n",
       "      <td>11753</td>\n",
       "    </tr>\n",
       "    <tr>\n",
       "      <th>925</th>\n",
       "      <td>18</td>\n",
       "      <td>F</td>\n",
       "      <td>salesman</td>\n",
       "      <td>49036</td>\n",
       "    </tr>\n",
       "    <tr>\n",
       "      <th>926</th>\n",
       "      <td>49</td>\n",
       "      <td>M</td>\n",
       "      <td>entertainment</td>\n",
       "      <td>01701</td>\n",
       "    </tr>\n",
       "    <tr>\n",
       "      <th>927</th>\n",
       "      <td>23</td>\n",
       "      <td>M</td>\n",
       "      <td>programmer</td>\n",
       "      <td>55428</td>\n",
       "    </tr>\n",
       "    <tr>\n",
       "      <th>928</th>\n",
       "      <td>21</td>\n",
       "      <td>M</td>\n",
       "      <td>student</td>\n",
       "      <td>55408</td>\n",
       "    </tr>\n",
       "    <tr>\n",
       "      <th>929</th>\n",
       "      <td>44</td>\n",
       "      <td>M</td>\n",
       "      <td>scientist</td>\n",
       "      <td>53711</td>\n",
       "    </tr>\n",
       "    <tr>\n",
       "      <th>930</th>\n",
       "      <td>28</td>\n",
       "      <td>F</td>\n",
       "      <td>scientist</td>\n",
       "      <td>07310</td>\n",
       "    </tr>\n",
       "    <tr>\n",
       "      <th>931</th>\n",
       "      <td>60</td>\n",
       "      <td>M</td>\n",
       "      <td>educator</td>\n",
       "      <td>33556</td>\n",
       "    </tr>\n",
       "    <tr>\n",
       "      <th>932</th>\n",
       "      <td>58</td>\n",
       "      <td>M</td>\n",
       "      <td>educator</td>\n",
       "      <td>06437</td>\n",
       "    </tr>\n",
       "    <tr>\n",
       "      <th>933</th>\n",
       "      <td>28</td>\n",
       "      <td>M</td>\n",
       "      <td>student</td>\n",
       "      <td>48105</td>\n",
       "    </tr>\n",
       "    <tr>\n",
       "      <th>934</th>\n",
       "      <td>61</td>\n",
       "      <td>M</td>\n",
       "      <td>engineer</td>\n",
       "      <td>22902</td>\n",
       "    </tr>\n",
       "    <tr>\n",
       "      <th>935</th>\n",
       "      <td>42</td>\n",
       "      <td>M</td>\n",
       "      <td>doctor</td>\n",
       "      <td>66221</td>\n",
       "    </tr>\n",
       "    <tr>\n",
       "      <th>936</th>\n",
       "      <td>24</td>\n",
       "      <td>M</td>\n",
       "      <td>other</td>\n",
       "      <td>32789</td>\n",
       "    </tr>\n",
       "    <tr>\n",
       "      <th>937</th>\n",
       "      <td>48</td>\n",
       "      <td>M</td>\n",
       "      <td>educator</td>\n",
       "      <td>98072</td>\n",
       "    </tr>\n",
       "    <tr>\n",
       "      <th>938</th>\n",
       "      <td>38</td>\n",
       "      <td>F</td>\n",
       "      <td>technician</td>\n",
       "      <td>55038</td>\n",
       "    </tr>\n",
       "    <tr>\n",
       "      <th>939</th>\n",
       "      <td>26</td>\n",
       "      <td>F</td>\n",
       "      <td>student</td>\n",
       "      <td>33319</td>\n",
       "    </tr>\n",
       "    <tr>\n",
       "      <th>940</th>\n",
       "      <td>32</td>\n",
       "      <td>M</td>\n",
       "      <td>administrator</td>\n",
       "      <td>02215</td>\n",
       "    </tr>\n",
       "    <tr>\n",
       "      <th>941</th>\n",
       "      <td>20</td>\n",
       "      <td>M</td>\n",
       "      <td>student</td>\n",
       "      <td>97229</td>\n",
       "    </tr>\n",
       "    <tr>\n",
       "      <th>942</th>\n",
       "      <td>48</td>\n",
       "      <td>F</td>\n",
       "      <td>librarian</td>\n",
       "      <td>78209</td>\n",
       "    </tr>\n",
       "    <tr>\n",
       "      <th>943</th>\n",
       "      <td>22</td>\n",
       "      <td>M</td>\n",
       "      <td>student</td>\n",
       "      <td>77841</td>\n",
       "    </tr>\n",
       "  </tbody>\n",
       "</table>\n",
       "<p>943 rows × 4 columns</p>\n",
       "</div>"
      ],
      "text/plain": [
       "         age gender     occupation zip_code\n",
       "user_id                                    \n",
       "1         24      M     technician    85711\n",
       "2         53      F          other    94043\n",
       "3         23      M         writer    32067\n",
       "4         24      M     technician    43537\n",
       "5         33      F          other    15213\n",
       "6         42      M      executive    98101\n",
       "7         57      M  administrator    91344\n",
       "8         36      M  administrator    05201\n",
       "9         29      M        student    01002\n",
       "10        53      M         lawyer    90703\n",
       "11        39      F          other    30329\n",
       "12        28      F          other    06405\n",
       "13        47      M       educator    29206\n",
       "14        45      M      scientist    55106\n",
       "15        49      F       educator    97301\n",
       "16        21      M  entertainment    10309\n",
       "17        30      M     programmer    06355\n",
       "18        35      F          other    37212\n",
       "19        40      M      librarian    02138\n",
       "20        42      F      homemaker    95660\n",
       "21        26      M         writer    30068\n",
       "22        25      M         writer    40206\n",
       "23        30      F         artist    48197\n",
       "24        21      F         artist    94533\n",
       "25        39      M       engineer    55107\n",
       "26        49      M       engineer    21044\n",
       "27        40      F      librarian    30030\n",
       "28        32      M         writer    55369\n",
       "29        41      M     programmer    94043\n",
       "30         7      M        student    55436\n",
       "...      ...    ...            ...      ...\n",
       "914       44      F          other    08105\n",
       "915       50      M  entertainment    60614\n",
       "916       27      M       engineer    N2L5N\n",
       "917       22      F        student    20006\n",
       "918       40      M      scientist    70116\n",
       "919       25      M          other    14216\n",
       "920       30      F         artist    90008\n",
       "921       20      F        student    98801\n",
       "922       29      F  administrator    21114\n",
       "923       21      M        student    E2E3R\n",
       "924       29      M          other    11753\n",
       "925       18      F       salesman    49036\n",
       "926       49      M  entertainment    01701\n",
       "927       23      M     programmer    55428\n",
       "928       21      M        student    55408\n",
       "929       44      M      scientist    53711\n",
       "930       28      F      scientist    07310\n",
       "931       60      M       educator    33556\n",
       "932       58      M       educator    06437\n",
       "933       28      M        student    48105\n",
       "934       61      M       engineer    22902\n",
       "935       42      M         doctor    66221\n",
       "936       24      M          other    32789\n",
       "937       48      M       educator    98072\n",
       "938       38      F     technician    55038\n",
       "939       26      F        student    33319\n",
       "940       32      M  administrator    02215\n",
       "941       20      M        student    97229\n",
       "942       48      F      librarian    78209\n",
       "943       22      M        student    77841\n",
       "\n",
       "[943 rows x 4 columns]"
      ]
     },
     "execution_count": 81,
     "metadata": {},
     "output_type": "execute_result"
    }
   ],
   "source": [
    "import pandas as pd\n",
    "s = pd.read_csv('data/gender.txt', sep='|', index_col = 'user_id')\n",
    "s"
   ]
  },
  {
   "cell_type": "code",
   "execution_count": 82,
   "metadata": {
    "colab": {},
    "colab_type": "code",
    "id": "RSzhvZQiVu7E",
    "outputId": "f7709e21-be83-4479-f50c-b86e00857485"
   },
   "outputs": [
    {
     "data": {
      "text/plain": [
       "4"
      ]
     },
     "execution_count": 82,
     "metadata": {},
     "output_type": "execute_result"
    }
   ],
   "source": [
    "len(s.columns)"
   ]
  }
 ],
 "metadata": {
  "colab": {
   "name": "Tutorial_Pandas.ipynb",
   "provenance": [],
   "version": "0.3.2"
  },
  "kernelspec": {
   "display_name": "Python 3",
   "language": "python",
   "name": "python3"
  },
  "language_info": {
   "codemirror_mode": {
    "name": "ipython",
    "version": 3
   },
   "file_extension": ".py",
   "mimetype": "text/x-python",
   "name": "python",
   "nbconvert_exporter": "python",
   "pygments_lexer": "ipython3",
   "version": "3.7.3"
  }
 },
 "nbformat": 4,
 "nbformat_minor": 1
}
